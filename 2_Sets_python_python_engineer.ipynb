{
 "cells": [
  {
   "cell_type": "code",
   "execution_count": 1,
   "id": "50598e2c",
   "metadata": {},
   "outputs": [],
   "source": [
    "#set is a collection data tyepe ehich is unmutable and unordered collection"
   ]
  },
  {
   "cell_type": "code",
   "execution_count": 2,
   "id": "4d448e38",
   "metadata": {},
   "outputs": [
    {
     "name": "stdout",
     "output_type": "stream",
     "text": [
      "{1, 2, 3}\n"
     ]
    }
   ],
   "source": [
    "myset= {1,2,3,1,2}\n",
    "print(myset)\n",
    "\n",
    "#doesnt allow duplicate"
   ]
  },
  {
   "cell_type": "code",
   "execution_count": 6,
   "id": "77aa3388",
   "metadata": {},
   "outputs": [
    {
     "name": "stdout",
     "output_type": "stream",
     "text": [
      "{'o', 'H', 'l', 'e'}\n"
     ]
    }
   ],
   "source": [
    "myset= set(\"Hello\")\n",
    "print(myset)\n",
    "\n",
    "#unordered collection of items"
   ]
  },
  {
   "cell_type": "code",
   "execution_count": 8,
   "id": "4f78c109",
   "metadata": {},
   "outputs": [
    {
     "name": "stdout",
     "output_type": "stream",
     "text": [
      "<class 'dict'>\n"
     ]
    }
   ],
   "source": [
    "myset= {}\n",
    "print(type(myset))\n",
    "#so we see here this a dictionary"
   ]
  },
  {
   "cell_type": "code",
   "execution_count": 9,
   "id": "2ba894d2",
   "metadata": {},
   "outputs": [
    {
     "name": "stdout",
     "output_type": "stream",
     "text": [
      "<class 'set'>\n"
     ]
    }
   ],
   "source": [
    "#create an empty set using set method\n",
    "myset= set()\n",
    "print(type(myset))"
   ]
  },
  {
   "cell_type": "code",
   "execution_count": 10,
   "id": "279de42c",
   "metadata": {},
   "outputs": [
    {
     "name": "stdout",
     "output_type": "stream",
     "text": [
      "{1, 2, 3}\n"
     ]
    }
   ],
   "source": [
    "#set is mutable so we can add element\n",
    "myset.add(1)\n",
    "myset.add(2)\n",
    "myset.add(3)\n",
    "\n",
    "print(myset)"
   ]
  },
  {
   "cell_type": "code",
   "execution_count": 12,
   "id": "ff1476f6",
   "metadata": {},
   "outputs": [
    {
     "ename": "KeyError",
     "evalue": "4",
     "output_type": "error",
     "traceback": [
      "\u001b[1;31m---------------------------------------------------------------------------\u001b[0m",
      "\u001b[1;31mKeyError\u001b[0m                                  Traceback (most recent call last)",
      "\u001b[1;32m<ipython-input-12-5600f1dbe9da>\u001b[0m in \u001b[0;36m<module>\u001b[1;34m\u001b[0m\n\u001b[0;32m      1\u001b[0m \u001b[1;31m#if we want to remove an element which is not present it raises key error\u001b[0m\u001b[1;33m\u001b[0m\u001b[1;33m\u001b[0m\u001b[1;33m\u001b[0m\u001b[0m\n\u001b[0;32m      2\u001b[0m \u001b[1;33m\u001b[0m\u001b[0m\n\u001b[1;32m----> 3\u001b[1;33m \u001b[0mmyset\u001b[0m\u001b[1;33m.\u001b[0m\u001b[0mremove\u001b[0m\u001b[1;33m(\u001b[0m\u001b[1;36m4\u001b[0m\u001b[1;33m)\u001b[0m\u001b[1;33m\u001b[0m\u001b[1;33m\u001b[0m\u001b[0m\n\u001b[0m\u001b[0;32m      4\u001b[0m \u001b[1;33m\u001b[0m\u001b[0m\n",
      "\u001b[1;31mKeyError\u001b[0m: 4"
     ]
    }
   ],
   "source": [
    "#if we want to remove an element which is not present it raises key error\n",
    "\n",
    "myset.remove(4)\n",
    "\n"
   ]
  },
  {
   "cell_type": "code",
   "execution_count": 13,
   "id": "d339690b",
   "metadata": {},
   "outputs": [
    {
     "name": "stdout",
     "output_type": "stream",
     "text": [
      "{1, 2}\n",
      "{1, 2}\n"
     ]
    }
   ],
   "source": [
    "#using dicsrad mehod\n",
    "\n",
    "myset.discard(3)\n",
    "print(myset)\n",
    "myset.discard(4)   ###discard method doesnt raise an error if an elment is not found\n",
    "print(myset)"
   ]
  },
  {
   "cell_type": "code",
   "execution_count": 17,
   "id": "227bd8b2",
   "metadata": {},
   "outputs": [
    {
     "name": "stdout",
     "output_type": "stream",
     "text": [
      "{1, 2, 3}\n"
     ]
    }
   ],
   "source": [
    "myset= {1,2,3,1,2}\n",
    "print(myset)"
   ]
  },
  {
   "cell_type": "code",
   "execution_count": 18,
   "id": "717efbdd",
   "metadata": {},
   "outputs": [
    {
     "name": "stdout",
     "output_type": "stream",
     "text": [
      "{2, 3}\n",
      "2\n"
     ]
    }
   ],
   "source": [
    "#since set is an unordered collection so pop method removes arbitrary element from set and removes it\n",
    "\n",
    "myset.pop()\n",
    "print(myset)\n",
    "print(myset.pop())"
   ]
  },
  {
   "cell_type": "code",
   "execution_count": 19,
   "id": "48374735",
   "metadata": {},
   "outputs": [
    {
     "name": "stdout",
     "output_type": "stream",
     "text": [
      "{1, 2, 3}\n"
     ]
    }
   ],
   "source": [
    "#iterating over set using for in loop\n",
    "myset= {1,2,3,1,2}\n",
    "print(myset)\n"
   ]
  },
  {
   "cell_type": "code",
   "execution_count": 21,
   "id": "a6e88981",
   "metadata": {},
   "outputs": [
    {
     "name": "stdout",
     "output_type": "stream",
     "text": [
      "1\n",
      "2\n",
      "3\n"
     ]
    }
   ],
   "source": [
    "for x in myset:\n",
    "    print(x)"
   ]
  },
  {
   "cell_type": "code",
   "execution_count": 26,
   "id": "7eb587c1",
   "metadata": {},
   "outputs": [
    {
     "name": "stdout",
     "output_type": "stream",
     "text": [
      "yes\n"
     ]
    }
   ],
   "source": [
    "#check if elemnt is availble in set\n",
    "\n",
    "if 1 in myset:\n",
    "    print(\"yes\")\n",
    "\n",
    "\n",
    "if 4 in myset:\n",
    "    print(\"yes\")\n",
    "    "
   ]
  },
  {
   "cell_type": "code",
   "execution_count": 32,
   "id": "f168cde6",
   "metadata": {},
   "outputs": [],
   "source": [
    "odds ={1,3,5,7,9}\n",
    "evens ={0,2,4,6,8}\n",
    "primes = {2,3,5,7}\n",
    "\n",
    "#union operation\n",
    "\n"
   ]
  },
  {
   "cell_type": "code",
   "execution_count": 33,
   "id": "2b05717a",
   "metadata": {},
   "outputs": [
    {
     "name": "stdout",
     "output_type": "stream",
     "text": [
      "{0, 1, 2, 3, 4, 5, 6, 7, 8, 9}\n"
     ]
    }
   ],
   "source": [
    "#union operation\n",
    "#union combines elements from 2 set without duplication\n",
    "\n",
    "u = odds.union(evens)\n",
    "print(u)\n"
   ]
  },
  {
   "cell_type": "code",
   "execution_count": 34,
   "id": "63ccab52",
   "metadata": {},
   "outputs": [
    {
     "name": "stdout",
     "output_type": "stream",
     "text": [
      "set()\n"
     ]
    }
   ],
   "source": [
    "##intesection of 2 sets qill only take elments that are found in both set \n",
    "\n",
    "i = odds.intersection(evens)\n",
    "print(i)\n",
    "\n",
    "#as odds and evens have no same elemts"
   ]
  },
  {
   "cell_type": "code",
   "execution_count": 35,
   "id": "ab54a2d5",
   "metadata": {},
   "outputs": [
    {
     "name": "stdout",
     "output_type": "stream",
     "text": [
      "{3, 5, 7}\n"
     ]
    }
   ],
   "source": [
    "\n",
    "i = odds.intersection(primes)\n",
    "print(i)"
   ]
  },
  {
   "cell_type": "code",
   "execution_count": 36,
   "id": "531264df",
   "metadata": {},
   "outputs": [
    {
     "name": "stdout",
     "output_type": "stream",
     "text": [
      "{2}\n"
     ]
    }
   ],
   "source": [
    "\n",
    "i = evens.intersection(primes)\n",
    "print(i)"
   ]
  },
  {
   "cell_type": "code",
   "execution_count": 37,
   "id": "48d6307c",
   "metadata": {},
   "outputs": [
    {
     "name": "stdout",
     "output_type": "stream",
     "text": [
      "{4, 5, 6, 7, 8, 9}\n"
     ]
    }
   ],
   "source": [
    "#difference o0f 2 set\n",
    "\n",
    "setA ={1,2,3,4,5,6,7,8,9}\n",
    "setB ={1,2,3,10,11,12}\n",
    "\n",
    "#difference  will return  all elemets from 1st set A that are not in 2nd set B\n",
    "\n",
    "diff =setA.difference(setB)\n",
    "print(diff)"
   ]
  },
  {
   "cell_type": "code",
   "execution_count": 38,
   "id": "412646bb",
   "metadata": {},
   "outputs": [
    {
     "name": "stdout",
     "output_type": "stream",
     "text": [
      "{4, 5, 6, 7, 8, 9, 10, 11, 12}\n"
     ]
    }
   ],
   "source": [
    "#symmetric_difference\n",
    "#it returns a set will all the elements from setA and Set B but not the elemets present in both the sets A (1,2,3) is excluded and B \n",
    "\n",
    "diff =setA.symmetric_difference(setB)\n",
    "print(diff)\n"
   ]
  },
  {
   "cell_type": "code",
   "execution_count": 39,
   "id": "0d755ddb",
   "metadata": {},
   "outputs": [],
   "source": [
    "#union,intersection, difeerence method wil not odify the original set\n",
    "#they always will return a new set\n",
    "\n"
   ]
  },
  {
   "cell_type": "code",
   "execution_count": 41,
   "id": "2b501204",
   "metadata": {},
   "outputs": [
    {
     "name": "stdout",
     "output_type": "stream",
     "text": [
      "{1, 2, 3, 4, 5, 6, 7, 8, 9, 10, 11, 12}\n"
     ]
    }
   ],
   "source": [
    "#modify a set\n",
    "\n",
    "\n",
    "setA.update(setB)\n",
    "print(setA)\n",
    "\n",
    "#this updates the setA by  addiojng all element form setB"
   ]
  },
  {
   "cell_type": "code",
   "execution_count": 44,
   "id": "5461cfbf",
   "metadata": {},
   "outputs": [
    {
     "name": "stdout",
     "output_type": "stream",
     "text": [
      "{1, 2, 3}\n"
     ]
    }
   ],
   "source": [
    "\n",
    "setA ={1,2,3,4,5,6,7,8,9}\n",
    "setB ={1,2,3,10,11,12}\n",
    "\n",
    "\n",
    "setA.intersection_update(setB)\n",
    "print(setA)\n",
    "\n",
    "#it updates the setA by keeping only the lemets found in bpth set\n",
    "\n",
    "\n"
   ]
  },
  {
   "cell_type": "code",
   "execution_count": 47,
   "id": "44c7e18c",
   "metadata": {},
   "outputs": [
    {
     "name": "stdout",
     "output_type": "stream",
     "text": [
      "{4, 5, 6, 7, 8, 9}\n"
     ]
    }
   ],
   "source": [
    "\n",
    "setA ={1,2,3,4,5,6,7,8,9}\n",
    "setB ={1,2,3,10,11,12}\n",
    "\n",
    "\n",
    "setA.difference_update(setB)\n",
    "print(setA)\n",
    "\n",
    "#it updates setA by removing the elements found in setB"
   ]
  },
  {
   "cell_type": "code",
   "execution_count": 48,
   "id": "9bd48a5a",
   "metadata": {},
   "outputs": [
    {
     "name": "stdout",
     "output_type": "stream",
     "text": [
      "{4, 5, 6, 7, 8, 9, 10, 11, 12}\n"
     ]
    }
   ],
   "source": [
    "\n",
    "setA ={1,2,3,4,5,6,7,8,9}\n",
    "setB ={1,2,3,10,11,12}\n",
    "\n",
    "\n",
    "setA.symmetric_difference_update(setB)\n",
    "print(setA)\n",
    "\n",
    "\n",
    "#updtes set with elememts found in setA and setB but not the common elemts found in both setA and SetB."
   ]
  },
  {
   "cell_type": "code",
   "execution_count": 49,
   "id": "43955351",
   "metadata": {},
   "outputs": [
    {
     "name": "stdout",
     "output_type": "stream",
     "text": [
      "False\n"
     ]
    }
   ],
   "source": [
    "#subset\n",
    "#superset\n",
    "#disjoint\n",
    "\n",
    "setA ={1,2,3,4,5,6}\n",
    "setB ={1,2,3}\n",
    "\n",
    "print(setA.issubset(setB))\n",
    "\n",
    "#subset --> all elemets from first set is also a part of second set\n",
    "\n"
   ]
  },
  {
   "cell_type": "code",
   "execution_count": 51,
   "id": "30704a53",
   "metadata": {},
   "outputs": [
    {
     "name": "stdout",
     "output_type": "stream",
     "text": [
      "True\n"
     ]
    }
   ],
   "source": [
    "print(setB.issubset(setA))"
   ]
  },
  {
   "cell_type": "code",
   "execution_count": 53,
   "id": "e2761c58",
   "metadata": {},
   "outputs": [
    {
     "name": "stdout",
     "output_type": "stream",
     "text": [
      "True\n"
     ]
    }
   ],
   "source": [
    "#superset -- >returns true if first set contains all the no.s from second set\n",
    "\n",
    "print(setA.issuperset(setB))\n"
   ]
  },
  {
   "cell_type": "code",
   "execution_count": 55,
   "id": "8768e950",
   "metadata": {},
   "outputs": [
    {
     "name": "stdout",
     "output_type": "stream",
     "text": [
      "True\n"
     ]
    }
   ],
   "source": [
    "#disjoint return true if two set have null intersection or no same elemts\n",
    "\n",
    "setA ={1,2,3,4,5,6}\n",
    "setB ={1,2,3}\n",
    "setC ={7,8}\n",
    "\n",
    "\n",
    "print(setA.isdisjoint(setC))"
   ]
  },
  {
   "cell_type": "code",
   "execution_count": 56,
   "id": "1182551d",
   "metadata": {},
   "outputs": [
    {
     "name": "stdout",
     "output_type": "stream",
     "text": [
      "{1, 2, 3, 4, 5, 6}\n"
     ]
    }
   ],
   "source": [
    "##copying two sets\n",
    "\n",
    "setA ={1,2,3,4,5,6}\n",
    "\n",
    "setB = setA\n",
    "\n",
    "print(setB)\n"
   ]
  },
  {
   "cell_type": "code",
   "execution_count": 57,
   "id": "088ae988",
   "metadata": {},
   "outputs": [
    {
     "name": "stdout",
     "output_type": "stream",
     "text": [
      "1864660030184\n",
      "1864660030184\n"
     ]
    }
   ],
   "source": [
    "print(id(setA))\n",
    "print(id(setB))\n",
    "\n",
    "#we can see here simple assignents both set! and setB points to same memory location"
   ]
  },
  {
   "cell_type": "code",
   "execution_count": 58,
   "id": "432b5724",
   "metadata": {},
   "outputs": [],
   "source": [
    "setB.add(7)"
   ]
  },
  {
   "cell_type": "code",
   "execution_count": 59,
   "id": "85818f9f",
   "metadata": {},
   "outputs": [
    {
     "name": "stdout",
     "output_type": "stream",
     "text": [
      "{1, 2, 3, 4, 5, 6, 7}\n",
      "{1, 2, 3, 4, 5, 6, 7}\n",
      "1864660030184\n",
      "1864660030184\n"
     ]
    }
   ],
   "source": [
    "print(setA)\n",
    "print(setB)\n",
    "print(id(setA))\n",
    "print(id(setB))\n",
    "\n",
    "#original changed"
   ]
  },
  {
   "cell_type": "code",
   "execution_count": 61,
   "id": "575dbfaf",
   "metadata": {},
   "outputs": [
    {
     "name": "stdout",
     "output_type": "stream",
     "text": [
      "1864660030184\n",
      "1864659271464\n"
     ]
    }
   ],
   "source": [
    "###How to make original copy of set using .copy method\n",
    "\n",
    "\n",
    "setB= setA.copy()\n",
    "print(id(setA))\n",
    "print(id(setB))\n"
   ]
  },
  {
   "cell_type": "code",
   "execution_count": 62,
   "id": "138dba13",
   "metadata": {},
   "outputs": [
    {
     "name": "stdout",
     "output_type": "stream",
     "text": [
      "1864660030184\n",
      "1864659269672\n"
     ]
    }
   ],
   "source": [
    "##the set method also mnakes an copy\n",
    "\n",
    "setB= set(setA)\n",
    "print(id(setA))\n",
    "print(id(setB))\n"
   ]
  },
  {
   "cell_type": "code",
   "execution_count": 63,
   "id": "867a943b",
   "metadata": {},
   "outputs": [
    {
     "ename": "AttributeError",
     "evalue": "'frozenset' object has no attribute 'add'",
     "output_type": "error",
     "traceback": [
      "\u001b[1;31m---------------------------------------------------------------------------\u001b[0m",
      "\u001b[1;31mAttributeError\u001b[0m                            Traceback (most recent call last)",
      "\u001b[1;32m<ipython-input-63-66b8fdbcfaba>\u001b[0m in \u001b[0;36m<module>\u001b[1;34m\u001b[0m\n\u001b[0;32m      3\u001b[0m \u001b[0ma\u001b[0m\u001b[1;33m=\u001b[0m \u001b[0mfrozenset\u001b[0m\u001b[1;33m(\u001b[0m\u001b[1;33m[\u001b[0m\u001b[1;36m1\u001b[0m\u001b[1;33m,\u001b[0m\u001b[1;36m2\u001b[0m\u001b[1;33m,\u001b[0m\u001b[1;36m3\u001b[0m\u001b[1;33m,\u001b[0m\u001b[1;36m4\u001b[0m\u001b[1;33m]\u001b[0m\u001b[1;33m)\u001b[0m\u001b[1;33m\u001b[0m\u001b[1;33m\u001b[0m\u001b[0m\n\u001b[0;32m      4\u001b[0m \u001b[1;33m\u001b[0m\u001b[0m\n\u001b[1;32m----> 5\u001b[1;33m \u001b[0ma\u001b[0m\u001b[1;33m.\u001b[0m\u001b[0madd\u001b[0m\u001b[1;33m(\u001b[0m\u001b[1;36m5\u001b[0m\u001b[1;33m)\u001b[0m\u001b[1;33m\u001b[0m\u001b[1;33m\u001b[0m\u001b[0m\n\u001b[0m",
      "\u001b[1;31mAttributeError\u001b[0m: 'frozenset' object has no attribute 'add'"
     ]
    }
   ],
   "source": [
    "#frozen set is an immutable version of normal set\n",
    "\n",
    "a= frozenset([1,2,3,4])\n",
    "\n",
    "a.add(5)\n",
    "#frozenset is immutable"
   ]
  },
  {
   "cell_type": "code",
   "execution_count": 64,
   "id": "1f2a1a72",
   "metadata": {},
   "outputs": [
    {
     "ename": "AttributeError",
     "evalue": "'frozenset' object has no attribute 'remove'",
     "output_type": "error",
     "traceback": [
      "\u001b[1;31m---------------------------------------------------------------------------\u001b[0m",
      "\u001b[1;31mAttributeError\u001b[0m                            Traceback (most recent call last)",
      "\u001b[1;32m<ipython-input-64-37568b8c6d01>\u001b[0m in \u001b[0;36m<module>\u001b[1;34m\u001b[0m\n\u001b[0;32m      1\u001b[0m \u001b[0ma\u001b[0m\u001b[1;33m=\u001b[0m \u001b[0mfrozenset\u001b[0m\u001b[1;33m(\u001b[0m\u001b[1;33m[\u001b[0m\u001b[1;36m1\u001b[0m\u001b[1;33m,\u001b[0m\u001b[1;36m2\u001b[0m\u001b[1;33m,\u001b[0m\u001b[1;36m3\u001b[0m\u001b[1;33m,\u001b[0m\u001b[1;36m4\u001b[0m\u001b[1;33m]\u001b[0m\u001b[1;33m)\u001b[0m\u001b[1;33m\u001b[0m\u001b[1;33m\u001b[0m\u001b[0m\n\u001b[0;32m      2\u001b[0m \u001b[1;33m\u001b[0m\u001b[0m\n\u001b[1;32m----> 3\u001b[1;33m \u001b[0ma\u001b[0m\u001b[1;33m.\u001b[0m\u001b[0mremove\u001b[0m\u001b[1;33m(\u001b[0m\u001b[1;36m1\u001b[0m\u001b[1;33m)\u001b[0m\u001b[1;33m\u001b[0m\u001b[1;33m\u001b[0m\u001b[0m\n\u001b[0m",
      "\u001b[1;31mAttributeError\u001b[0m: 'frozenset' object has no attribute 'remove'"
     ]
    }
   ],
   "source": [
    "\n",
    "a= frozenset([1,2,3,4])\n",
    "\n",
    "a.remove(1)"
   ]
  },
  {
   "cell_type": "code",
   "execution_count": null,
   "id": "8bc87350",
   "metadata": {},
   "outputs": [],
   "source": [
    "#union or inteection method works on frozen set"
   ]
  },
  {
   "cell_type": "code",
   "execution_count": null,
   "id": "39767123",
   "metadata": {},
   "outputs": [],
   "source": []
  },
  {
   "cell_type": "code",
   "execution_count": null,
   "id": "e3f84df0",
   "metadata": {},
   "outputs": [],
   "source": []
  },
  {
   "cell_type": "code",
   "execution_count": null,
   "id": "afca7a04",
   "metadata": {},
   "outputs": [],
   "source": []
  },
  {
   "cell_type": "code",
   "execution_count": null,
   "id": "2e2ea400",
   "metadata": {},
   "outputs": [],
   "source": []
  },
  {
   "cell_type": "code",
   "execution_count": null,
   "id": "7ac50ebd",
   "metadata": {},
   "outputs": [],
   "source": []
  },
  {
   "cell_type": "code",
   "execution_count": null,
   "id": "4a35939e",
   "metadata": {},
   "outputs": [],
   "source": []
  }
 ],
 "metadata": {
  "kernelspec": {
   "display_name": "Python 3",
   "language": "python",
   "name": "python3"
  },
  "language_info": {
   "codemirror_mode": {
    "name": "ipython",
    "version": 3
   },
   "file_extension": ".py",
   "mimetype": "text/x-python",
   "name": "python",
   "nbconvert_exporter": "python",
   "pygments_lexer": "ipython3",
   "version": "3.7.11"
  }
 },
 "nbformat": 4,
 "nbformat_minor": 5
}
