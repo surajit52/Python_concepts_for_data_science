{
 "cells": [
  {
   "cell_type": "code",
   "execution_count": 1,
   "id": "fee459ea",
   "metadata": {},
   "outputs": [],
   "source": [
    "#lambda is an small on liner an d anonymous functin\n",
    "#first it has lambda keyword then it takes an argument a colon and then the statement\n",
    "#it creates a function with arguments evaluates the expression an d returns the result"
   ]
  },
  {
   "cell_type": "code",
   "execution_count": 2,
   "id": "a42030a7",
   "metadata": {},
   "outputs": [
    {
     "name": "stdout",
     "output_type": "stream",
     "text": [
      "15\n"
     ]
    }
   ],
   "source": [
    "#lambda function with one argumnet\n",
    "\n",
    "add_five = lambda x: x+5\n",
    "add_five(10)\n",
    "print(add_five(10))"
   ]
  },
  {
   "cell_type": "code",
   "execution_count": 3,
   "id": "b900aa8b",
   "metadata": {},
   "outputs": [
    {
     "name": "stdout",
     "output_type": "stream",
     "text": [
      "Surajit Paul\n"
     ]
    }
   ],
   "source": [
    "add_tittle = lambda x: x+\" Paul\"\n",
    "add_tittle(\"Surajit\")\n",
    "print(add_tittle(\"Surajit\"))"
   ]
  },
  {
   "cell_type": "code",
   "execution_count": 5,
   "id": "c2a420b0",
   "metadata": {},
   "outputs": [
    {
     "name": "stdout",
     "output_type": "stream",
     "text": [
      "50\n"
     ]
    }
   ],
   "source": [
    "#lambda function with multiple arguments\n",
    "\n",
    "mult = lambda x,y: x*y\n",
    "print(mult(5,10))\n",
    "\n"
   ]
  },
  {
   "cell_type": "code",
   "execution_count": 6,
   "id": "6cd838b7",
   "metadata": {},
   "outputs": [],
   "source": [
    "#lambda function is used when we need simple function to use once in our code\n",
    "\n",
    "#it is used as argument for higher order built in function like sorted, map, reduce(i.e function that take other function as argument)"
   ]
  },
  {
   "cell_type": "markdown",
   "id": "28bf7a83",
   "metadata": {},
   "source": [
    "### Sorted Method"
   ]
  },
  {
   "cell_type": "code",
   "execution_count": 7,
   "id": "29664dc8",
   "metadata": {},
   "outputs": [
    {
     "name": "stdout",
     "output_type": "stream",
     "text": [
      "[(1, 2), (15, 1), (5, -1), (10, 4)]\n",
      "[(1, 2), (5, -1), (10, 4), (15, 1)]\n"
     ]
    }
   ],
   "source": [
    "#sorted method\n",
    "\n",
    "#suppose we  have list which contains pair of numbers representing x,y as a tuples and we need to sort the tuples in order\n",
    "\n",
    "\n",
    "points2d = [(1,2),(15,1),(5,-1),(10,4)]\n",
    "\n",
    "#if we use sorted method by default it sorts by elemnt x\n",
    "points2d_sorted  = sorted(points2d)\n",
    "print(points2d)\n",
    "print(points2d_sorted)\n",
    "\n"
   ]
  },
  {
   "cell_type": "code",
   "execution_count": 8,
   "id": "17534976",
   "metadata": {},
   "outputs": [
    {
     "name": "stdout",
     "output_type": "stream",
     "text": [
      "[(1, 2), (15, 1), (5, -1), (10, 4)]\n",
      "[(5, -1), (15, 1), (1, 2), (10, 4)]\n"
     ]
    }
   ],
   "source": [
    "#suppose I want to sort element of tuple by y, thrn I can pass lambda function as  an key argument and specify the key by which I want my tuple to be sorted\n",
    "\n",
    "points2d_sorted_by_y = sorted(points2d, key= lambda x: x[1])\n",
    "print(points2d)\n",
    "print(points2d_sorted_by_y)"
   ]
  },
  {
   "cell_type": "code",
   "execution_count": 9,
   "id": "89e5c2b8",
   "metadata": {},
   "outputs": [
    {
     "name": "stdout",
     "output_type": "stream",
     "text": [
      "[(1, 2), (15, 1), (5, -1), (10, 4)]\n",
      "[(1, 2), (5, -1), (10, 4), (15, 1)]\n"
     ]
    }
   ],
   "source": [
    "#suppose I want to sort element of tuple by sum of tuple pair(x,y), then I can pass lambda function as  an key argument and specify the sum of elements by passing the key of  elemets and allowing them to sum as below\n",
    "\n",
    "points2d_sorted_by_sumof_x_y = sorted(points2d, key= lambda x: x[0]+x[1])\n",
    "print(points2d)\n",
    "print(points2d_sorted_by_sumof_x_y)"
   ]
  },
  {
   "cell_type": "markdown",
   "id": "de28175c",
   "metadata": {},
   "source": [
    "### Map Function"
   ]
  },
  {
   "cell_type": "code",
   "execution_count": 10,
   "id": "0558547c",
   "metadata": {},
   "outputs": [
    {
     "name": "stdout",
     "output_type": "stream",
     "text": [
      "<map object at 0x000001EBEEBBD4C8>\n",
      "[2, 4, 6, 8]\n"
     ]
    }
   ],
   "source": [
    "\n",
    "#Map function transforms each element as a function\n",
    "#it has a a function as an argument and then a sequence\n",
    "\n",
    "#suppose we have a list and we want to multiply all elements of list by 2\n",
    "\n",
    "a = [1,2,3,4]\n",
    "b = map(lambda x: x*2,a)\n",
    "\n",
    "#lets print the map object\n",
    "print(b)\n",
    "\n",
    "#now lets convet the object to list to print the map object as list\n",
    "print(list(b))"
   ]
  },
  {
   "cell_type": "code",
   "execution_count": 14,
   "id": "850d7743",
   "metadata": {},
   "outputs": [
    {
     "ename": "TypeError",
     "evalue": "<lambda>() takes 1 positional argument but 2 were given",
     "output_type": "error",
     "traceback": [
      "\u001b[1;31m---------------------------------------------------------------------------\u001b[0m",
      "\u001b[1;31mTypeError\u001b[0m                                 Traceback (most recent call last)",
      "\u001b[1;32m<ipython-input-14-11ce79b4dbf5>\u001b[0m in \u001b[0;36m<module>\u001b[1;34m\u001b[0m\n\u001b[0;32m      3\u001b[0m \u001b[0mfull_name\u001b[0m \u001b[1;33m=\u001b[0m \u001b[0mmap\u001b[0m\u001b[1;33m(\u001b[0m\u001b[1;32mlambda\u001b[0m \u001b[0mx\u001b[0m\u001b[1;33m:\u001b[0m \u001b[0mx\u001b[0m\u001b[1;33m+\u001b[0m\u001b[0my\u001b[0m\u001b[1;33m,\u001b[0m  \u001b[0mfirst_name\u001b[0m\u001b[1;33m,\u001b[0m\u001b[0mlast_name\u001b[0m\u001b[1;33m)\u001b[0m\u001b[1;33m\u001b[0m\u001b[1;33m\u001b[0m\u001b[0m\n\u001b[0;32m      4\u001b[0m \u001b[1;33m\u001b[0m\u001b[0m\n\u001b[1;32m----> 5\u001b[1;33m \u001b[0mprint\u001b[0m\u001b[1;33m(\u001b[0m\u001b[0mlist\u001b[0m\u001b[1;33m(\u001b[0m\u001b[0mfull_name\u001b[0m\u001b[1;33m)\u001b[0m\u001b[1;33m)\u001b[0m\u001b[1;33m\u001b[0m\u001b[1;33m\u001b[0m\u001b[0m\n\u001b[0m",
      "\u001b[1;31mTypeError\u001b[0m: <lambda>() takes 1 positional argument but 2 were given"
     ]
    }
   ],
   "source": []
  },
  {
   "cell_type": "code",
   "execution_count": 22,
   "id": "66e96937",
   "metadata": {},
   "outputs": [
    {
     "name": "stdout",
     "output_type": "stream",
     "text": [
      "Manju  Paul\n",
      "Subodh  Paul\n",
      "Surajit  Paul\n",
      "Kamal  Kanti Goon\n"
     ]
    }
   ],
   "source": [
    "first_name = [\"Manju\",\"Subodh\",\"Surajit\",\"Kamal\"]\n",
    "last_name = [\" Paul\",\" Paul\",\" Paul\",\" Kanti Goon\"]\n",
    "for i,j in zip(first_name,last_name):\n",
    "    print(i, j)"
   ]
  },
  {
   "cell_type": "markdown",
   "id": "8686ccb3",
   "metadata": {},
   "source": [
    "### Filter Function  "
   ]
  },
  {
   "cell_type": "code",
   "execution_count": null,
   "id": "e6f9c5ba",
   "metadata": {},
   "outputs": [],
   "source": [
    "# filter function also gets a function and a sequence\n",
    "#function returns true or false\n",
    "#filter function return all elements for which the function evaluates to true\n",
    "\n",
    "\n",
    "\n"
   ]
  },
  {
   "cell_type": "code",
   "execution_count": 23,
   "id": "ec895109",
   "metadata": {},
   "outputs": [
    {
     "name": "stdout",
     "output_type": "stream",
     "text": [
      "<filter object at 0x000001EBEEBBFA08>\n",
      "[2, 4, 6]\n"
     ]
    }
   ],
   "source": [
    "#suppose we have a list and we want to print all even elemts of the list using filter\n",
    "\n",
    "a = [1,2,3,4,5,6]\n",
    "b = filter(lambda x: x%2==0, a)\n",
    "\n",
    "#lets print the filter object\n",
    "print(b)\n",
    "\n",
    "#lets print the filtered list\n",
    "\n",
    "print(list(b))\n"
   ]
  },
  {
   "cell_type": "code",
   "execution_count": 32,
   "id": "5f6eab1b",
   "metadata": {},
   "outputs": [
    {
     "name": "stdout",
     "output_type": "stream",
     "text": [
      "2 4 6 "
     ]
    }
   ],
   "source": [
    "a = [1,2,3,4,5,6]\n",
    "\n",
    "num = 0\n",
    " \n",
    "# using while loop\n",
    "while(num < len(a)):\n",
    " \n",
    "    # checking condition\n",
    "    if a[num] % 2 == 0:\n",
    "        print(a[num], end=\" \")\n",
    " \n",
    "    # increment num\n",
    "    num += 1\n"
   ]
  },
  {
   "cell_type": "code",
   "execution_count": 34,
   "id": "3200607e",
   "metadata": {},
   "outputs": [
    {
     "name": "stdout",
     "output_type": "stream",
     "text": [
      "24\n"
     ]
    }
   ],
   "source": [
    "#reduce function\n",
    "\n",
    "\n",
    "from functools import reduce\n",
    "\n",
    "a = [1,2,3,4]\n",
    "\n",
    "product_a = reduce(lambda x,y : x*y, a)\n",
    "print(product_a)"
   ]
  },
  {
   "cell_type": "code",
   "execution_count": null,
   "id": "6ebfadc7",
   "metadata": {},
   "outputs": [],
   "source": []
  },
  {
   "cell_type": "code",
   "execution_count": null,
   "id": "1e1a5ce8",
   "metadata": {},
   "outputs": [],
   "source": []
  },
  {
   "cell_type": "code",
   "execution_count": null,
   "id": "3cf42a34",
   "metadata": {},
   "outputs": [],
   "source": []
  },
  {
   "cell_type": "code",
   "execution_count": null,
   "id": "d403c95c",
   "metadata": {},
   "outputs": [],
   "source": []
  },
  {
   "cell_type": "code",
   "execution_count": null,
   "id": "e3bb619c",
   "metadata": {},
   "outputs": [],
   "source": []
  },
  {
   "cell_type": "code",
   "execution_count": null,
   "id": "4b4c7cb0",
   "metadata": {},
   "outputs": [],
   "source": []
  },
  {
   "cell_type": "code",
   "execution_count": null,
   "id": "980305ed",
   "metadata": {},
   "outputs": [],
   "source": []
  },
  {
   "cell_type": "code",
   "execution_count": null,
   "id": "9ac1abb3",
   "metadata": {},
   "outputs": [],
   "source": []
  },
  {
   "cell_type": "code",
   "execution_count": null,
   "id": "8811b6cc",
   "metadata": {},
   "outputs": [],
   "source": []
  },
  {
   "cell_type": "code",
   "execution_count": null,
   "id": "486028d4",
   "metadata": {},
   "outputs": [],
   "source": []
  }
 ],
 "metadata": {
  "kernelspec": {
   "display_name": "Python 3",
   "language": "python",
   "name": "python3"
  },
  "language_info": {
   "codemirror_mode": {
    "name": "ipython",
    "version": 3
   },
   "file_extension": ".py",
   "mimetype": "text/x-python",
   "name": "python",
   "nbconvert_exporter": "python",
   "pygments_lexer": "ipython3",
   "version": "3.7.11"
  }
 },
 "nbformat": 4,
 "nbformat_minor": 5
}
