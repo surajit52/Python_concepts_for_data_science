{
 "cells": [
  {
   "cell_type": "code",
   "execution_count": 1,
   "id": "439da3f3",
   "metadata": {},
   "outputs": [],
   "source": [
    "#itetools provides some advanced tools that can be iterated\n",
    "#types of itertools (product, permutation, combination, accumulate, groupby and infinite iterators)"
   ]
  },
  {
   "cell_type": "code",
   "execution_count": 2,
   "id": "22ae0650",
   "metadata": {},
   "outputs": [
    {
     "name": "stdout",
     "output_type": "stream",
     "text": [
      "[(1, 2), (1, 3), (2, 2), (2, 3)]\n"
     ]
    }
   ],
   "source": [
    "from itertools import product\n",
    "a=[1,2]\n",
    "b=[2,3]\n",
    "prod = product(a,b)\n",
    "#computes the cartesian product\n",
    "\n",
    "print(list(prod))"
   ]
  },
  {
   "cell_type": "code",
   "execution_count": 3,
   "id": "0a36b126",
   "metadata": {},
   "outputs": [
    {
     "name": "stdout",
     "output_type": "stream",
     "text": [
      "[(1, 3, 1, 3), (1, 3, 2, 3), (2, 3, 1, 3), (2, 3, 2, 3)]\n"
     ]
    }
   ],
   "source": [
    "from itertools import product\n",
    "a=[1,2]\n",
    "b=[3]\n",
    "prod = product(a,b, repeat=2)\n",
    "#computes the cartesian product\n",
    "# we can use the repetion argumnent to repeat the elements of list\n",
    "print(list(prod))"
   ]
  },
  {
   "cell_type": "markdown",
   "id": "79faeab7",
   "metadata": {},
   "source": [
    "# Permutations\n",
    "\n"
   ]
  },
  {
   "cell_type": "code",
   "execution_count": 4,
   "id": "e2e1b98f",
   "metadata": {},
   "outputs": [
    {
     "name": "stdout",
     "output_type": "stream",
     "text": [
      "[(1, 2, 3), (1, 3, 2), (2, 1, 3), (2, 3, 1), (3, 1, 2), (3, 2, 1)]\n"
     ]
    }
   ],
   "source": [
    "#permutations will return all possible ordering of input\n",
    "from itertools import permutations\n",
    "a=[1,2,3]\n",
    "\n",
    "perm = permutations(a)\n",
    "#computes the all possible ordering  \n",
    "# \n",
    "print(list(perm))\n"
   ]
  },
  {
   "cell_type": "code",
   "execution_count": 5,
   "id": "5db546b5",
   "metadata": {},
   "outputs": [
    {
     "name": "stdout",
     "output_type": "stream",
     "text": [
      "[(1, 2), (1, 3), (2, 1), (2, 3), (3, 1), (3, 2)]\n"
     ]
    }
   ],
   "source": [
    "from itertools import permutations\n",
    "a=[1,2,3]\n",
    "\n",
    "perm = permutations(a,2)\n",
    "#computes the all possible ordering  \n",
    "# here we have shorter permutation with length of 2\n",
    "print(list(perm))\n"
   ]
  },
  {
   "cell_type": "markdown",
   "id": "139fce70",
   "metadata": {},
   "source": [
    "# combinations"
   ]
  },
  {
   "cell_type": "code",
   "execution_count": 7,
   "id": "b939e8ee",
   "metadata": {},
   "outputs": [
    {
     "name": "stdout",
     "output_type": "stream",
     "text": [
      "[(1, 2), (1, 3), (1, 4), (2, 3), (2, 4), (3, 4)]\n"
     ]
    }
   ],
   "source": [
    "from itertools import combinations\n",
    "a=[1,2,3,4]\n",
    "\n",
    "comb = combinations(a,2)\n",
    "#computes the all possible combinations with specified length  \n",
    "# here second argument with length is complusory\n",
    "print(list(comb))\n"
   ]
  },
  {
   "cell_type": "code",
   "execution_count": 8,
   "id": "6e20f88d",
   "metadata": {},
   "outputs": [
    {
     "name": "stdout",
     "output_type": "stream",
     "text": [
      "[(1, 2), (1, 3), (1, 4), (2, 3), (2, 4), (3, 4)]\n",
      "[(1, 1), (1, 2), (1, 3), (1, 4), (2, 2), (2, 3), (2, 4), (3, 3), (3, 4), (4, 4)]\n"
     ]
    }
   ],
   "source": [
    "#we can use combination with replacement\n",
    "\n",
    "from itertools import combinations_with_replacement\n",
    "a=[1,2,3,4]\n",
    "comb = combinations(a,2)\n",
    "comb_wr = combinations_with_replacement(a,2)\n",
    "#computes the all possible combinations with specified length  \n",
    "# here second argument with length is complusory\n",
    "print(list(comb))\n",
    "print(list(comb_wr))\n",
    "\n"
   ]
  },
  {
   "cell_type": "markdown",
   "id": "892c92cc",
   "metadata": {},
   "source": [
    "# accumulate\n"
   ]
  },
  {
   "cell_type": "code",
   "execution_count": 9,
   "id": "b382a600",
   "metadata": {},
   "outputs": [],
   "source": [
    "#accumulate functions rteturns the accumulated sum of elements"
   ]
  },
  {
   "cell_type": "code",
   "execution_count": 10,
   "id": "14a69285",
   "metadata": {},
   "outputs": [
    {
     "name": "stdout",
     "output_type": "stream",
     "text": [
      "[1, 2, 3, 4]\n",
      "[1, 3, 6, 10]\n"
     ]
    }
   ],
   "source": [
    "from itertools import accumulate\n",
    "a=[1,2,3,4]\n",
    "acc = accumulate(a)\n",
    "print(a)\n",
    "#computes the all accumulated sum of elemets \n",
    "#1,(first element) 1+2 = 3 ,3+3=6, 6+4 = 10\n",
    "print(list(acc))\n",
    "#by default it will accumulate the sum\n",
    "\n"
   ]
  },
  {
   "cell_type": "code",
   "execution_count": 11,
   "id": "180f322c",
   "metadata": {},
   "outputs": [
    {
     "name": "stdout",
     "output_type": "stream",
     "text": [
      "[1, 2, 3, 4]\n",
      "[1, 2, 6, 24]\n"
     ]
    }
   ],
   "source": [
    "#if we want to multiply the element\n",
    "from itertools import accumulate\n",
    "import operator\n",
    "a=[1,2,3,4]\n",
    "acc = accumulate(a, func=operator.mul)\n",
    "print(a)\n",
    "#computes the all accumulated product of elemets \n",
    "#1,(first element) 1*2 = 2 ,3*2=6, 6*4 = 24\n",
    "print(list(acc))\n",
    "#by default it will accumulate the sum\n"
   ]
  },
  {
   "cell_type": "code",
   "execution_count": 12,
   "id": "75b43b1d",
   "metadata": {},
   "outputs": [
    {
     "name": "stdout",
     "output_type": "stream",
     "text": [
      "[1, 2, 5, 3, 4]\n",
      "[1, 2, 5, 5, 5]\n"
     ]
    }
   ],
   "source": [
    "#if we want to return the max of the element\n",
    "from itertools import accumulate\n",
    "import operator\n",
    "a=[1,2,5,3,4]\n",
    "acc = accumulate(a, func=max)\n",
    "print(a)\n",
    "#computes the all accumulated product of elemets \n",
    "#1,(first element) max of (1,2) is 2 ,max(5,3)is 5 max(5,3,4) is 5\n",
    "print(list(acc))\n",
    "#by default"
   ]
  },
  {
   "cell_type": "markdown",
   "id": "e7e712e9",
   "metadata": {},
   "source": [
    "# Groupby"
   ]
  },
  {
   "cell_type": "code",
   "execution_count": 14,
   "id": "8e2a2ad1",
   "metadata": {},
   "outputs": [
    {
     "name": "stdout",
     "output_type": "stream",
     "text": [
      "<itertools.groupby object at 0x0000021E72B141C8>\n",
      "True [1, 2]\n",
      "False [3, 4]\n"
     ]
    }
   ],
   "source": [
    "#groupby function returns a keys and groups from iterable\n",
    "\n",
    "from itertools import groupby\n",
    "\n",
    "def smaller_than_3(x):\n",
    "    return x<3\n",
    "\n",
    "a= [1,2,3,4]\n",
    "group_ob = groupby(a, key=smaller_than_3)\n",
    "#as a key we are passing the function smaller_than_3 that returns true if elemnt is smaller than 3\n",
    "\n",
    "print(group_ob)\n",
    "\n",
    "for key,value in group_ob:\n",
    "    print(key, list(value))\n",
    "\n",
    "    \n",
    "    #here 1 and 2 are grouped together as one list and checked if less than 3 so returns true as both are less than 3\n",
    "    #here 3 and 4 are grouped together as one list and checked if less than 3 so returns false as both are greater than 3  "
   ]
  },
  {
   "cell_type": "code",
   "execution_count": 15,
   "id": "92900bdc",
   "metadata": {},
   "outputs": [
    {
     "name": "stdout",
     "output_type": "stream",
     "text": [
      "<itertools.groupby object at 0x0000021E72B14468>\n",
      "True [1, 2]\n",
      "False [3, 4]\n"
     ]
    }
   ],
   "source": [
    "# we can use small on e line labda function\n",
    "\n",
    "from itertools import groupby\n",
    "\n",
    "\n",
    "a= [1,2,3,4]\n",
    "group_ob = groupby(a, key=lambda x: x<3)\n",
    "#as a key we are passing the function smaller_than_3 that returns true if elemnt is smaller than 3\n",
    "\n",
    "print(group_ob)\n",
    "\n",
    "for key,value in group_ob:\n",
    "    print(key, list(value))\n"
   ]
  },
  {
   "cell_type": "code",
   "execution_count": 16,
   "id": "34e5587a",
   "metadata": {},
   "outputs": [
    {
     "name": "stdout",
     "output_type": "stream",
     "text": [
      "<itertools.groupby object at 0x0000021E72B141C8>\n",
      "25 [{'name': 'Tim', 'age': 25}]\n",
      "27 [{'name': 'Lisa', 'age': 27}]\n",
      "28 [{'name': 'Claire', 'age': 28}]\n",
      "25 [{'name': 'Dan', 'age': 25}]\n"
     ]
    }
   ],
   "source": [
    "from itertools import groupby\n",
    "\n",
    "persons = [{'name': 'Tim','age':25} , {'name': 'Lisa','age':27},\n",
    "          {'name': 'Claire','age':28},{'name': 'Dan','age':25}]\n",
    "\n",
    "group_ob = groupby(persons, key=lambda x: x['age'])\n",
    "#as a key we are passing the function smaller_than_3 that returns true if elemnt is smaller than 3\n",
    "\n",
    "print(group_ob)\n",
    "\n",
    "for key,value in group_ob:\n",
    "    print(key, list(value))\n"
   ]
  },
  {
   "cell_type": "code",
   "execution_count": null,
   "id": "1edc9b35",
   "metadata": {},
   "outputs": [],
   "source": []
  },
  {
   "cell_type": "code",
   "execution_count": null,
   "id": "402b3ecd",
   "metadata": {},
   "outputs": [],
   "source": []
  },
  {
   "cell_type": "code",
   "execution_count": null,
   "id": "2c3b97ef",
   "metadata": {},
   "outputs": [],
   "source": []
  },
  {
   "cell_type": "code",
   "execution_count": null,
   "id": "f1a2b911",
   "metadata": {},
   "outputs": [],
   "source": []
  }
 ],
 "metadata": {
  "kernelspec": {
   "display_name": "Python 3",
   "language": "python",
   "name": "python3"
  },
  "language_info": {
   "codemirror_mode": {
    "name": "ipython",
    "version": 3
   },
   "file_extension": ".py",
   "mimetype": "text/x-python",
   "name": "python",
   "nbconvert_exporter": "python",
   "pygments_lexer": "ipython3",
   "version": "3.7.11"
  }
 },
 "nbformat": 4,
 "nbformat_minor": 5
}
