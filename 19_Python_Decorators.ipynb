{
 "cells": [
  {
   "cell_type": "markdown",
   "id": "e7dfc13f",
   "metadata": {},
   "source": [
    "# Python Decorators"
   ]
  },
  {
   "cell_type": "markdown",
   "id": "e21fa7f8",
   "metadata": {},
   "source": [
    "#Before understanding decorators we need to understand\n",
    "- Function copy\n",
    "- closures\n",
    "- decorators"
   ]
  },
  {
   "cell_type": "code",
   "execution_count": 5,
   "id": "a8aabdec",
   "metadata": {},
   "outputs": [],
   "source": [
    "def welcome():\n",
    "    return (\"Welcome to my Jupyter Notebook\")"
   ]
  },
  {
   "cell_type": "code",
   "execution_count": 6,
   "id": "08911a38",
   "metadata": {},
   "outputs": [],
   "source": [
    "wel = welcome()\n",
    "\n",
    "#if I store the output returned by above function welcome in variable wel"
   ]
  },
  {
   "cell_type": "code",
   "execution_count": 7,
   "id": "3fef0e66",
   "metadata": {},
   "outputs": [
    {
     "data": {
      "text/plain": [
       "'Welcome to my Jupyter Notebook'"
      ]
     },
     "execution_count": 7,
     "metadata": {},
     "output_type": "execute_result"
    }
   ],
   "source": [
    "wel"
   ]
  },
  {
   "cell_type": "code",
   "execution_count": 8,
   "id": "58b1aa54",
   "metadata": {},
   "outputs": [],
   "source": [
    "#now if i delete the welcome function\n",
    "\n",
    "del welcome"
   ]
  },
  {
   "cell_type": "code",
   "execution_count": 9,
   "id": "a3021a41",
   "metadata": {},
   "outputs": [
    {
     "data": {
      "text/plain": [
       "'Welcome to my Jupyter Notebook'"
      ]
     },
     "execution_count": 9,
     "metadata": {},
     "output_type": "execute_result"
    }
   ],
   "source": [
    "#if i try to access the wel variable\n",
    "wel"
   ]
  },
  {
   "cell_type": "code",
   "execution_count": null,
   "id": "cbcc8d09",
   "metadata": {},
   "outputs": [],
   "source": [
    "#We see it still has the function welcome output stored in it\n",
    "#basically it has copied the function welcome in another variable wel"
   ]
  },
  {
   "cell_type": "code",
   "execution_count": 10,
   "id": "3f06340b",
   "metadata": {},
   "outputs": [],
   "source": [
    "#now if i try to acess the welcome function we see we got the error as we deleted the function in line 8\n"
   ]
  },
  {
   "cell_type": "code",
   "execution_count": 11,
   "id": "47167bfb",
   "metadata": {},
   "outputs": [
    {
     "ename": "NameError",
     "evalue": "name 'welcome' is not defined",
     "output_type": "error",
     "traceback": [
      "\u001b[1;31m---------------------------------------------------------------------------\u001b[0m",
      "\u001b[1;31mNameError\u001b[0m                                 Traceback (most recent call last)",
      "\u001b[1;32m<ipython-input-11-a401d7101853>\u001b[0m in \u001b[0;36m<module>\u001b[1;34m\u001b[0m\n\u001b[1;32m----> 1\u001b[1;33m \u001b[0mwelcome\u001b[0m\u001b[1;33m(\u001b[0m\u001b[1;33m)\u001b[0m\u001b[1;33m\u001b[0m\u001b[1;33m\u001b[0m\u001b[0m\n\u001b[0m",
      "\u001b[1;31mNameError\u001b[0m: name 'welcome' is not defined"
     ]
    }
   ],
   "source": [
    "welcome()"
   ]
  },
  {
   "cell_type": "markdown",
   "id": "2e70848f",
   "metadata": {},
   "source": [
    "### closures\n",
    "\n",
    "- whenver we write function inside a function it is called closure function\n",
    "\n",
    "- In closures we can define a parent function and inside the parent function we can define subfunction. Whatever varaible/parameter we have in main function that can be accessed by sub function\n",
    "\n",
    "- Also if we pass an inbuilt function \"func\" inside parent function based on that that inbuilt function can also be called inside thw sub function.Here we can see we are passing func , func is a print command which is an inbuilt function, inside func we are giving a parameter \"This notebook deals with Python programming\""
   ]
  },
  {
   "cell_type": "code",
   "execution_count": 15,
   "id": "6ef5cc73",
   "metadata": {},
   "outputs": [],
   "source": [
    "#closures\n",
    "\n",
    "def parent_function_welcome():\n",
    "    msg = \"I see you are a Python Enthusiast!\"\n",
    "    \n",
    "    def subfunction_welcome():\n",
    "        print(\"Welcome to my Jupyter Notebook\")\n",
    "        print(msg)\n",
    "        print(\"Hope you found the notebook useful\")\n",
    "        \n",
    "    return subfunction_welcome()\n",
    "        "
   ]
  },
  {
   "cell_type": "code",
   "execution_count": 17,
   "id": "4a0eee54",
   "metadata": {},
   "outputs": [
    {
     "name": "stdout",
     "output_type": "stream",
     "text": [
      "Welcome to my Jupyter Notebook\n",
      "I see you are a Python Enthusiast!\n",
      "Hope you found the notebook useful\n"
     ]
    }
   ],
   "source": [
    "#now calling the parent function\n",
    "\n",
    "parent_function_welcome()\n",
    "\n",
    "#In closures we can define a parent function(parent_function_welcome) and inside the parent function we can define subfunction(subfunction_welcome). \n",
    "#Whatever varaible (msg = \"I see you are a Python Enthusiast!\") we have in main function that can be accessed by sub function.\n",
    "#here the variable msg is accessed by print(msg) (line 8) (which is a varable of parent_function_welcome)"
   ]
  },
  {
   "cell_type": "code",
   "execution_count": 18,
   "id": "aea87cf9",
   "metadata": {},
   "outputs": [],
   "source": [
    "#In closures we can define a parent function(parent_function_welcome) and inside the parent function we can define subfunction(subfunction_welcome). \n",
    "#Whatever parameter (msg) we have in main function that can be accessed by sub function.\n",
    "#here the parameter msg is accessed by print(msg) (line 8) (which is a parameter of parent_function_welcome)\n",
    "\n",
    "\n",
    "def parent_function_welcome(msg):\n",
    "   \n",
    "    \n",
    "    def subfunction_welcome():\n",
    "        print(\"Welcome to my Jupyter Notebook\")\n",
    "        print(msg)\n",
    "        print(\"Hope you found the notebook useful\")\n",
    "        \n",
    "    return subfunction_welcome()"
   ]
  },
  {
   "cell_type": "code",
   "execution_count": 19,
   "id": "3ca010ac",
   "metadata": {},
   "outputs": [
    {
     "name": "stdout",
     "output_type": "stream",
     "text": [
      "Welcome to my Jupyter Notebook\n",
      "look,I am accessing the parameter msg\n",
      "Hope you found the notebook useful\n"
     ]
    }
   ],
   "source": [
    "parent_function_welcome(\"look,I am accessing the parameter msg\")"
   ]
  },
  {
   "cell_type": "code",
   "execution_count": 21,
   "id": "2bdce769",
   "metadata": {},
   "outputs": [],
   "source": [
    "#Also if we pass an inbuilt function \"func\" inside parent function instead of parameter\n",
    "#based on that inbuilt function(func) can also be called inside the sub function.\n",
    "#Here we can see we are passing func , func is actually a print command which is an inbuilt function in python \n",
    "#inside func we are giving a parameter \"This notebook deals with Python programming\"\n",
    "#finally we try to acess the inbuilt function func which is actually the python built in function print\n",
    "\n",
    "def parent_function_welcome(func):\n",
    "   \n",
    "    \n",
    "    def subfunction_welcome():\n",
    "        print(\"Welcome to my Jupyter Notebook\")\n",
    "\n",
    "#inside func we are giving a parameter \"This notebook deals with Python programming\"\n",
    "        func (\"This notebook deals with Python programming\")\n",
    "        print(\"Hope you found the notebook useful\")\n",
    "        \n",
    "    return subfunction_welcome()"
   ]
  },
  {
   "cell_type": "code",
   "execution_count": 23,
   "id": "b320e4fd",
   "metadata": {},
   "outputs": [
    {
     "name": "stdout",
     "output_type": "stream",
     "text": [
      "Welcome to my Jupyter Notebook\n",
      "This notebook deals with Python programming\n",
      "Hope you found the notebook useful\n"
     ]
    }
   ],
   "source": [
    "#finally we try to acess the inbuilt function func which is actually the python built in function print\n",
    "#we see it is a closure sub function can access even the parameter passed in parent_function_welcome\n",
    "\n",
    "parent_function_welcome(print)"
   ]
  },
  {
   "cell_type": "markdown",
   "id": "d0851014",
   "metadata": {},
   "source": [
    "### Decorator"
   ]
  },
  {
   "cell_type": "code",
   "execution_count": 32,
   "id": "ee849761",
   "metadata": {},
   "outputs": [],
   "source": [
    "#inside a parent function we can pass a parameter as a function instead of variable or message kinf of stuff that we saw above\n",
    "#also i can create my own function and give it as a parameter in parent function\n",
    "#then we can make a sub_function inside a parent function\n",
    "#this sub function can acess the parent function and also the my own function passed as parameter in parent_function\n"
   ]
  },
  {
   "cell_type": "code",
   "execution_count": 33,
   "id": "77a7df71",
   "metadata": {},
   "outputs": [],
   "source": [
    "#Decorator:here we are passing function within a function and also calling the custom function as a parameter\n",
    "def parent_function_welcome(func):\n",
    "   \n",
    "    \n",
    "    def subfunction_welcome():\n",
    "        print(\"Welcome to my Jupyter Notebook\")\n",
    "        func()\n",
    "        print(\"Hope you found the notebook useful\")\n",
    "        \n",
    "    return subfunction_welcome()"
   ]
  },
  {
   "cell_type": "code",
   "execution_count": 34,
   "id": "75d8bc7d",
   "metadata": {},
   "outputs": [],
   "source": [
    "def my_own_custom_function():\n",
    "    print(\"This is Sutajit's Jupyter Notebook\")"
   ]
  },
  {
   "cell_type": "code",
   "execution_count": 35,
   "id": "9fbd978c",
   "metadata": {},
   "outputs": [
    {
     "name": "stdout",
     "output_type": "stream",
     "text": [
      "Welcome to my Jupyter Notebook\n",
      "This is Sutajit's Jupyter Notebook\n",
      "Hope you found the notebook useful\n"
     ]
    }
   ],
   "source": [
    "parent_function_welcome(my_own_custom_function)"
   ]
  },
  {
   "cell_type": "code",
   "execution_count": 36,
   "id": "ee352802",
   "metadata": {},
   "outputs": [],
   "source": [
    "#here we are defining our own custom function my_own_function\n",
    "#then we are passing the custom function as parameter func\n",
    "#then we are acessing(calling) the parameter func inside the sub function\n",
    "#also we are returning the print statement of sub function\n",
    "#finally we are accessing the parent function and passing(calling) the custom function as a parameter inside the parent function\n",
    "#parent_function_welcome(my_own_function)"
   ]
  },
  {
   "cell_type": "code",
   "execution_count": 37,
   "id": "382f2f46",
   "metadata": {},
   "outputs": [],
   "source": [
    "#second way of defining a decorator is by using @ and parent function where we defined custom function\n",
    "#instead of parent_function_welcome(my_own_function)"
   ]
  },
  {
   "cell_type": "code",
   "execution_count": 38,
   "id": "7052d052",
   "metadata": {},
   "outputs": [],
   "source": [
    "def parent_function_welcome(func):\n",
    "   \n",
    "    \n",
    "    def subfunction_welcome():\n",
    "        print(\"Welcome to my Jupyter Notebook\")\n",
    "        func()\n",
    "        print(\"Hope you found the notebook useful\")\n",
    "        \n",
    "    return subfunction_welcome()"
   ]
  },
  {
   "cell_type": "code",
   "execution_count": 39,
   "id": "5f0ba290",
   "metadata": {},
   "outputs": [
    {
     "name": "stdout",
     "output_type": "stream",
     "text": [
      "Welcome to my Jupyter Notebook\n",
      "This is Sutajit's Jupyter Notebook\n",
      "Hope you found the notebook useful\n"
     ]
    }
   ],
   "source": [
    "@parent_function_welcome\n",
    "def my_own_custom_function():\n",
    "    print(\"This is Sutajit's Jupyter Notebook\")"
   ]
  },
  {
   "cell_type": "code",
   "execution_count": 40,
   "id": "ae130120",
   "metadata": {},
   "outputs": [],
   "source": [
    "#Usuability: if we have a welcome function and we need to access the welcome function\n",
    "#multiple times from individual function, then we can use decorators \n",
    "#@parent_function_welcome"
   ]
  },
  {
   "cell_type": "code",
   "execution_count": null,
   "id": "763a8ad9",
   "metadata": {},
   "outputs": [],
   "source": []
  },
  {
   "cell_type": "code",
   "execution_count": null,
   "id": "d8c67d6c",
   "metadata": {},
   "outputs": [],
   "source": [
    " "
   ]
  },
  {
   "cell_type": "code",
   "execution_count": null,
   "id": "781ef6cd",
   "metadata": {},
   "outputs": [],
   "source": []
  },
  {
   "cell_type": "code",
   "execution_count": null,
   "id": "187cb29d",
   "metadata": {},
   "outputs": [],
   "source": []
  },
  {
   "cell_type": "code",
   "execution_count": null,
   "id": "0f3cfff3",
   "metadata": {},
   "outputs": [],
   "source": []
  },
  {
   "cell_type": "code",
   "execution_count": null,
   "id": "5be8b961",
   "metadata": {},
   "outputs": [],
   "source": []
  },
  {
   "cell_type": "code",
   "execution_count": null,
   "id": "25bd99a1",
   "metadata": {},
   "outputs": [],
   "source": []
  },
  {
   "cell_type": "code",
   "execution_count": null,
   "id": "979e883f",
   "metadata": {},
   "outputs": [],
   "source": []
  }
 ],
 "metadata": {
  "kernelspec": {
   "display_name": "Python 3",
   "language": "python",
   "name": "python3"
  },
  "language_info": {
   "codemirror_mode": {
    "name": "ipython",
    "version": 3
   },
   "file_extension": ".py",
   "mimetype": "text/x-python",
   "name": "python",
   "nbconvert_exporter": "python",
   "pygments_lexer": "ipython3",
   "version": "3.7.11"
  }
 },
 "nbformat": 4,
 "nbformat_minor": 5
}
