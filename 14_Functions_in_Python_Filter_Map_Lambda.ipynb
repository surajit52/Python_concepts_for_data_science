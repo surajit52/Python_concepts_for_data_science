{
 "cells": [
  {
   "cell_type": "markdown",
   "id": "ce195b51",
   "metadata": {},
   "source": [
    "# For, If,Functions"
   ]
  },
  {
   "cell_type": "markdown",
   "id": "07925aec",
   "metadata": {},
   "source": [
    "Functions in Python. A function is a set of statements that take inputs, do some specific computation and produces output. These functions are called user defined function"
   ]
  },
  {
   "cell_type": "markdown",
   "id": "5be4cf0f",
   "metadata": {},
   "source": [
    "# Functions in Python"
   ]
  },
  {
   "cell_type": "markdown",
   "id": "b7d6ccee",
   "metadata": {},
   "source": [
    "- Function Definition\n",
    "- Positional and keyword Arguments in Functions"
   ]
  },
  {
   "cell_type": "code",
   "execution_count": 1,
   "id": "1bf9608d",
   "metadata": {},
   "outputs": [
    {
     "data": {
      "text/plain": [
       "'\\nSyntax\\ndef funcname(parameter1,parameter2,...):\\n    function body\\n\\n'"
      ]
     },
     "execution_count": 1,
     "metadata": {},
     "output_type": "execute_result"
    }
   ],
   "source": [
    "'''\n",
    "Syntax\n",
    "def funcname(parameter1,parameter2,...):\n",
    "    function body\n",
    "\n",
    "'''"
   ]
  },
  {
   "cell_type": "code",
   "execution_count": 2,
   "id": "8dc21396",
   "metadata": {},
   "outputs": [],
   "source": [
    "#here we are passing a parameter num\n",
    "\n",
    "def even_odd(num):\n",
    "    if num%2 == 0:\n",
    "        print('No. is even')\n",
    "    else:\n",
    "        print('No. is odd')\n",
    "        "
   ]
  },
  {
   "cell_type": "code",
   "execution_count": 3,
   "id": "fe2c53d8",
   "metadata": {},
   "outputs": [
    {
     "name": "stdout",
     "output_type": "stream",
     "text": [
      "No. is odd\n"
     ]
    }
   ],
   "source": [
    "even_odd(69)"
   ]
  },
  {
   "cell_type": "code",
   "execution_count": 4,
   "id": "1783469e",
   "metadata": {},
   "outputs": [
    {
     "name": "stdout",
     "output_type": "stream",
     "text": [
      "No. is even\n"
     ]
    }
   ],
   "source": [
    "even_odd(52)"
   ]
  },
  {
   "cell_type": "code",
   "execution_count": 5,
   "id": "5cc090ff",
   "metadata": {},
   "outputs": [
    {
     "ename": "TypeError",
     "evalue": "even_odd() missing 1 required positional argument: 'num'",
     "output_type": "error",
     "traceback": [
      "\u001b[1;31m---------------------------------------------------------------------------\u001b[0m",
      "\u001b[1;31mTypeError\u001b[0m                                 Traceback (most recent call last)",
      "\u001b[1;32m<ipython-input-5-e4eebffe9a7d>\u001b[0m in \u001b[0;36m<module>\u001b[1;34m\u001b[0m\n\u001b[1;32m----> 1\u001b[1;33m \u001b[0meven_odd\u001b[0m\u001b[1;33m(\u001b[0m\u001b[1;33m)\u001b[0m\u001b[1;33m\u001b[0m\u001b[1;33m\u001b[0m\u001b[0m\n\u001b[0m\u001b[0;32m      2\u001b[0m \u001b[1;33m\u001b[0m\u001b[0m\n\u001b[0;32m      3\u001b[0m \u001b[1;31m#here since we have passed an argument/parameter num in function\u001b[0m\u001b[1;33m\u001b[0m\u001b[1;33m\u001b[0m\u001b[1;33m\u001b[0m\u001b[0m\n\u001b[0;32m      4\u001b[0m \u001b[1;31m#so we need to pass it when we are calling the function\u001b[0m\u001b[1;33m\u001b[0m\u001b[1;33m\u001b[0m\u001b[1;33m\u001b[0m\u001b[0m\n",
      "\u001b[1;31mTypeError\u001b[0m: even_odd() missing 1 required positional argument: 'num'"
     ]
    }
   ],
   "source": [
    "even_odd()\n",
    "\n",
    "#here since we have passed an argument/parameter num in function\n",
    "#so we need to pass it when we are calling the function"
   ]
  },
  {
   "cell_type": "markdown",
   "id": "170fbf01",
   "metadata": {},
   "source": [
    "Print vs return"
   ]
  },
  {
   "cell_type": "code",
   "execution_count": 6,
   "id": "7c336f8e",
   "metadata": {},
   "outputs": [],
   "source": [
    "def hello_world():\n",
    "    print(\"Hello,Welcome\")"
   ]
  },
  {
   "cell_type": "code",
   "execution_count": 7,
   "id": "857982a2",
   "metadata": {},
   "outputs": [
    {
     "name": "stdout",
     "output_type": "stream",
     "text": [
      "Hello,Welcome\n"
     ]
    }
   ],
   "source": [
    "hello_world()"
   ]
  },
  {
   "cell_type": "code",
   "execution_count": 8,
   "id": "e73aa9bb",
   "metadata": {},
   "outputs": [],
   "source": [
    "# we can see we hello_world function has been executed"
   ]
  },
  {
   "cell_type": "code",
   "execution_count": 9,
   "id": "ceba63fc",
   "metadata": {},
   "outputs": [
    {
     "name": "stdout",
     "output_type": "stream",
     "text": [
      "Hello,Welcome\n"
     ]
    }
   ],
   "source": [
    "#if we store it ijn variable called val and execute it\n",
    "val = hello_world()"
   ]
  },
  {
   "cell_type": "code",
   "execution_count": 10,
   "id": "a879e6cf",
   "metadata": {},
   "outputs": [
    {
     "name": "stdout",
     "output_type": "stream",
     "text": [
      "None\n"
     ]
    }
   ],
   "source": [
    "print(val)\n",
    "\n",
    "#it is giving output as none which means function is not retuting anything"
   ]
  },
  {
   "cell_type": "code",
   "execution_count": 11,
   "id": "4d4999e0",
   "metadata": {},
   "outputs": [],
   "source": [
    "#now we use a return staement\n",
    "\n",
    "def hello_world():\n",
    "    return \"Hello,Welcome\""
   ]
  },
  {
   "cell_type": "code",
   "execution_count": 12,
   "id": "7ca6a69e",
   "metadata": {},
   "outputs": [],
   "source": [
    "val = hello_world()"
   ]
  },
  {
   "cell_type": "code",
   "execution_count": 13,
   "id": "34db4a25",
   "metadata": {},
   "outputs": [
    {
     "name": "stdout",
     "output_type": "stream",
     "text": [
      "Hello,Welcome\n"
     ]
    }
   ],
   "source": [
    "print(val)\n",
    "\n",
    "#now we see the functiion is returning Hello,Welcome"
   ]
  },
  {
   "cell_type": "code",
   "execution_count": 14,
   "id": "e29cfda8",
   "metadata": {},
   "outputs": [],
   "source": [
    "#return is used when our function is returning something "
   ]
  },
  {
   "cell_type": "code",
   "execution_count": 15,
   "id": "c32ecf80",
   "metadata": {},
   "outputs": [],
   "source": [
    "def add_no(num1,num2):\n",
    "    return num1+num2"
   ]
  },
  {
   "cell_type": "code",
   "execution_count": 16,
   "id": "35ab5b91",
   "metadata": {},
   "outputs": [],
   "source": [
    "val = add_no(20,40)"
   ]
  },
  {
   "cell_type": "code",
   "execution_count": 17,
   "id": "3561370b",
   "metadata": {},
   "outputs": [
    {
     "data": {
      "text/plain": [
       "60"
      ]
     },
     "execution_count": 17,
     "metadata": {},
     "output_type": "execute_result"
    }
   ],
   "source": [
    "val"
   ]
  },
  {
   "cell_type": "code",
   "execution_count": 18,
   "id": "f4b816a7",
   "metadata": {},
   "outputs": [
    {
     "ename": "TypeError",
     "evalue": "add_no() missing 1 required positional argument: 'num2'",
     "output_type": "error",
     "traceback": [
      "\u001b[1;31m---------------------------------------------------------------------------\u001b[0m",
      "\u001b[1;31mTypeError\u001b[0m                                 Traceback (most recent call last)",
      "\u001b[1;32m<ipython-input-18-08365bac45eb>\u001b[0m in \u001b[0;36m<module>\u001b[1;34m\u001b[0m\n\u001b[1;32m----> 1\u001b[1;33m \u001b[0mval\u001b[0m \u001b[1;33m=\u001b[0m \u001b[0madd_no\u001b[0m\u001b[1;33m(\u001b[0m\u001b[1;36m20\u001b[0m\u001b[1;33m)\u001b[0m\u001b[1;33m\u001b[0m\u001b[1;33m\u001b[0m\u001b[0m\n\u001b[0m\u001b[0;32m      2\u001b[0m \u001b[0mval\u001b[0m\u001b[1;33m\u001b[0m\u001b[1;33m\u001b[0m\u001b[0m\n\u001b[0;32m      3\u001b[0m \u001b[1;33m\u001b[0m\u001b[0m\n\u001b[0;32m      4\u001b[0m \u001b[1;31m#here we see we have passed only one parameter or argument but two are required\u001b[0m\u001b[1;33m\u001b[0m\u001b[1;33m\u001b[0m\u001b[1;33m\u001b[0m\u001b[0m\n",
      "\u001b[1;31mTypeError\u001b[0m: add_no() missing 1 required positional argument: 'num2'"
     ]
    }
   ],
   "source": [
    "val = add_no(20)\n",
    "val\n",
    "\n",
    "#here we see we have passed only one parameter or argument but two are required"
   ]
  },
  {
   "cell_type": "markdown",
   "id": "26928385",
   "metadata": {},
   "source": [
    "# Position and keyword Argument"
   ]
  },
  {
   "cell_type": "code",
   "execution_count": 19,
   "id": "9af4772e",
   "metadata": {},
   "outputs": [],
   "source": [
    "def hello(name,age=30):\n",
    "    print(\"My name is {} and my age is {}\".format(name,age))"
   ]
  },
  {
   "cell_type": "code",
   "execution_count": 20,
   "id": "b64724a0",
   "metadata": {},
   "outputs": [
    {
     "name": "stdout",
     "output_type": "stream",
     "text": [
      "My name is Surajit and my age is 30\n"
     ]
    }
   ],
   "source": [
    "hello('Surajit')"
   ]
  },
  {
   "cell_type": "code",
   "execution_count": 21,
   "id": "efeadc7d",
   "metadata": {},
   "outputs": [],
   "source": [
    "#here we see first argument 'name' which is passed is called positional argument\n",
    "#Second argument age=30 which is passed in form of key: value pair key:age and value:30 is called the keyword argument\n",
    "#key word argument has to be passed in the form of key value pair\n",
    "#print statement understands that the first argument is name and the second argument is initialised to age=30"
   ]
  },
  {
   "cell_type": "markdown",
   "id": "40a50db9",
   "metadata": {},
   "source": [
    "### **args = Positional Argument and **kwargs = Keyword argument"
   ]
  },
  {
   "cell_type": "code",
   "execution_count": 22,
   "id": "5e664cc7",
   "metadata": {},
   "outputs": [],
   "source": [
    "def hello(*args,**kwargs):\n",
    "    print(args)\n",
    "    print(kwargs)\n"
   ]
  },
  {
   "cell_type": "code",
   "execution_count": 23,
   "id": "d14187de",
   "metadata": {},
   "outputs": [
    {
     "name": "stdout",
     "output_type": "stream",
     "text": [
      "('Surajit', 'Paul')\n",
      "{'age': 30, 'dob': 1992}\n"
     ]
    }
   ],
   "source": [
    "hello(\"Surajit\",\"Paul\",age=30,dob=1992)"
   ]
  },
  {
   "cell_type": "code",
   "execution_count": 24,
   "id": "74e34f37",
   "metadata": {},
   "outputs": [],
   "source": [
    "#here we can pass any no. of positional argument e.g \"Surajit\" and \"Paul\"\n",
    "#here any no .of keyword argument passed in the form of key value pair e.g age =30 and dob = 1992"
   ]
  },
  {
   "cell_type": "markdown",
   "id": "3e148d5c",
   "metadata": {},
   "source": [
    "Here anything can be passed as *args example *name and **date_of_birth as **kwargs:"
   ]
  },
  {
   "cell_type": "code",
   "execution_count": 25,
   "id": "b3d9cdf5",
   "metadata": {},
   "outputs": [],
   "source": [
    "def hello(*name,**date_of_birth):\n",
    "    print(name)\n",
    "    print(date_of_birth)\n"
   ]
  },
  {
   "cell_type": "code",
   "execution_count": 26,
   "id": "9de4bd65",
   "metadata": {},
   "outputs": [
    {
     "name": "stdout",
     "output_type": "stream",
     "text": [
      "('Surajit', 'Paul')\n",
      "{'age': 30, 'dob': 1992}\n"
     ]
    }
   ],
   "source": [
    "hello(\"Surajit\",\"Paul\",age=30,dob=1992)"
   ]
  },
  {
   "cell_type": "code",
   "execution_count": 27,
   "id": "e052cb6b",
   "metadata": {},
   "outputs": [],
   "source": [
    "def hello(*lst,**dict_args):\n",
    "    print(lst)\n",
    "    print(dict_args)"
   ]
  },
  {
   "cell_type": "code",
   "execution_count": 28,
   "id": "22f15ca8",
   "metadata": {},
   "outputs": [],
   "source": [
    "lst  = ['Surajit','Paul']\n",
    "dict_args = {\"age\":29,\"dob\":1992}"
   ]
  },
  {
   "cell_type": "code",
   "execution_count": 29,
   "id": "08ffb82e",
   "metadata": {},
   "outputs": [
    {
     "name": "stdout",
     "output_type": "stream",
     "text": [
      "(['Surajit', 'Paul'], {'age': 29, 'dob': 1992})\n",
      "{}\n"
     ]
    }
   ],
   "source": [
    "hello(lst,dict_args)\n",
    "\n",
    "#here we see both bydefault is taken as *args which is wrong\n",
    "\n",
    "#to fix it just pass *args and **kwargs with asterix"
   ]
  },
  {
   "cell_type": "code",
   "execution_count": 30,
   "id": "4d3c1d5b",
   "metadata": {},
   "outputs": [
    {
     "name": "stdout",
     "output_type": "stream",
     "text": [
      "('Surajit', 'Paul')\n",
      "{'age': 29, 'dob': 1992}\n"
     ]
    }
   ],
   "source": [
    "hello(*lst,**dict_args)"
   ]
  },
  {
   "cell_type": "code",
   "execution_count": 37,
   "id": "29aff74c",
   "metadata": {},
   "outputs": [],
   "source": [
    "lst= [1,2,3,4,5,6,7]"
   ]
  },
  {
   "cell_type": "code",
   "execution_count": 38,
   "id": "3bf72e99",
   "metadata": {},
   "outputs": [],
   "source": [
    "#Return multiple parameters from function\n",
    "#sum all even integers and all odd integers separately\n",
    "\n",
    "\n",
    "def evenoddsum(lst):\n",
    "    even_sum=0\n",
    "    odd_sum=0\n",
    "    for i in lst:\n",
    "        if i%2==0:\n",
    "            even_sum=even_sum+i\n",
    "        else:\n",
    "            odd_sum=odd_sum+i\n",
    "\n",
    "    return even_sum,odd_sum   "
   ]
  },
  {
   "cell_type": "code",
   "execution_count": 39,
   "id": "38c8bc4b",
   "metadata": {},
   "outputs": [
    {
     "data": {
      "text/plain": [
       "(12, 16)"
      ]
     },
     "execution_count": 39,
     "metadata": {},
     "output_type": "execute_result"
    }
   ],
   "source": [
    "evenoddsum(lst)"
   ]
  },
  {
   "cell_type": "markdown",
   "id": "0e90252b",
   "metadata": {},
   "source": [
    "# Map Function in Python"
   ]
  },
  {
   "cell_type": "code",
   "execution_count": 40,
   "id": "ec2ccece",
   "metadata": {},
   "outputs": [],
   "source": [
    "#suppose we have a function that detemines wheter thw num is odd even\n",
    "\n",
    "def even_or_odd(num):\n",
    "    if num%2==0:\n",
    "        return \"The number {} is even\".format(num)\n",
    "    else:\n",
    "        return \"The number {} is odd\".format(num)"
   ]
  },
  {
   "cell_type": "code",
   "execution_count": 41,
   "id": "803a9ea6",
   "metadata": {},
   "outputs": [
    {
     "data": {
      "text/plain": [
       "'The number 5 is odd'"
      ]
     },
     "execution_count": 41,
     "metadata": {},
     "output_type": "execute_result"
    }
   ],
   "source": [
    "even_or_odd(5)"
   ]
  },
  {
   "cell_type": "code",
   "execution_count": 42,
   "id": "d70a81c3",
   "metadata": {},
   "outputs": [],
   "source": [
    "#suppose w ehave a list of numbers and we have to check each no. is even or odd\n",
    "\n",
    "# so in this case we have to use a loop to iterate through whole list to check all elements one by one or we can simply use map function"
   ]
  },
  {
   "cell_type": "code",
   "execution_count": 43,
   "id": "7dcd0ae2",
   "metadata": {},
   "outputs": [],
   "source": [
    "#MAp function: \n",
    "#it takes two argument , 1st argument is function we want to use and 2nd Argument is iterable(in this case the list)"
   ]
  },
  {
   "cell_type": "code",
   "execution_count": 44,
   "id": "1903a49a",
   "metadata": {},
   "outputs": [],
   "source": [
    "lst = [1,2,3,4,5,6,7,8,9,10,11]"
   ]
  },
  {
   "cell_type": "code",
   "execution_count": 45,
   "id": "917b6681",
   "metadata": {},
   "outputs": [
    {
     "data": {
      "text/plain": [
       "<map at 0x1e3b7e720c8>"
      ]
     },
     "execution_count": 45,
     "metadata": {},
     "output_type": "execute_result"
    }
   ],
   "source": [
    "map(even_or_odd,lst)"
   ]
  },
  {
   "cell_type": "code",
   "execution_count": 46,
   "id": "a7ad5856",
   "metadata": {},
   "outputs": [],
   "source": [
    "#here we see an object is printed\n",
    "#map function uses lazy loaading loading technique i.e memory has not been instantiated by map function\n",
    "#to instantiate:(use it by memory) we pass it in list"
   ]
  },
  {
   "cell_type": "code",
   "execution_count": 47,
   "id": "897d55e3",
   "metadata": {},
   "outputs": [
    {
     "data": {
      "text/plain": [
       "['The number 1 is odd',\n",
       " 'The number 2 is even',\n",
       " 'The number 3 is odd',\n",
       " 'The number 4 is even',\n",
       " 'The number 5 is odd',\n",
       " 'The number 6 is even',\n",
       " 'The number 7 is odd',\n",
       " 'The number 8 is even',\n",
       " 'The number 9 is odd',\n",
       " 'The number 10 is even',\n",
       " 'The number 11 is odd']"
      ]
     },
     "execution_count": 47,
     "metadata": {},
     "output_type": "execute_result"
    }
   ],
   "source": [
    "list(map(even_or_odd,lst))"
   ]
  },
  {
   "cell_type": "code",
   "execution_count": null,
   "id": "5ca21a68",
   "metadata": {},
   "outputs": [],
   "source": []
  },
  {
   "cell_type": "markdown",
   "id": "56592b79",
   "metadata": {},
   "source": [
    "# Lambda Functions"
   ]
  },
  {
   "cell_type": "markdown",
   "id": "6e9e5b4e",
   "metadata": {},
   "source": [
    "Lambda are anonymous one liner function\n",
    "\n",
    "Lambda function are function with no name"
   ]
  },
  {
   "cell_type": "code",
   "execution_count": 65,
   "id": "fc82cd05",
   "metadata": {},
   "outputs": [],
   "source": [
    "def addition(a,b):\n",
    "    return a+b\n"
   ]
  },
  {
   "cell_type": "code",
   "execution_count": 66,
   "id": "ebdf90f0",
   "metadata": {},
   "outputs": [
    {
     "data": {
      "text/plain": [
       "9"
      ]
     },
     "execution_count": 66,
     "metadata": {},
     "output_type": "execute_result"
    }
   ],
   "source": [
    "addition(4,5)"
   ]
  },
  {
   "cell_type": "code",
   "execution_count": 67,
   "id": "b04921b3",
   "metadata": {},
   "outputs": [],
   "source": [
    "#how to write a lambda function\n",
    "\n",
    "#first we write a lambda keyword\n",
    "#Second we write what are the input vairables(positional arguments) sthat we are passing a,b\n",
    "# Third is what is the operation we are doing inside it(written by colon and the expression following it)(in the above case is addition of a and b: a+b)"
   ]
  },
  {
   "cell_type": "code",
   "execution_count": 68,
   "id": "d1f96eec",
   "metadata": {},
   "outputs": [
    {
     "data": {
      "text/plain": [
       "<function __main__.<lambda>(a, b)>"
      ]
     },
     "execution_count": 68,
     "metadata": {},
     "output_type": "execute_result"
    }
   ],
   "source": [
    "lambda a,b:a+b"
   ]
  },
  {
   "cell_type": "code",
   "execution_count": 69,
   "id": "63614332",
   "metadata": {},
   "outputs": [],
   "source": [
    "#let me store the lambda function inside a variable\n",
    "\n",
    "sum = lambda a,b:a+b"
   ]
  },
  {
   "cell_type": "code",
   "execution_count": 71,
   "id": "83efc0bf",
   "metadata": {},
   "outputs": [
    {
     "data": {
      "text/plain": [
       "26"
      ]
     },
     "execution_count": 71,
     "metadata": {},
     "output_type": "execute_result"
    }
   ],
   "source": [
    "#just call the function using the variable name we have passed above\n",
    "#pass the input parameters a,b to perform addition on 12,14\n",
    "sum(12,14)"
   ]
  },
  {
   "cell_type": "code",
   "execution_count": 72,
   "id": "8fa9e9a2",
   "metadata": {},
   "outputs": [],
   "source": [
    "def even(num):\n",
    "    if num %2 ==0:\n",
    "        return True"
   ]
  },
  {
   "cell_type": "code",
   "execution_count": 73,
   "id": "6cecb1e3",
   "metadata": {},
   "outputs": [
    {
     "data": {
      "text/plain": [
       "True"
      ]
     },
     "execution_count": 73,
     "metadata": {},
     "output_type": "execute_result"
    }
   ],
   "source": [
    "even(24)"
   ]
  },
  {
   "cell_type": "code",
   "execution_count": 74,
   "id": "0e2a8420",
   "metadata": {},
   "outputs": [],
   "source": [
    "test = lambda num:num%2==0"
   ]
  },
  {
   "cell_type": "code",
   "execution_count": 75,
   "id": "aef31be3",
   "metadata": {},
   "outputs": [
    {
     "data": {
      "text/plain": [
       "True"
      ]
     },
     "execution_count": 75,
     "metadata": {},
     "output_type": "execute_result"
    }
   ],
   "source": [
    "test(12)"
   ]
  },
  {
   "cell_type": "code",
   "execution_count": 80,
   "id": "16825614",
   "metadata": {},
   "outputs": [],
   "source": [
    "def addition(x,y,z):\n",
    "    return x+y+z\n"
   ]
  },
  {
   "cell_type": "code",
   "execution_count": 81,
   "id": "54d7c1d4",
   "metadata": {},
   "outputs": [
    {
     "data": {
      "text/plain": [
       "9"
      ]
     },
     "execution_count": 81,
     "metadata": {},
     "output_type": "execute_result"
    }
   ],
   "source": [
    "addition(2,3,4)"
   ]
  },
  {
   "cell_type": "code",
   "execution_count": 84,
   "id": "01453559",
   "metadata": {},
   "outputs": [],
   "source": [
    "sum = lambda x,y,z: x+y+z"
   ]
  },
  {
   "cell_type": "code",
   "execution_count": 85,
   "id": "c61b23b0",
   "metadata": {},
   "outputs": [
    {
     "data": {
      "text/plain": [
       "9"
      ]
     },
     "execution_count": 85,
     "metadata": {},
     "output_type": "execute_result"
    }
   ],
   "source": [
    "sum(2,3,4)"
   ]
  },
  {
   "cell_type": "code",
   "execution_count": 86,
   "id": "0b20eb25",
   "metadata": {},
   "outputs": [],
   "source": [
    "sum1 = lambda a: x+y+z"
   ]
  },
  {
   "cell_type": "code",
   "execution_count": 87,
   "id": "50d7bffa",
   "metadata": {},
   "outputs": [
    {
     "ename": "TypeError",
     "evalue": "<lambda>() takes 1 positional argument but 3 were given",
     "output_type": "error",
     "traceback": [
      "\u001b[1;31m---------------------------------------------------------------------------\u001b[0m",
      "\u001b[1;31mTypeError\u001b[0m                                 Traceback (most recent call last)",
      "\u001b[1;32m<ipython-input-87-ff64aae0ed10>\u001b[0m in \u001b[0;36m<module>\u001b[1;34m\u001b[0m\n\u001b[1;32m----> 1\u001b[1;33m \u001b[0msum1\u001b[0m\u001b[1;33m(\u001b[0m\u001b[1;36m2\u001b[0m\u001b[1;33m,\u001b[0m\u001b[1;36m3\u001b[0m\u001b[1;33m,\u001b[0m\u001b[1;36m4\u001b[0m\u001b[1;33m)\u001b[0m\u001b[1;33m\u001b[0m\u001b[1;33m\u001b[0m\u001b[0m\n\u001b[0m",
      "\u001b[1;31mTypeError\u001b[0m: <lambda>() takes 1 positional argument but 3 were given"
     ]
    }
   ],
   "source": [
    "sum1(2,3,4)"
   ]
  },
  {
   "cell_type": "code",
   "execution_count": null,
   "id": "887b5de9",
   "metadata": {},
   "outputs": [],
   "source": [
    "#in function lambda we have specified only one positional argument(input variable a) but while calling function we are passing three arguments(2,3,4)\n",
    "#so we got the error"
   ]
  },
  {
   "cell_type": "code",
   "execution_count": null,
   "id": "e54593a1",
   "metadata": {},
   "outputs": [],
   "source": []
  },
  {
   "cell_type": "markdown",
   "id": "8c499c0e",
   "metadata": {},
   "source": [
    "# Filter Function in Python"
   ]
  },
  {
   "cell_type": "code",
   "execution_count": 98,
   "id": "54fafe26",
   "metadata": {},
   "outputs": [],
   "source": [
    "def even(num):\n",
    "    if num%2 == 0:\n",
    "        return True"
   ]
  },
  {
   "cell_type": "code",
   "execution_count": 99,
   "id": "81c1db02",
   "metadata": {},
   "outputs": [],
   "source": [
    "lst = [1,2,3,4,5,6,7,8,9,0]"
   ]
  },
  {
   "cell_type": "code",
   "execution_count": 100,
   "id": "5b8a5d1b",
   "metadata": {},
   "outputs": [],
   "source": [
    "#if I want to apply the evn function to the lst of all elements"
   ]
  },
  {
   "cell_type": "code",
   "execution_count": 101,
   "id": "3a9de31e",
   "metadata": {},
   "outputs": [
    {
     "data": {
      "text/plain": [
       "<filter at 0x1e3b7e8b648>"
      ]
     },
     "execution_count": 101,
     "metadata": {},
     "output_type": "execute_result"
    }
   ],
   "source": [
    "filter(even,lst)"
   ]
  },
  {
   "cell_type": "code",
   "execution_count": 102,
   "id": "a7b458ed",
   "metadata": {},
   "outputs": [
    {
     "data": {
      "text/plain": [
       "[2, 4, 6, 8, 0]"
      ]
     },
     "execution_count": 102,
     "metadata": {},
     "output_type": "execute_result"
    }
   ],
   "source": [
    "list(filter(even,lst))"
   ]
  },
  {
   "cell_type": "code",
   "execution_count": 103,
   "id": "129313bb",
   "metadata": {},
   "outputs": [],
   "source": [
    "#converting to lamda function"
   ]
  },
  {
   "cell_type": "code",
   "execution_count": 104,
   "id": "355a151b",
   "metadata": {},
   "outputs": [
    {
     "data": {
      "text/plain": [
       "<filter at 0x1e3b7e86508>"
      ]
     },
     "execution_count": 104,
     "metadata": {},
     "output_type": "execute_result"
    }
   ],
   "source": [
    "filter(lambda num:num%2==0,lst)"
   ]
  },
  {
   "cell_type": "code",
   "execution_count": 105,
   "id": "5f52fe1a",
   "metadata": {},
   "outputs": [
    {
     "data": {
      "text/plain": [
       "[2, 4, 6, 8, 0]"
      ]
     },
     "execution_count": 105,
     "metadata": {},
     "output_type": "execute_result"
    }
   ],
   "source": [
    "list(filter(lambda num:num%2==0,lst))"
   ]
  },
  {
   "cell_type": "code",
   "execution_count": 106,
   "id": "5e7f8610",
   "metadata": {},
   "outputs": [
    {
     "data": {
      "text/plain": [
       "[False, True, False, True, False, True, False, True, False, True]"
      ]
     },
     "execution_count": 106,
     "metadata": {},
     "output_type": "execute_result"
    }
   ],
   "source": [
    "list(map(lambda num:num%2==0,lst))"
   ]
  },
  {
   "cell_type": "code",
   "execution_count": 107,
   "id": "8ebeb688",
   "metadata": {},
   "outputs": [],
   "source": [
    "#so here we can see for filter only even no's are filtered and shown in output "
   ]
  },
  {
   "cell_type": "code",
   "execution_count": 108,
   "id": "851eab09",
   "metadata": {},
   "outputs": [],
   "source": [
    "#But in map all no's (even or odd) are shown in the output (As true False)"
   ]
  },
  {
   "cell_type": "code",
   "execution_count": null,
   "id": "6e28f2cf",
   "metadata": {},
   "outputs": [],
   "source": []
  },
  {
   "cell_type": "markdown",
   "id": "68f5347c",
   "metadata": {},
   "source": [
    "# Reduce Function in Python"
   ]
  },
  {
   "cell_type": "code",
   "execution_count": 109,
   "id": "e2edc727",
   "metadata": {},
   "outputs": [],
   "source": [
    "#suppose we have a list of elemtns and we need to find the sum of all elemnts"
   ]
  },
  {
   "cell_type": "code",
   "execution_count": 110,
   "id": "e7562645",
   "metadata": {},
   "outputs": [],
   "source": [
    "lst = [1,2,3,4,5,6]"
   ]
  },
  {
   "cell_type": "code",
   "execution_count": null,
   "id": "097a647a",
   "metadata": {},
   "outputs": [],
   "source": [
    "#to sum all elements we sum two elemets at a time and then proceed\n",
    "\n",
    "#1+2 = 3\n",
    "#sum_previous(3)+third_element of list(3) =6\n",
    "#proceed in similar manner\n",
    "#6+4 = 10\n",
    "#10+5 = 15\n",
    "#15+6 = 21\n",
    "\n",
    "\n",
    "#thus at a time we are proceeding with summing two elements and evaluatinng the sum"
   ]
  },
  {
   "cell_type": "code",
   "execution_count": 111,
   "id": "040dbc1f",
   "metadata": {},
   "outputs": [],
   "source": [
    "#now lets define a function to make sum of two numbers.\n",
    "\n",
    "def sum(a,b):\n",
    "    return a+b"
   ]
  },
  {
   "cell_type": "code",
   "execution_count": 112,
   "id": "1e8ec225",
   "metadata": {},
   "outputs": [],
   "source": [
    "#reduc function is present in module functools so we have to import it from module"
   ]
  },
  {
   "cell_type": "code",
   "execution_count": 113,
   "id": "debd7541",
   "metadata": {},
   "outputs": [],
   "source": [
    "from functools import reduce"
   ]
  },
  {
   "cell_type": "code",
   "execution_count": 114,
   "id": "eade1041",
   "metadata": {},
   "outputs": [],
   "source": [
    "#now applying reduce to sum up all the elements and \"reduce\" the result to just sum "
   ]
  },
  {
   "cell_type": "code",
   "execution_count": 116,
   "id": "def8cb38",
   "metadata": {},
   "outputs": [
    {
     "data": {
      "text/plain": [
       "21"
      ]
     },
     "execution_count": 116,
     "metadata": {},
     "output_type": "execute_result"
    }
   ],
   "source": [
    "#reduce takes two arguments (function , iterable(list in this case))\n",
    "\n",
    "reduce(sum,lst)"
   ]
  },
  {
   "cell_type": "code",
   "execution_count": 117,
   "id": "ae6b1f6b",
   "metadata": {},
   "outputs": [],
   "source": [
    "#thus we see got the sum as 21 (that is the reduced output of sum of all integers)"
   ]
  },
  {
   "cell_type": "code",
   "execution_count": 118,
   "id": "d5a70528",
   "metadata": {},
   "outputs": [],
   "source": [
    "#aplying reduce with lambda function"
   ]
  },
  {
   "cell_type": "code",
   "execution_count": 119,
   "id": "ab5e421a",
   "metadata": {},
   "outputs": [
    {
     "data": {
      "text/plain": [
       "21"
      ]
     },
     "execution_count": 119,
     "metadata": {},
     "output_type": "execute_result"
    }
   ],
   "source": [
    "reduce(lambda a,b:a+b,lst)"
   ]
  },
  {
   "cell_type": "code",
   "execution_count": 120,
   "id": "059914d2",
   "metadata": {},
   "outputs": [],
   "source": [
    "#works with lambda function as well"
   ]
  },
  {
   "cell_type": "code",
   "execution_count": null,
   "id": "19d07668",
   "metadata": {},
   "outputs": [],
   "source": []
  },
  {
   "cell_type": "code",
   "execution_count": null,
   "id": "7e2f4df0",
   "metadata": {},
   "outputs": [],
   "source": []
  },
  {
   "cell_type": "code",
   "execution_count": null,
   "id": "b4229d79",
   "metadata": {},
   "outputs": [],
   "source": []
  },
  {
   "cell_type": "code",
   "execution_count": null,
   "id": "b1d37587",
   "metadata": {},
   "outputs": [],
   "source": []
  },
  {
   "cell_type": "code",
   "execution_count": null,
   "id": "33460509",
   "metadata": {},
   "outputs": [],
   "source": []
  },
  {
   "cell_type": "code",
   "execution_count": null,
   "id": "35836bd6",
   "metadata": {},
   "outputs": [],
   "source": []
  },
  {
   "cell_type": "code",
   "execution_count": null,
   "id": "7a409557",
   "metadata": {},
   "outputs": [],
   "source": []
  },
  {
   "cell_type": "code",
   "execution_count": null,
   "id": "ad88c08b",
   "metadata": {},
   "outputs": [],
   "source": []
  },
  {
   "cell_type": "code",
   "execution_count": null,
   "id": "be9ba1b0",
   "metadata": {},
   "outputs": [],
   "source": []
  },
  {
   "cell_type": "code",
   "execution_count": null,
   "id": "4b102a2e",
   "metadata": {},
   "outputs": [],
   "source": []
  },
  {
   "cell_type": "code",
   "execution_count": null,
   "id": "56bd62ff",
   "metadata": {},
   "outputs": [],
   "source": []
  },
  {
   "cell_type": "code",
   "execution_count": null,
   "id": "161ec5c0",
   "metadata": {},
   "outputs": [],
   "source": []
  },
  {
   "cell_type": "code",
   "execution_count": null,
   "id": "23cff525",
   "metadata": {},
   "outputs": [],
   "source": []
  }
 ],
 "metadata": {
  "kernelspec": {
   "display_name": "Python 3",
   "language": "python",
   "name": "python3"
  },
  "language_info": {
   "codemirror_mode": {
    "name": "ipython",
    "version": 3
   },
   "file_extension": ".py",
   "mimetype": "text/x-python",
   "name": "python",
   "nbconvert_exporter": "python",
   "pygments_lexer": "ipython3",
   "version": "3.7.11"
  }
 },
 "nbformat": 4,
 "nbformat_minor": 5
}
