{
 "cells": [
  {
   "cell_type": "markdown",
   "id": "f1d6b3fd",
   "metadata": {},
   "source": [
    "# STRINGS in python"
   ]
  },
  {
   "cell_type": "code",
   "execution_count": 1,
   "id": "e25f0168",
   "metadata": {},
   "outputs": [],
   "source": [
    "#string is an ordered an immutable datatype used for text representation\n",
    "#on of thye most used datatype\n",
    "#created dwith eithger single or double quotes"
   ]
  },
  {
   "cell_type": "code",
   "execution_count": 2,
   "id": "91bc2354",
   "metadata": {},
   "outputs": [
    {
     "name": "stdout",
     "output_type": "stream",
     "text": [
      "Hello world\n"
     ]
    }
   ],
   "source": [
    "my_string = \"Hello world\"\n",
    "print(my_string)"
   ]
  },
  {
   "cell_type": "code",
   "execution_count": 3,
   "id": "cce2bf80",
   "metadata": {},
   "outputs": [
    {
     "name": "stdout",
     "output_type": "stream",
     "text": [
      "Hello world\n"
     ]
    }
   ],
   "source": [
    "my_string = 'Hello world'\n",
    "print(my_string)"
   ]
  },
  {
   "cell_type": "code",
   "execution_count": 4,
   "id": "efc0a073",
   "metadata": {},
   "outputs": [
    {
     "ename": "SyntaxError",
     "evalue": "invalid syntax (<ipython-input-4-e43a52d1edf7>, line 1)",
     "output_type": "error",
     "traceback": [
      "\u001b[1;36m  File \u001b[1;32m\"<ipython-input-4-e43a52d1edf7>\"\u001b[1;36m, line \u001b[1;32m1\u001b[0m\n\u001b[1;33m    my_string = 'I'm a programmer'\u001b[0m\n\u001b[1;37m                   ^\u001b[0m\n\u001b[1;31mSyntaxError\u001b[0m\u001b[1;31m:\u001b[0m invalid syntax\n"
     ]
    }
   ],
   "source": [
    "my_string = 'I'm a programmer'\n",
    "print(my_string)"
   ]
  },
  {
   "cell_type": "code",
   "execution_count": 5,
   "id": "63215b0c",
   "metadata": {},
   "outputs": [
    {
     "name": "stdout",
     "output_type": "stream",
     "text": [
      "I'm a programmer\n"
     ]
    }
   ],
   "source": [
    "#we can use an escaping backlslash\n",
    "\n",
    "my_string = 'I\\'m a programmer'\n",
    "print(my_string)"
   ]
  },
  {
   "cell_type": "code",
   "execution_count": 6,
   "id": "70cac50a",
   "metadata": {},
   "outputs": [
    {
     "name": "stdout",
     "output_type": "stream",
     "text": [
      "I'm a programmer\n"
     ]
    }
   ],
   "source": [
    "#just put in double quotes\n",
    "\n",
    "my_string = \"I'm a programmer\"\n",
    "print(my_string)"
   ]
  },
  {
   "cell_type": "code",
   "execution_count": 7,
   "id": "44f74356",
   "metadata": {},
   "outputs": [
    {
     "name": "stdout",
     "output_type": "stream",
     "text": [
      "Helo \n",
      "World\n"
     ]
    }
   ],
   "source": [
    "#multiline documentatiuon using triple quotes\n",
    "my_string = \"\"\"Helo \n",
    "World\"\"\"\n",
    "print(my_string)\n"
   ]
  },
  {
   "cell_type": "code",
   "execution_count": 9,
   "id": "183b4361",
   "metadata": {},
   "outputs": [
    {
     "name": "stdout",
     "output_type": "stream",
     "text": [
      "Hello World\n"
     ]
    }
   ],
   "source": [
    "my_string = \"\"\"Hello \\\n",
    "World\"\"\"\n",
    "print(my_string)\n"
   ]
  },
  {
   "cell_type": "code",
   "execution_count": 11,
   "id": "449ee3f6",
   "metadata": {},
   "outputs": [
    {
     "name": "stdout",
     "output_type": "stream",
     "text": [
      "H\n"
     ]
    }
   ],
   "source": [
    "#acess characters or substrings usiong brackets\n",
    "\n",
    "my_String = \"Hello world\"\n",
    "char = my_String[0]\n",
    "print(char)"
   ]
  },
  {
   "cell_type": "code",
   "execution_count": 12,
   "id": "6fb3f3cf",
   "metadata": {},
   "outputs": [
    {
     "name": "stdout",
     "output_type": "stream",
     "text": [
      "d\n"
     ]
    }
   ],
   "source": [
    "#vey last character\n",
    "my_String = \"Hello world\"\n",
    "char = my_String[-1]\n",
    "print(char)"
   ]
  },
  {
   "cell_type": "code",
   "execution_count": 15,
   "id": "e3324ba5",
   "metadata": {},
   "outputs": [
    {
     "ename": "TypeError",
     "evalue": "'str' object does not support item assignment",
     "output_type": "error",
     "traceback": [
      "\u001b[1;31m---------------------------------------------------------------------------\u001b[0m",
      "\u001b[1;31mTypeError\u001b[0m                                 Traceback (most recent call last)",
      "\u001b[1;32m<ipython-input-15-a098ad06c04a>\u001b[0m in \u001b[0;36m<module>\u001b[1;34m\u001b[0m\n\u001b[0;32m      1\u001b[0m \u001b[1;31m# we cannot acess a character abnd change it\u001b[0m\u001b[1;33m\u001b[0m\u001b[1;33m\u001b[0m\u001b[1;33m\u001b[0m\u001b[0m\n\u001b[0;32m      2\u001b[0m \u001b[0mmy_String\u001b[0m \u001b[1;33m=\u001b[0m \u001b[1;34m\"Hello world\"\u001b[0m\u001b[1;33m\u001b[0m\u001b[1;33m\u001b[0m\u001b[0m\n\u001b[1;32m----> 3\u001b[1;33m \u001b[0mmy_String\u001b[0m\u001b[1;33m[\u001b[0m\u001b[1;36m0\u001b[0m\u001b[1;33m]\u001b[0m \u001b[1;33m=\u001b[0m \u001b[1;34m\"h\"\u001b[0m\u001b[1;33m\u001b[0m\u001b[1;33m\u001b[0m\u001b[0m\n\u001b[0m\u001b[0;32m      4\u001b[0m \u001b[0mprint\u001b[0m\u001b[1;33m(\u001b[0m\u001b[0mmy_String\u001b[0m\u001b[1;33m)\u001b[0m\u001b[1;33m\u001b[0m\u001b[1;33m\u001b[0m\u001b[0m\n",
      "\u001b[1;31mTypeError\u001b[0m: 'str' object does not support item assignment"
     ]
    }
   ],
   "source": [
    "# we cannot access a character abnd change it\n",
    "my_String = \"Hello world\"\n",
    "my_String[0] = \"h\"\n",
    "print(my_String)\n",
    "\n",
    "\n",
    "#strings are immutable and cannot be string"
   ]
  },
  {
   "cell_type": "code",
   "execution_count": 16,
   "id": "7eb7283b",
   "metadata": {},
   "outputs": [
    {
     "name": "stdout",
     "output_type": "stream",
     "text": [
      "ello\n"
     ]
    }
   ],
   "source": [
    "#substring weith slicing\n",
    "\n",
    "my_String = \"Hello world\"\n",
    "substring= my_String[1:5]\n",
    "print(substring)\n"
   ]
  },
  {
   "cell_type": "code",
   "execution_count": 17,
   "id": "b94f7656",
   "metadata": {},
   "outputs": [
    {
     "name": "stdout",
     "output_type": "stream",
     "text": [
      "Hello\n"
     ]
    }
   ],
   "source": [
    "my_String = \"Hello world\"\n",
    "substring= my_String[:5]\n",
    "print(substring)"
   ]
  },
  {
   "cell_type": "code",
   "execution_count": 18,
   "id": "07d37282",
   "metadata": {},
   "outputs": [
    {
     "name": "stdout",
     "output_type": "stream",
     "text": [
      "Hello world\n"
     ]
    }
   ],
   "source": [
    "my_String = \"Hello world\"\n",
    "substring= my_String[:]\n",
    "print(substring)"
   ]
  },
  {
   "cell_type": "code",
   "execution_count": 19,
   "id": "22640df3",
   "metadata": {},
   "outputs": [
    {
     "name": "stdout",
     "output_type": "stream",
     "text": [
      "Hlowrd\n"
     ]
    }
   ],
   "source": [
    "#additional colon for step size\n",
    "\n",
    "my_String = \"Hello world\"\n",
    "substring= my_String[::2]\n",
    "print(substring)"
   ]
  },
  {
   "cell_type": "code",
   "execution_count": 20,
   "id": "37458e88",
   "metadata": {},
   "outputs": [
    {
     "name": "stdout",
     "output_type": "stream",
     "text": [
      "dlrow olleH\n"
     ]
    }
   ],
   "source": [
    "#reverses string using slicing operator\n",
    "my_String = \"Hello world\"\n",
    "substring= my_String[::-1]\n",
    "print(substring)"
   ]
  },
  {
   "cell_type": "code",
   "execution_count": 22,
   "id": "61bf5135",
   "metadata": {},
   "outputs": [
    {
     "name": "stdout",
     "output_type": "stream",
     "text": [
      "Hello Tom\n"
     ]
    }
   ],
   "source": [
    "#concatenating 2 or more string\n",
    "\n",
    "greeting = \"Hello\"\n",
    "name= \"Tom\"\n",
    "sentence = greeting+\" \"+name\n",
    "print(sentence)"
   ]
  },
  {
   "cell_type": "code",
   "execution_count": 24,
   "id": "b43c9a08",
   "metadata": {},
   "outputs": [
    {
     "name": "stdout",
     "output_type": "stream",
     "text": [
      "H\n",
      "e\n",
      "l\n",
      "l\n",
      "o\n"
     ]
    }
   ],
   "source": [
    "#iterating over string using for in loop\n",
    "greeting = \"Hello\"\n",
    "for x in greeting:\n",
    "    print(x)"
   ]
  },
  {
   "cell_type": "code",
   "execution_count": 26,
   "id": "1d2a9d68",
   "metadata": {},
   "outputs": [
    {
     "name": "stdout",
     "output_type": "stream",
     "text": [
      "yes\n"
     ]
    }
   ],
   "source": [
    "#check a character or substring\n",
    "\n",
    "if \"e\" in greeting:\n",
    "    print(\"yes\")\n",
    "else:\n",
    "    print('no')"
   ]
  },
  {
   "cell_type": "code",
   "execution_count": 27,
   "id": "6826f080",
   "metadata": {},
   "outputs": [
    {
     "name": "stdout",
     "output_type": "stream",
     "text": [
      "no\n"
     ]
    }
   ],
   "source": [
    "#check a character or substring\n",
    "\n",
    "if \"p\" in greeting:\n",
    "    print(\"yes\")\n",
    "else:\n",
    "    print('no')"
   ]
  },
  {
   "cell_type": "code",
   "execution_count": 28,
   "id": "dde20982",
   "metadata": {},
   "outputs": [
    {
     "name": "stdout",
     "output_type": "stream",
     "text": [
      "yes\n"
     ]
    }
   ],
   "source": [
    "#check for substring\n",
    "\n",
    "if \"ell\" in greeting:\n",
    "    print(\"yes\")"
   ]
  },
  {
   "cell_type": "code",
   "execution_count": 32,
   "id": "b30a24ab",
   "metadata": {},
   "outputs": [
    {
     "name": "stdout",
     "output_type": "stream",
     "text": [
      "   Hello World     \n"
     ]
    }
   ],
   "source": [
    "my_string = '   Hello World     '\n",
    "print(my_string)"
   ]
  },
  {
   "cell_type": "code",
   "execution_count": 34,
   "id": "a7c2ec45",
   "metadata": {},
   "outputs": [
    {
     "name": "stdout",
     "output_type": "stream",
     "text": [
      "Hello World\n"
     ]
    }
   ],
   "source": [
    "#if we want to remove white space using .strip method\n",
    "\n",
    "my_string = my_string.strip()\n",
    "print(my_string)\n",
    "\n",
    "#as string is not mutable it just removes the whitespace"
   ]
  },
  {
   "cell_type": "code",
   "execution_count": 35,
   "id": "1e427996",
   "metadata": {},
   "outputs": [
    {
     "name": "stdout",
     "output_type": "stream",
     "text": [
      "HELLO WORLD\n"
     ]
    }
   ],
   "source": [
    "#convert everycharacter to upper case\n",
    "\n",
    "my_string = my_string.upper()\n",
    "print(my_string)"
   ]
  },
  {
   "cell_type": "code",
   "execution_count": 37,
   "id": "2d1d57dd",
   "metadata": {},
   "outputs": [
    {
     "name": "stdout",
     "output_type": "stream",
     "text": [
      "True\n"
     ]
    }
   ],
   "source": [
    "#check if starts with specific character\n",
    "\n",
    "print(my_string.startswith(\"HELLO\")) "
   ]
  },
  {
   "cell_type": "code",
   "execution_count": 39,
   "id": "eecf5d7f",
   "metadata": {},
   "outputs": [
    {
     "name": "stdout",
     "output_type": "stream",
     "text": [
      "True\n"
     ]
    }
   ],
   "source": [
    "#check if ends with specific character\n",
    "\n",
    "print(my_string.endswith(\"WORLD\")) "
   ]
  },
  {
   "cell_type": "code",
   "execution_count": 40,
   "id": "4779f3e0",
   "metadata": {},
   "outputs": [
    {
     "name": "stdout",
     "output_type": "stream",
     "text": [
      "4\n"
     ]
    }
   ],
   "source": [
    "#find the index of a charcter or substring\n",
    "\n",
    "my_string = 'Hello World'\n",
    "print(my_string.find('o'))\n",
    "\n",
    "#returns first index that finds o"
   ]
  },
  {
   "cell_type": "code",
   "execution_count": 41,
   "id": "8cf2bbb5",
   "metadata": {},
   "outputs": [
    {
     "name": "stdout",
     "output_type": "stream",
     "text": [
      "3\n"
     ]
    }
   ],
   "source": [
    "#check for substring\n",
    "my_string = 'Hello World'\n",
    "print(my_string.find('lo'))\n"
   ]
  },
  {
   "cell_type": "code",
   "execution_count": 42,
   "id": "4d2789e3",
   "metadata": {},
   "outputs": [
    {
     "name": "stdout",
     "output_type": "stream",
     "text": [
      "3\n"
     ]
    }
   ],
   "source": [
    "#counts the no. of l in string\n",
    "\n",
    "my_string = 'Hello World'\n",
    "print(my_string.count('l'))"
   ]
  },
  {
   "cell_type": "code",
   "execution_count": 43,
   "id": "56e559e8",
   "metadata": {},
   "outputs": [
    {
     "name": "stdout",
     "output_type": "stream",
     "text": [
      "0\n"
     ]
    }
   ],
   "source": [
    "#counts the no. of p in string\n",
    "\n",
    "my_string = 'Hello World'\n",
    "print(my_string.count('p'))\n",
    "\n",
    "#no p in my_string"
   ]
  },
  {
   "cell_type": "code",
   "execution_count": 44,
   "id": "10af775a",
   "metadata": {},
   "outputs": [
    {
     "name": "stdout",
     "output_type": "stream",
     "text": [
      "['how', 'are', 'you', 'doing']\n"
     ]
    }
   ],
   "source": [
    "#put each word of string as a elemnent in my list\n",
    "#using split method\n",
    "#here default delimenter is space\n",
    "#looks for space and splits the spring\n",
    "\n",
    "my_string = 'how are you doing'\n",
    "my_list = my_string.split()\n",
    "print(my_list)\n"
   ]
  },
  {
   "cell_type": "code",
   "execution_count": 45,
   "id": "0efb0ae3",
   "metadata": {},
   "outputs": [
    {
     "name": "stdout",
     "output_type": "stream",
     "text": [
      "['how,are,you,doing']\n"
     ]
    }
   ],
   "source": [
    "my_string = 'how,are,you,doing'\n",
    "my_list = my_string.split()\n",
    "print(my_list)\n",
    "\n",
    "\n",
    "#we can see it returned on element i.e exactly the input element"
   ]
  },
  {
   "cell_type": "code",
   "execution_count": 46,
   "id": "e3e1bb2c",
   "metadata": {},
   "outputs": [
    {
     "name": "stdout",
     "output_type": "stream",
     "text": [
      "['how', 'are', 'you', 'doing']\n"
     ]
    }
   ],
   "source": [
    "#use delimeter as comma\n",
    "\n",
    "my_string = 'how,are,you,doing'\n",
    "my_list = my_string.split(\",\")\n",
    "print(my_list)\n"
   ]
  },
  {
   "cell_type": "markdown",
   "id": "871315b3",
   "metadata": {},
   "source": [
    "### .join() method coverts list to a string\n",
    "##very important\n",
    "##it is a very faster method to create string"
   ]
  },
  {
   "cell_type": "code",
   "execution_count": 47,
   "id": "56343818",
   "metadata": {},
   "outputs": [
    {
     "name": "stdout",
     "output_type": "stream",
     "text": [
      "howareyoudoing\n"
     ]
    }
   ],
   "source": [
    "#convert list back to string\n",
    "#here '' refers to empty string\n",
    "#we see there is no space between string\n",
    "\n",
    "new_string = ''.join(my_list)\n",
    "print(new_string)"
   ]
  },
  {
   "cell_type": "code",
   "execution_count": 50,
   "id": "4216492c",
   "metadata": {},
   "outputs": [
    {
     "name": "stdout",
     "output_type": "stream",
     "text": [
      "how are you doing\n",
      "<class 'str'>\n"
     ]
    }
   ],
   "source": [
    "#convert list back to string\n",
    "#here ' ' refers to empty string with a space\n",
    "#we see there is no space between string\n",
    "\n",
    "new_string = ' '.join(my_list)\n",
    "print(new_string)\n",
    "print(type(new_string))"
   ]
  },
  {
   "cell_type": "code",
   "execution_count": 51,
   "id": "f11390a7",
   "metadata": {},
   "outputs": [
    {
     "name": "stdout",
     "output_type": "stream",
     "text": [
      "['a', 'a', 'a', 'a', 'a', 'a']\n"
     ]
    }
   ],
   "source": [
    "my_list = ['a']*6\n",
    "print(my_list)"
   ]
  },
  {
   "cell_type": "code",
   "execution_count": 52,
   "id": "b1de987d",
   "metadata": {},
   "outputs": [
    {
     "name": "stdout",
     "output_type": "stream",
     "text": [
      "aaaaaa\n"
     ]
    }
   ],
   "source": [
    "#if we want to join all elemets of list into a  string\n",
    "#this is bad python code as string is immutable so line 7 will create a new string and assign to my_string in 5\n",
    "#this is an expensive operation\n",
    "\n",
    "\n",
    "my_string = ''\n",
    "for x in my_list:\n",
    "    my_string+= x\n",
    "\n",
    "print(my_string)   \n"
   ]
  },
  {
   "cell_type": "code",
   "execution_count": 53,
   "id": "aa0a8f67",
   "metadata": {},
   "outputs": [
    {
     "name": "stdout",
     "output_type": "stream",
     "text": [
      "aaaaaa\n"
     ]
    }
   ],
   "source": [
    "#use join method instead\n",
    "my_string = ''.join(my_list)\n",
    "\n",
    "print(my_string)   \n"
   ]
  },
  {
   "cell_type": "code",
   "execution_count": 56,
   "id": "5a672717",
   "metadata": {},
   "outputs": [
    {
     "name": "stdout",
     "output_type": "stream",
     "text": [
      "aaaaaa\n"
     ]
    }
   ],
   "source": [
    "#use join method instead\n",
    "#another way of writing the same thing\n",
    "my_string = ''\n",
    "my_string= my_string.join(my_list)\n",
    "\n",
    "print(my_string)   \n"
   ]
  },
  {
   "cell_type": "code",
   "execution_count": 57,
   "id": "de5f508d",
   "metadata": {},
   "outputs": [
    {
     "name": "stdout",
     "output_type": "stream",
     "text": [
      "aaaaaa\n",
      "0.00016289999985019676\n"
     ]
    }
   ],
   "source": [
    "from timeit import default_timer as timer\n",
    "start= timer()\n",
    "\n",
    "my_string = ''\n",
    "for x in my_list:\n",
    "    my_string+= x\n",
    "\n",
    "print(my_string)   \n",
    "\n",
    "stop =timer()\n",
    "print(stop-start)"
   ]
  },
  {
   "cell_type": "code",
   "execution_count": 58,
   "id": "2fb240f8",
   "metadata": {},
   "outputs": [
    {
     "name": "stdout",
     "output_type": "stream",
     "text": [
      "aaaaaa\n",
      "9.000000000014552e-05\n"
     ]
    }
   ],
   "source": [
    "from timeit import default_timer as timer\n",
    "start= timer()\n",
    "\n",
    "my_string = ''.join(my_list)\n",
    "\n",
    "print(my_string)   \n",
    " \n",
    "\n",
    "stop =timer()\n",
    "print(stop-start)"
   ]
  },
  {
   "cell_type": "markdown",
   "id": "aaf24461",
   "metadata": {},
   "source": [
    "####so we see .join method is much much faster"
   ]
  },
  {
   "cell_type": "code",
   "execution_count": 61,
   "id": "e38b0f96",
   "metadata": {},
   "outputs": [
    {
     "name": "stdout",
     "output_type": "stream",
     "text": [
      "0.19310749999976906\n"
     ]
    }
   ],
   "source": [
    "from timeit import default_timer as timer\n",
    "start= timer()\n",
    "\n",
    "my_list = [\"a\"]*1000000\n",
    "\n",
    "my_string = ''\n",
    "for x in my_list:\n",
    "    my_string+= x\n",
    "\n",
    "#print(my_string)   \n",
    "\n",
    "stop =timer()\n",
    "print(stop-start)"
   ]
  },
  {
   "cell_type": "code",
   "execution_count": 63,
   "id": "0059d11f",
   "metadata": {},
   "outputs": [
    {
     "name": "stdout",
     "output_type": "stream",
     "text": [
      "0.014580000000023574\n"
     ]
    }
   ],
   "source": [
    "from timeit import default_timer as timer\n",
    "start= timer()\n",
    "\n",
    "my_list = [\"a\"]*1000000\n",
    "\n",
    "my_string = ''.join(my_list)\n",
    "\n",
    "#print(my_string)   \n",
    " \n",
    "\n",
    "stop =timer()\n",
    "print(stop-start)\n",
    "\n",
    "###much faster"
   ]
  },
  {
   "cell_type": "markdown",
   "id": "fc256a9a",
   "metadata": {},
   "source": [
    "##### formatting string using th eold style\n",
    "##### % percentage operator\n",
    "##### .format operator\n",
    "##### f strings"
   ]
  },
  {
   "cell_type": "code",
   "execution_count": 65,
   "id": "2aa40a9a",
   "metadata": {},
   "outputs": [
    {
     "name": "stdout",
     "output_type": "stream",
     "text": [
      "the variable is Tom\n"
     ]
    }
   ],
   "source": [
    "var = \"Tom\"\n",
    "my_string = \"the variable is %s\" %var\n",
    "print(my_string)\n",
    "\n",
    "##this %s tells thenmterpretor we have a placeholder with string here hence %s and then we fill the placeholder with the var i.e the variable we have created"
   ]
  },
  {
   "cell_type": "code",
   "execution_count": 66,
   "id": "9c9c1e96",
   "metadata": {},
   "outputs": [
    {
     "name": "stdout",
     "output_type": "stream",
     "text": [
      "the variable is 1\n"
     ]
    }
   ],
   "source": [
    "#if our variable is number \n",
    "\n",
    "var = 1\n",
    "my_string = \"the variable is %d\" %var\n",
    "print(my_string)\n",
    "\n",
    "##this %d tells thenmterpretor we have a placeholder with integer decimal value here hence %d and then we fill the placeholder with the var i.e the variable we have created"
   ]
  },
  {
   "cell_type": "code",
   "execution_count": 67,
   "id": "62aabcac",
   "metadata": {},
   "outputs": [
    {
     "name": "stdout",
     "output_type": "stream",
     "text": [
      "the variable is 1.000000\n"
     ]
    }
   ],
   "source": [
    "#if our variable is floating\n",
    "#by deafault it is six zeros after decimal point\n",
    "\n",
    "var = 1.0\n",
    "my_string = \"the variable is %f\" %var\n",
    "print(my_string)\n",
    "\n",
    "##this %f tells thenmterpretor we have a placeholder with floating value here hence %f and then we fill the placeholder with the var i.e the variable we have created\n",
    "\n"
   ]
  },
  {
   "cell_type": "code",
   "execution_count": 72,
   "id": "b9c5a2d4",
   "metadata": {},
   "outputs": [
    {
     "name": "stdout",
     "output_type": "stream",
     "text": [
      "the variable is 1.00\n"
     ]
    }
   ],
   "source": [
    "#if our variable is floating\n",
    "#by deafault it is six zeros after decimal point\n",
    "#if we want 2 digits after decimal\n",
    "\n",
    "var = 1.0\n",
    "my_string = \"the variable is %.2f\" %var\n",
    "print(my_string)\n",
    "\n",
    "##this %f tells thenmterpretor we have a placeholder with floating value here hence %f and %.2f will say allow only 2 digits after decimal point then we fill the placeholder with the var i.e the variable we have created\n",
    "\n"
   ]
  },
  {
   "cell_type": "code",
   "execution_count": 75,
   "id": "e49d586a",
   "metadata": {},
   "outputs": [
    {
     "name": "stdout",
     "output_type": "stream",
     "text": [
      "the value of pi is 3.1427\n"
     ]
    }
   ],
   "source": [
    "###using . format method\n",
    "\n",
    "var = 3.1427\n",
    "my_string = \"the value of pi is {}\".format(var)\n",
    "\n",
    "print(my_string)\n",
    "\n",
    "##this {} tells thenmterpretor we have a placeholder with floating value here hence {} and then we fill the placeholder with the var i.e the variable we have created\n",
    "\n"
   ]
  },
  {
   "cell_type": "code",
   "execution_count": 76,
   "id": "50710ff5",
   "metadata": {},
   "outputs": [
    {
     "name": "stdout",
     "output_type": "stream",
     "text": [
      "the value of pi is 3.14\n"
     ]
    }
   ],
   "source": [
    "###using . format method\n",
    "\n",
    "var = 3.1427\n",
    "my_string = \"the value of pi is {:.2f}\".format(var)\n",
    "\n",
    "print(my_string)\n",
    "\n",
    "##this {} tells thenmterpretor we have a placeholder with floating value here hence {} and colon.2f (:.2f) tells the interpreter to fill the placeholder with 2 digits after decimal.\n"
   ]
  },
  {
   "cell_type": "code",
   "execution_count": 77,
   "id": "72982017",
   "metadata": {},
   "outputs": [
    {
     "name": "stdout",
     "output_type": "stream",
     "text": [
      "the value of pi and acceleration due to gravity is is 3.14 and 9.18\n"
     ]
    }
   ],
   "source": [
    "var = 3.1427\n",
    "var2 = 9.18\n",
    "my_string = \"the value of pi and acceleration due to gravity is is {:.2f} and {}\".format(var,var2)\n",
    "\n",
    "print(my_string)"
   ]
  },
  {
   "cell_type": "code",
   "execution_count": 81,
   "id": "e2cd0fa4",
   "metadata": {},
   "outputs": [
    {
     "name": "stdout",
     "output_type": "stream",
     "text": [
      "the value of pi and acceleration due to gravity is is 3.1427 and 9.18\n"
     ]
    }
   ],
   "source": [
    "##using f strings\n",
    "\n",
    "var = 3.1427\n",
    "var2 = 9.18\n",
    "my_string = f\"the value of pi and acceleration due to gravity is is {var} and {var2}\"\n",
    "\n",
    "print(my_string)"
   ]
  },
  {
   "cell_type": "code",
   "execution_count": 80,
   "id": "b5605600",
   "metadata": {},
   "outputs": [
    {
     "name": "stdout",
     "output_type": "stream",
     "text": [
      "the value of pi and acceleration due to gravity is is 3.14 and 9.18\n"
     ]
    }
   ],
   "source": [
    "##using f strings\n",
    "\n",
    "var = 3.1427\n",
    "var2 = 9.18\n",
    "my_string = f\"the value of pi and acceleration due to gravity is is {var:.2f} and {var2}\"\n",
    "\n",
    "print(my_string)\n",
    "\n",
    "## here {var:.2f} telss the interpretor to fill f string placeholder with only two places after decimal"
   ]
  },
  {
   "cell_type": "code",
   "execution_count": 83,
   "id": "2dc4bf07",
   "metadata": {},
   "outputs": [
    {
     "name": "stdout",
     "output_type": "stream",
     "text": [
      "the value of double of pi and acceleration due to gravity is is 6.29 and 9.18\n"
     ]
    }
   ],
   "source": [
    "##using f strings it evaluates during run time \n",
    "\n",
    "var = 3.1427\n",
    "var2 = 9.18\n",
    "my_string = f\"the value of double of pi and acceleration due to gravity is is {var*2:.2f} and {var2}\"\n",
    "\n",
    "print(my_string)\n",
    "\n",
    "## here {var:.2f} telss the interpretor to fill f string placeholder with only two places after decimal\n",
    "## {var*2} tells to multiply two times to var"
   ]
  },
  {
   "cell_type": "code",
   "execution_count": null,
   "id": "a0b19f83",
   "metadata": {},
   "outputs": [],
   "source": []
  },
  {
   "cell_type": "code",
   "execution_count": null,
   "id": "38f2c1ba",
   "metadata": {},
   "outputs": [],
   "source": []
  }
 ],
 "metadata": {
  "kernelspec": {
   "display_name": "Python 3",
   "language": "python",
   "name": "python3"
  },
  "language_info": {
   "codemirror_mode": {
    "name": "ipython",
    "version": 3
   },
   "file_extension": ".py",
   "mimetype": "text/x-python",
   "name": "python",
   "nbconvert_exporter": "python",
   "pygments_lexer": "ipython3",
   "version": "3.7.11"
  }
 },
 "nbformat": 4,
 "nbformat_minor": 5
}
