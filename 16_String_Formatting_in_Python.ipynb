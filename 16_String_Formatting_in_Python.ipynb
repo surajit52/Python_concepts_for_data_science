{
 "cells": [
  {
   "cell_type": "markdown",
   "id": "8d20de6f",
   "metadata": {},
   "source": [
    "# String Formatting in Python"
   ]
  },
  {
   "cell_type": "code",
   "execution_count": 6,
   "id": "638730fb",
   "metadata": {},
   "outputs": [],
   "source": [
    "def greeting(name):\n",
    "    return \"Hello {} , Welcome to my notebook\".format(name)"
   ]
  },
  {
   "cell_type": "code",
   "execution_count": 7,
   "id": "3415616f",
   "metadata": {},
   "outputs": [
    {
     "data": {
      "text/plain": [
       "'Hello Surajit , Welcome to my notebook'"
      ]
     },
     "execution_count": 7,
     "metadata": {},
     "output_type": "execute_result"
    }
   ],
   "source": [
    "greeting(\"Surajit\")"
   ]
  },
  {
   "cell_type": "code",
   "execution_count": 8,
   "id": "914357ac",
   "metadata": {},
   "outputs": [],
   "source": [
    "def welcome(name,profession):\n",
    "    return \"Hello {}! All please welcome {}, he is a {}\".format(name,name,profession)"
   ]
  },
  {
   "cell_type": "code",
   "execution_count": 9,
   "id": "d0ff01ef",
   "metadata": {},
   "outputs": [
    {
     "data": {
      "text/plain": [
       "'Hello Surajit! All please welcome Surajit, he is a Data Analyst'"
      ]
     },
     "execution_count": 9,
     "metadata": {},
     "output_type": "execute_result"
    }
   ],
   "source": [
    "welcome('Surajit','Data Analyst')"
   ]
  },
  {
   "cell_type": "code",
   "execution_count": 10,
   "id": "153a58f5",
   "metadata": {},
   "outputs": [],
   "source": [
    "#ordering is important in format statement example below\n",
    "\n",
    "def welcome(name,profession):\n",
    "    return \"Hello {}! All please welcome {}, he is a {}\".format(profession,name,name)"
   ]
  },
  {
   "cell_type": "code",
   "execution_count": 13,
   "id": "d9470bbd",
   "metadata": {},
   "outputs": [
    {
     "data": {
      "text/plain": [
       "'Hello Data Analyst! All please welcome Surajit, he is a Surajit'"
      ]
     },
     "execution_count": 13,
     "metadata": {},
     "output_type": "execute_result"
    }
   ],
   "source": [
    "welcome('Surajit','Data Analyst')\n",
    "\n",
    "## see order inside .format(tuples usually) is important"
   ]
  },
  {
   "cell_type": "code",
   "execution_count": 14,
   "id": "0d75a20c",
   "metadata": {},
   "outputs": [],
   "source": [
    "#we can also use temporary variable names(aka placeholder names) inside curly braces\n",
    "#assign temporary variables to arguments passed in appropriate manner nm=name,pr=profession\n",
    "\n",
    "def welcome(name,profession):\n",
    "    return \"Hello {nm}! All please welcome {nm}, he is a {pr}\".format(nm=name,pr=profession)"
   ]
  },
  {
   "cell_type": "code",
   "execution_count": 15,
   "id": "dc961c76",
   "metadata": {},
   "outputs": [
    {
     "data": {
      "text/plain": [
       "'Hello Surajit! All please welcome Surajit, he is a Data Analyst'"
      ]
     },
     "execution_count": 15,
     "metadata": {},
     "output_type": "execute_result"
    }
   ],
   "source": [
    "welcome('Surajit','Data Analyst')"
   ]
  },
  {
   "cell_type": "code",
   "execution_count": null,
   "id": "4b7c0174",
   "metadata": {},
   "outputs": [],
   "source": []
  },
  {
   "cell_type": "code",
   "execution_count": null,
   "id": "ea78a28f",
   "metadata": {},
   "outputs": [],
   "source": []
  },
  {
   "cell_type": "code",
   "execution_count": null,
   "id": "6e1a1896",
   "metadata": {},
   "outputs": [],
   "source": []
  },
  {
   "cell_type": "code",
   "execution_count": null,
   "id": "8fb90aa8",
   "metadata": {},
   "outputs": [],
   "source": []
  },
  {
   "cell_type": "code",
   "execution_count": null,
   "id": "1e1128fc",
   "metadata": {},
   "outputs": [],
   "source": []
  },
  {
   "cell_type": "code",
   "execution_count": null,
   "id": "0078102c",
   "metadata": {},
   "outputs": [],
   "source": []
  }
 ],
 "metadata": {
  "kernelspec": {
   "display_name": "Python 3",
   "language": "python",
   "name": "python3"
  },
  "language_info": {
   "codemirror_mode": {
    "name": "ipython",
    "version": 3
   },
   "file_extension": ".py",
   "mimetype": "text/x-python",
   "name": "python",
   "nbconvert_exporter": "python",
   "pygments_lexer": "ipython3",
   "version": "3.7.11"
  }
 },
 "nbformat": 4,
 "nbformat_minor": 5
}
