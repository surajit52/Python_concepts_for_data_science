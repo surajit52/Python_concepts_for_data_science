{
 "cells": [
  {
   "cell_type": "code",
   "execution_count": 1,
   "id": "3cc4f5bc",
   "metadata": {},
   "outputs": [],
   "source": [
    "#collection module implements special container functionalities in addition to possed by sets, tuples , dictionaries\n",
    "#types of collections include (counter,namedtuple,ordered dict,defaultdict,deque)"
   ]
  },
  {
   "cell_type": "markdown",
   "id": "f1eb914c",
   "metadata": {},
   "source": [
    "# 1. Counter"
   ]
  },
  {
   "cell_type": "code",
   "execution_count": 3,
   "id": "931d4da2",
   "metadata": {},
   "outputs": [
    {
     "name": "stdout",
     "output_type": "stream",
     "text": [
      "Counter({'a': 5, 'b': 4, 'c': 3})\n"
     ]
    }
   ],
   "source": [
    "#counter is a comntainer that stores elements as dictionary keys and count as dictionary valies\n",
    "\n",
    "from collections import Counter\n",
    "a = 'aaaaabbbbccc'\n",
    "my_counter = Counter(a)\n",
    "print(my_counter)"
   ]
  },
  {
   "cell_type": "code",
   "execution_count": 5,
   "id": "8b56e413",
   "metadata": {},
   "outputs": [
    {
     "name": "stdout",
     "output_type": "stream",
     "text": [
      "dict_items([('a', 5), ('b', 4), ('c', 3)])\n"
     ]
    }
   ],
   "source": [
    "#items method gives key, value pairs\n",
    "\n",
    "a = 'aaaaabbbbccc'\n",
    "my_counter = Counter(a)\n",
    "print(my_counter.items())"
   ]
  },
  {
   "cell_type": "code",
   "execution_count": 6,
   "id": "c38267d9",
   "metadata": {},
   "outputs": [
    {
     "name": "stdout",
     "output_type": "stream",
     "text": [
      "dict_keys(['a', 'b', 'c'])\n"
     ]
    }
   ],
   "source": [
    "#look at keys\n",
    "a = 'aaaaabbbbccc'\n",
    "my_counter = Counter(a)\n",
    "print(my_counter.keys())\n"
   ]
  },
  {
   "cell_type": "code",
   "execution_count": 7,
   "id": "d0ab8443",
   "metadata": {},
   "outputs": [
    {
     "name": "stdout",
     "output_type": "stream",
     "text": [
      "dict_values([5, 4, 3])\n"
     ]
    }
   ],
   "source": [
    "#look at values\n",
    "a = 'aaaaabbbbccc'\n",
    "my_counter = Counter(a)\n",
    "print(my_counter.values())\n"
   ]
  },
  {
   "cell_type": "code",
   "execution_count": 8,
   "id": "28fe920f",
   "metadata": {},
   "outputs": [
    {
     "name": "stdout",
     "output_type": "stream",
     "text": [
      "[('a', 5), ('b', 4), ('c', 3)]\n"
     ]
    }
   ],
   "source": [
    "#most common elemet in counter i.e element and it frequency\n",
    "a = 'aaaaabbbbccc'\n",
    "my_counter = Counter(a)\n",
    "print(my_counter.most_common())\n"
   ]
  },
  {
   "cell_type": "code",
   "execution_count": 9,
   "id": "984e3da2",
   "metadata": {},
   "outputs": [
    {
     "name": "stdout",
     "output_type": "stream",
     "text": [
      "[('a', 5)]\n"
     ]
    }
   ],
   "source": [
    "#most common elemet in counter\n",
    "#very first element i want\n",
    "\n",
    "a = 'aaaaabbbbccc'\n",
    "my_counter = Counter(a)\n",
    "print(my_counter.most_common(1))\n"
   ]
  },
  {
   "cell_type": "code",
   "execution_count": 10,
   "id": "8d1710c1",
   "metadata": {},
   "outputs": [
    {
     "name": "stdout",
     "output_type": "stream",
     "text": [
      "[('a', 5), ('b', 4)]\n"
     ]
    }
   ],
   "source": [
    "#most common element in counter\n",
    "#here 2 gives 2 most common types\n",
    "a = 'aaaaabbbbccc'\n",
    "my_counter = Counter(a)\n",
    "print(my_counter.most_common(2))\n"
   ]
  },
  {
   "cell_type": "code",
   "execution_count": 11,
   "id": "32ce5225",
   "metadata": {},
   "outputs": [
    {
     "name": "stdout",
     "output_type": "stream",
     "text": [
      "('a', 5)\n"
     ]
    }
   ],
   "source": [
    "#if i wnt to look at most common element and it count\n",
    "# we know it is a so we have access it using index 0\n",
    "\n",
    "a = 'aaaaabbbbccc'\n",
    "my_counter = Counter(a)\n",
    "print(my_counter.most_common(1)[0])\n"
   ]
  },
  {
   "cell_type": "code",
   "execution_count": 12,
   "id": "aa8fefad",
   "metadata": {},
   "outputs": [
    {
     "name": "stdout",
     "output_type": "stream",
     "text": [
      "a\n"
     ]
    }
   ],
   "source": [
    "a = 'aaaaabbbbccc'\n",
    "my_counter = Counter(a)\n",
    "print(my_counter.most_common(1)[0][0])\n"
   ]
  },
  {
   "cell_type": "code",
   "execution_count": 15,
   "id": "24249698",
   "metadata": {},
   "outputs": [
    {
     "name": "stdout",
     "output_type": "stream",
     "text": [
      "['a', 'a', 'a', 'a', 'a', 'b', 'b', 'b', 'b', 'c', 'c', 'c']\n"
     ]
    }
   ],
   "source": [
    "a = 'aaaaabbbbccc'\n",
    "my_counter = Counter(a)\n",
    "print(list(my_counter.elements()))\n",
    "\n",
    "#if we want all elements in a list form \n"
   ]
  },
  {
   "cell_type": "markdown",
   "id": "6d015e93",
   "metadata": {},
   "source": [
    "# 2.NamedTuple"
   ]
  },
  {
   "cell_type": "code",
   "execution_count": 16,
   "id": "c367c533",
   "metadata": {},
   "outputs": [
    {
     "name": "stdout",
     "output_type": "stream",
     "text": [
      "Point(x=1, y=-4)\n",
      "1 -4\n"
     ]
    }
   ],
   "source": [
    "from collections import namedtuple\n",
    "Point = namedtuple('Point','x,y')\n",
    "pt = Point(1,-4)\n",
    "print(pt)\n",
    "print(pt.x,pt.y)"
   ]
  },
  {
   "cell_type": "markdown",
   "id": "330850b6",
   "metadata": {},
   "source": [
    "# 3 OrderedDict"
   ]
  },
  {
   "cell_type": "code",
   "execution_count": 18,
   "id": "80e6bb8c",
   "metadata": {},
   "outputs": [
    {
     "name": "stdout",
     "output_type": "stream",
     "text": [
      "OrderedDict([('b', 2), ('c', 3), ('d', 4), ('a', 1)])\n"
     ]
    }
   ],
   "source": [
    "#it is  like a regular dictionary but remember  the order in which items are inserted\n",
    "\n",
    "from collections import OrderedDict\n",
    "ordered_dict = OrderedDict()\n",
    "\n",
    "#inserting elemets in dictionary\n",
    "ordered_dict['b']= 2\n",
    "ordered_dict['c']= 3\n",
    "ordered_dict['d']= 4\n",
    "ordered_dict['a']= 1\n",
    "print(ordered_dict)\n",
    "\n",
    "\n",
    "#here we inserted a at end and it remeners the order "
   ]
  },
  {
   "cell_type": "markdown",
   "id": "ce218c5e",
   "metadata": {},
   "source": [
    "# 4 defaultdict"
   ]
  },
  {
   "cell_type": "code",
   "execution_count": 22,
   "id": "bd5ce638",
   "metadata": {},
   "outputs": [
    {
     "name": "stdout",
     "output_type": "stream",
     "text": [
      "defaultdict(<class 'int'>, {'a': 1, 'b': 2})\n",
      "1\n",
      "0\n"
     ]
    }
   ],
   "source": [
    "#only difference from normal dictionary is  it has a default value if the key not been set yet\n",
    "\n",
    "from collections import defaultdict\n",
    "d = defaultdict(int)\n",
    "# we are passing int as a default type\n",
    "\n",
    "d['a']= 1\n",
    "d['b']=2\n",
    "print(d)\n",
    "print(d['a'])\n",
    "\n",
    "#now if I put a key that doesnt exxt then by default it will put a value of zero to key 'c' as int \n",
    "print(d['c'])\n",
    "\n",
    "\n",
    "\n"
   ]
  },
  {
   "cell_type": "code",
   "execution_count": 23,
   "id": "c6f28737",
   "metadata": {},
   "outputs": [
    {
     "name": "stdout",
     "output_type": "stream",
     "text": [
      "defaultdict(<class 'float'>, {'a': 1, 'b': 2})\n",
      "1\n",
      "0.0\n"
     ]
    }
   ],
   "source": [
    "from collections import defaultdict\n",
    "d = defaultdict(float)\n",
    "# we are passing int as a default type\n",
    "\n",
    "d['a']= 1\n",
    "d['b']=2\n",
    "print(d)\n",
    "print(d['a'])\n",
    "\n",
    "#now if I put a key that doesnt exxt then by default it will put a value of zero to key 'c' as float value \n",
    "print(d['c'])\n"
   ]
  },
  {
   "cell_type": "code",
   "execution_count": 24,
   "id": "6e121cb0",
   "metadata": {},
   "outputs": [
    {
     "name": "stdout",
     "output_type": "stream",
     "text": [
      "defaultdict(<class 'list'>, {'a': 1, 'b': 2})\n",
      "1\n",
      "[]\n"
     ]
    }
   ],
   "source": [
    "from collections import defaultdict\n",
    "d = defaultdict(list)\n",
    "# we are passing int as a default type\n",
    "\n",
    "d['a']= 1\n",
    "d['b']=2\n",
    "print(d)\n",
    "print(d['a'])\n",
    "\n",
    "#now if I put a key that doesnt exixt then by default it will put a value of zero to key 'c' as empty list\n",
    "print(d['c'])\n"
   ]
  },
  {
   "cell_type": "code",
   "execution_count": 25,
   "id": "1dab3041",
   "metadata": {},
   "outputs": [
    {
     "name": "stdout",
     "output_type": "stream",
     "text": [
      "{'a': 1, 'b': 2}\n",
      "1\n"
     ]
    },
    {
     "ename": "KeyError",
     "evalue": "'c'",
     "output_type": "error",
     "traceback": [
      "\u001b[1;31m---------------------------------------------------------------------------\u001b[0m",
      "\u001b[1;31mKeyError\u001b[0m                                  Traceback (most recent call last)",
      "\u001b[1;32m<ipython-input-25-abea3b893a7c>\u001b[0m in \u001b[0;36m<module>\u001b[1;34m\u001b[0m\n\u001b[0;32m      7\u001b[0m \u001b[1;33m\u001b[0m\u001b[0m\n\u001b[0;32m      8\u001b[0m \u001b[1;33m\u001b[0m\u001b[0m\n\u001b[1;32m----> 9\u001b[1;33m \u001b[0mprint\u001b[0m\u001b[1;33m(\u001b[0m\u001b[0md\u001b[0m\u001b[1;33m[\u001b[0m\u001b[1;34m'c'\u001b[0m\u001b[1;33m]\u001b[0m\u001b[1;33m)\u001b[0m\u001b[1;33m\u001b[0m\u001b[1;33m\u001b[0m\u001b[0m\n\u001b[0m",
      "\u001b[1;31mKeyError\u001b[0m: 'c'"
     ]
    }
   ],
   "source": [
    "#with normal dict it raises a key error\n",
    "d = {}\n",
    "d['a']= 1\n",
    "d['b']=2\n",
    "print(d)\n",
    "print(d['a'])\n",
    "\n",
    "\n",
    "print(d['c'])\n"
   ]
  },
  {
   "cell_type": "markdown",
   "id": "fd59102a",
   "metadata": {},
   "source": [
    "# 5.deque"
   ]
  },
  {
   "cell_type": "code",
   "execution_count": null,
   "id": "d15dc231",
   "metadata": {},
   "outputs": [],
   "source": [
    "#deque is a double ended que\n",
    "#it can be used to add/remove elemets from both ends"
   ]
  },
  {
   "cell_type": "code",
   "execution_count": 27,
   "id": "f164b72e",
   "metadata": {},
   "outputs": [
    {
     "name": "stdout",
     "output_type": "stream",
     "text": [
      "deque([3, 1, 2])\n"
     ]
    }
   ],
   "source": [
    "from collections import deque\n",
    "d = deque()\n",
    "#apenddtems as list\n",
    "\n",
    "d.append(1)\n",
    "d.append(2)\n",
    "\n",
    "d.appendleft(3)\n",
    "print(d)    \n",
    "\n"
   ]
  },
  {
   "cell_type": "code",
   "execution_count": 28,
   "id": "d0028a1d",
   "metadata": {},
   "outputs": [
    {
     "name": "stdout",
     "output_type": "stream",
     "text": [
      "deque([3, 1])\n"
     ]
    }
   ],
   "source": [
    "d.pop()\n",
    "print(d)"
   ]
  },
  {
   "cell_type": "code",
   "execution_count": 29,
   "id": "3b98ac4b",
   "metadata": {},
   "outputs": [
    {
     "name": "stdout",
     "output_type": "stream",
     "text": [
      "deque([1])\n"
     ]
    }
   ],
   "source": [
    "d.popleft()\n",
    "print(d)"
   ]
  },
  {
   "cell_type": "code",
   "execution_count": 30,
   "id": "10d38031",
   "metadata": {},
   "outputs": [
    {
     "name": "stdout",
     "output_type": "stream",
     "text": [
      "deque([])\n"
     ]
    }
   ],
   "source": [
    "d.clear()\n",
    "print(d)"
   ]
  },
  {
   "cell_type": "code",
   "execution_count": 31,
   "id": "162c6537",
   "metadata": {},
   "outputs": [
    {
     "name": "stdout",
     "output_type": "stream",
     "text": [
      "deque([4, 5, 6])\n"
     ]
    }
   ],
   "source": [
    "d.extend([4,5,6])\n",
    "print(d)"
   ]
  },
  {
   "cell_type": "code",
   "execution_count": 32,
   "id": "58ec0854",
   "metadata": {},
   "outputs": [
    {
     "name": "stdout",
     "output_type": "stream",
     "text": [
      "deque([6, 5, 4, 4, 5, 6])\n"
     ]
    }
   ],
   "source": [
    "d.extendleft([4,5,6])\n",
    "print(d)"
   ]
  },
  {
   "cell_type": "code",
   "execution_count": 33,
   "id": "92cb43f8",
   "metadata": {},
   "outputs": [
    {
     "name": "stdout",
     "output_type": "stream",
     "text": [
      "deque([6, 6, 5, 4, 4, 5])\n"
     ]
    }
   ],
   "source": [
    "d.rotate(1)\n",
    "print(d)\n",
    "\n",
    "3rottaes aall elemts by 1"
   ]
  },
  {
   "cell_type": "code",
   "execution_count": null,
   "id": "4d11611e",
   "metadata": {},
   "outputs": [],
   "source": []
  },
  {
   "cell_type": "code",
   "execution_count": null,
   "id": "2a601f6a",
   "metadata": {},
   "outputs": [],
   "source": []
  }
 ],
 "metadata": {
  "kernelspec": {
   "display_name": "Python 3",
   "language": "python",
   "name": "python3"
  },
  "language_info": {
   "codemirror_mode": {
    "name": "ipython",
    "version": 3
   },
   "file_extension": ".py",
   "mimetype": "text/x-python",
   "name": "python",
   "nbconvert_exporter": "python",
   "pygments_lexer": "ipython3",
   "version": "3.7.11"
  }
 },
 "nbformat": 4,
 "nbformat_minor": 5
}
