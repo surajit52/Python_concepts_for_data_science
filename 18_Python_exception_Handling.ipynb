{
 "cells": [
  {
   "cell_type": "markdown",
   "id": "9e82f091",
   "metadata": {},
   "source": [
    "# Python Exception Handling"
   ]
  },
  {
   "cell_type": "code",
   "execution_count": 1,
   "id": "81d16a0a",
   "metadata": {},
   "outputs": [
    {
     "ename": "NameError",
     "evalue": "name 'b' is not defined",
     "output_type": "error",
     "traceback": [
      "\u001b[1;31m---------------------------------------------------------------------------\u001b[0m",
      "\u001b[1;31mNameError\u001b[0m                                 Traceback (most recent call last)",
      "\u001b[1;32m<ipython-input-1-488068fe1e94>\u001b[0m in \u001b[0;36m<module>\u001b[1;34m\u001b[0m\n\u001b[1;32m----> 1\u001b[1;33m \u001b[0ma\u001b[0m\u001b[1;33m=\u001b[0m\u001b[0mb\u001b[0m\u001b[1;33m\u001b[0m\u001b[1;33m\u001b[0m\u001b[0m\n\u001b[0m",
      "\u001b[1;31mNameError\u001b[0m: name 'b' is not defined"
     ]
    }
   ],
   "source": [
    "a=b"
   ]
  },
  {
   "cell_type": "code",
   "execution_count": 3,
   "id": "b8f93e9f",
   "metadata": {},
   "outputs": [
    {
     "name": "stdout",
     "output_type": "stream",
     "text": [
      "Some problems may have occured\n"
     ]
    }
   ],
   "source": [
    "try:\n",
    "    ##code block where exception can occur\n",
    "    a=b\n",
    "except:\n",
    "    print(\"Some problems may have occured\")"
   ]
  },
  {
   "cell_type": "code",
   "execution_count": 5,
   "id": "28fe34b1",
   "metadata": {},
   "outputs": [
    {
     "name": "stdout",
     "output_type": "stream",
     "text": [
      "name 'b' is not defined\n"
     ]
    }
   ],
   "source": [
    "try:\n",
    "    ##code block where exception can occur\n",
    "    a=b\n",
    "except Exception as ex:\n",
    "    print(ex)"
   ]
  },
  {
   "cell_type": "code",
   "execution_count": 6,
   "id": "aa88e2f8",
   "metadata": {},
   "outputs": [
    {
     "name": "stdout",
     "output_type": "stream",
     "text": [
      "The user has not defined the variable\n"
     ]
    }
   ],
   "source": [
    "#handling name error\n",
    "try:\n",
    "    ##code block where exception can occur\n",
    "    a=b\n",
    "except NameError as ex1:\n",
    "    print(\"The user has not defined the variable\")\n"
   ]
  },
  {
   "cell_type": "code",
   "execution_count": 7,
   "id": "2c365607",
   "metadata": {},
   "outputs": [
    {
     "name": "stdout",
     "output_type": "stream",
     "text": [
      "unsupported operand type(s) for +: 'int' and 'str'\n"
     ]
    }
   ],
   "source": [
    "#handling name error\n",
    "try:\n",
    "    ##code block where exception can occur\n",
    "    a=1\n",
    "    b=\"s\"\n",
    "    c=a+b\n",
    "except NameError as ex1:\n",
    "    print(\"The user has not defined the variable\")\n",
    "\n",
    "except Exception as ex:\n",
    "    print(ex)"
   ]
  },
  {
   "cell_type": "code",
   "execution_count": 9,
   "id": "452dbed0",
   "metadata": {},
   "outputs": [
    {
     "ename": "TypeError",
     "evalue": "unsupported operand type(s) for +: 'int' and 'str'",
     "output_type": "error",
     "traceback": [
      "\u001b[1;31m---------------------------------------------------------------------------\u001b[0m",
      "\u001b[1;31mTypeError\u001b[0m                                 Traceback (most recent call last)",
      "\u001b[1;32m<ipython-input-9-9b96ead189f1>\u001b[0m in \u001b[0;36m<module>\u001b[1;34m\u001b[0m\n\u001b[0;32m      1\u001b[0m \u001b[0ma\u001b[0m\u001b[1;33m=\u001b[0m\u001b[1;36m1\u001b[0m\u001b[1;33m\u001b[0m\u001b[1;33m\u001b[0m\u001b[0m\n\u001b[0;32m      2\u001b[0m \u001b[0mb\u001b[0m\u001b[1;33m=\u001b[0m\u001b[1;34m\"s\"\u001b[0m\u001b[1;33m\u001b[0m\u001b[1;33m\u001b[0m\u001b[0m\n\u001b[1;32m----> 3\u001b[1;33m \u001b[0mc\u001b[0m\u001b[1;33m=\u001b[0m\u001b[0ma\u001b[0m\u001b[1;33m+\u001b[0m\u001b[0mb\u001b[0m\u001b[1;33m\u001b[0m\u001b[1;33m\u001b[0m\u001b[0m\n\u001b[0m",
      "\u001b[1;31mTypeError\u001b[0m: unsupported operand type(s) for +: 'int' and 'str'"
     ]
    }
   ],
   "source": [
    "a=1\n",
    "b=\"s\"\n",
    "c=a+b"
   ]
  },
  {
   "cell_type": "code",
   "execution_count": null,
   "id": "af2cce20",
   "metadata": {},
   "outputs": [],
   "source": [
    "#we have seen this is a type error so it can be caught in Typeerror exception\n",
    "\n"
   ]
  },
  {
   "cell_type": "code",
   "execution_count": 10,
   "id": "f785d24a",
   "metadata": {},
   "outputs": [
    {
     "name": "stdout",
     "output_type": "stream",
     "text": [
      "Try to make the datatype similar\n"
     ]
    }
   ],
   "source": [
    "try:\n",
    "    ##code block where exception can occur\n",
    "    a=1\n",
    "    b=\"s\"\n",
    "    c=a+b\n",
    "except NameError as ex1:\n",
    "    print(\"The user has not defined the variable\")\n",
    "    \n",
    "except TypeError as ex2:\n",
    "    print(\"Try to make the datatype similar\")    \n",
    "\n",
    "except Exception as ex:\n",
    "    print(ex)"
   ]
  },
  {
   "cell_type": "code",
   "execution_count": 13,
   "id": "d3875dd7",
   "metadata": {},
   "outputs": [
    {
     "name": "stdout",
     "output_type": "stream",
     "text": [
      "Enter first number: 12\n",
      "Enter second number: 0\n",
      "division by zero\n"
     ]
    }
   ],
   "source": [
    "try:\n",
    "    ##code block where exception can occur\n",
    "    a=int(input(\"Enter first number: \"))\n",
    "    b=int(input(\"Enter second number: \"))\n",
    "    c=a/b\n",
    "    d=a*b\n",
    "    e=a+b\n",
    "    print(c)\n",
    "    print(d)\n",
    "    print(e)\n",
    "except NameError as ex1:\n",
    "    print(\"The user has not defined the variable\")\n",
    "    \n",
    "except TypeError as ex2:\n",
    "    print(\"Try to make the datatype similar\")    \n",
    "\n",
    "#here i have not handled  division by zero exception so by default Exception class is handling it   \n",
    "except Exception as ex:\n",
    "    print(ex)"
   ]
  },
  {
   "cell_type": "code",
   "execution_count": 14,
   "id": "4d9bec02",
   "metadata": {},
   "outputs": [
    {
     "ename": "ZeroDivisionError",
     "evalue": "division by zero",
     "output_type": "error",
     "traceback": [
      "\u001b[1;31m---------------------------------------------------------------------------\u001b[0m",
      "\u001b[1;31mZeroDivisionError\u001b[0m                         Traceback (most recent call last)",
      "\u001b[1;32m<ipython-input-14-898e9759c56e>\u001b[0m in \u001b[0;36m<module>\u001b[1;34m\u001b[0m\n\u001b[1;32m----> 1\u001b[1;33m \u001b[1;36m12\u001b[0m\u001b[1;33m/\u001b[0m\u001b[1;36m0\u001b[0m\u001b[1;33m\u001b[0m\u001b[1;33m\u001b[0m\u001b[0m\n\u001b[0m",
      "\u001b[1;31mZeroDivisionError\u001b[0m: division by zero"
     ]
    }
   ],
   "source": [
    "12/0"
   ]
  },
  {
   "cell_type": "code",
   "execution_count": 16,
   "id": "a0eb2070",
   "metadata": {},
   "outputs": [
    {
     "name": "stdout",
     "output_type": "stream",
     "text": [
      "Enter first number: 12\n",
      "Enter second number: 0\n",
      "Please provide second no. greater than zero\n"
     ]
    }
   ],
   "source": [
    "try:\n",
    "    ##code block where exception can occur\n",
    "    a=int(input(\"Enter first number: \"))\n",
    "    b=int(input(\"Enter second number: \"))\n",
    "    c=a/b\n",
    "    d=a*b\n",
    "    e=a+b\n",
    "    print(c)\n",
    "    print(d)\n",
    "    print(e)\n",
    "\n",
    "#These are child class block    \n",
    "except NameError as ex1:\n",
    "    print(\"The user has not defined the variable\")\n",
    "#These are child class block    \n",
    "except TypeError as ex2:\n",
    "    print(\"Try to make the datatype similar\")\n",
    "#These are child class block\n",
    "except ZeroDivisionError as ex3:\n",
    "    print(\"Please provide second no. greater than zero\") \n",
    "    \n",
    "#here i have not handled  division by zero exception so by default Exception class is handling it   \n",
    "#here it is generic exception block\n",
    "except Exception as ex:\n",
    "    print(ex)"
   ]
  },
  {
   "cell_type": "code",
   "execution_count": 17,
   "id": "ea268fb8",
   "metadata": {},
   "outputs": [],
   "source": [
    "#apart from try6 class block\n",
    "#The child class block should be written\n",
    "#At last generic exception block should be written"
   ]
  },
  {
   "cell_type": "code",
   "execution_count": 18,
   "id": "45800c68",
   "metadata": {},
   "outputs": [
    {
     "name": "stdout",
     "output_type": "stream",
     "text": [
      "Enter first number: 12\n",
      "Enter second number: 4\n",
      "3.0\n",
      "48\n",
      "16\n"
     ]
    }
   ],
   "source": [
    "##Try else block:\n",
    "#if no exception are raised due to data being proper then else block will be executed and it will print the print statements\n",
    "#if exception is getting handled then else block will not be executed\n",
    "\n",
    "try:\n",
    "    ##code block where exception can occur\n",
    "    a=int(input(\"Enter first number: \"))\n",
    "    b=int(input(\"Enter second number: \"))\n",
    "    c=a/b\n",
    "    d=a*b\n",
    "    e=a+b\n",
    "    \n",
    "\n",
    "#These are child class block    \n",
    "except NameError as ex1:\n",
    "    print(\"The user has not defined the variable\")\n",
    "#These are child class block    \n",
    "except TypeError as ex2:\n",
    "    print(\"Try to make the datatype similar\")\n",
    "#These are child class block\n",
    "except ZeroDivisionError as ex3:\n",
    "    print(\"Please provide second no. greater than zero\") \n",
    "    \n",
    "#here i have not handled  division by zero exception so by default Exception class is handling it   \n",
    "#here it is generic exception block\n",
    "except Exception as ex:\n",
    "    print(ex)\n",
    "    \n",
    "else:\n",
    "    print(c)\n",
    "    print(d)\n",
    "    print(e)"
   ]
  },
  {
   "cell_type": "code",
   "execution_count": 19,
   "id": "1108ff8f",
   "metadata": {},
   "outputs": [
    {
     "name": "stdout",
     "output_type": "stream",
     "text": [
      "Enter first number: 12\n",
      "Enter second number: 0\n",
      "Please provide second no. greater than zero\n",
      "The execution is done\n"
     ]
    }
   ],
   "source": [
    "#Try else and finally\n",
    "\n",
    "try:\n",
    "    ##code block where exception can occur\n",
    "    a=int(input(\"Enter first number: \"))\n",
    "    b=int(input(\"Enter second number: \"))\n",
    "    c=a/b\n",
    "    \n",
    "\n",
    "#These are child class block    \n",
    "except NameError as ex1:\n",
    "    print(\"The user has not defined the variable\")\n",
    "#These are child class block    \n",
    "except TypeError as ex2:\n",
    "    print(\"Try to make the datatype similar\")\n",
    "#These are child class block\n",
    "except ZeroDivisionError as ex3:\n",
    "    print(\"Please provide second no. greater than zero\") \n",
    "    \n",
    "#here i have not handled  division by zero exception so by default Exception class is handling it   \n",
    "#here it is generic exception block\n",
    "except Exception as ex:\n",
    "    print(ex)\n",
    "    \n",
    "else:\n",
    "    print(c)\n",
    "    \n",
    "finally:\n",
    "    print(\"The execution is done\")\n"
   ]
  },
  {
   "cell_type": "code",
   "execution_count": 20,
   "id": "872dd45d",
   "metadata": {},
   "outputs": [],
   "source": [
    "#use case of finally\n",
    "#suppose we make a sql connection through python\n",
    "#after connection is established we make a error in input\n",
    "#so except block catches it\n",
    "#but our db connection is still open\n",
    "##suppose we want to close the db connection after exception occured\n",
    "#so in this case finaaly clause block comes in handy to close the db connection"
   ]
  },
  {
   "cell_type": "markdown",
   "id": "5db5017a",
   "metadata": {},
   "source": [
    "# Custom Exception"
   ]
  },
  {
   "cell_type": "code",
   "execution_count": 1,
   "id": "e3ca56b2",
   "metadata": {},
   "outputs": [],
   "source": [
    "class Error(Exception):\n",
    "    pass\n",
    "\n",
    "class dobException(Error):\n",
    "    pass\n",
    "\n"
   ]
  },
  {
   "cell_type": "code",
   "execution_count": 4,
   "id": "ccc9eab5",
   "metadata": {},
   "outputs": [
    {
     "name": "stdout",
     "output_type": "stream",
     "text": [
      "Enter the year of birth 1987\n",
      "The year age is not within the permissable range.You cannot apply for goverement exams\n"
     ]
    }
   ],
   "source": [
    "year = int(input(\"Enter the year of birth \"))\n",
    "age = 2022-year\n",
    "try:\n",
    "    if age <=30 and age>20:\n",
    "        print(\"the age is valid. You can apply for goverement exams\")\n",
    "    else:\n",
    "        raise dobException\n",
    "except dobException:\n",
    "    print(\"The year age is not within the permissable range.You cannot apply for goverement exams\")\n",
    "    "
   ]
  },
  {
   "cell_type": "code",
   "execution_count": null,
   "id": "3bb19a46",
   "metadata": {},
   "outputs": [],
   "source": [
    "#For creating a custom exception i create a custom exception class Error\n",
    "#then we inherit the exception class in \n",
    "#then we are raising an exception :\n",
    "#pritnting our custom class exception message\n",
    "#(https://www.youtube.com/watch?v=UXV_o2W_UUA&list=PLZoTAELRMXVPBTrWtJkn3wWQxZkmTXGwe&index=26)"
   ]
  },
  {
   "cell_type": "code",
   "execution_count": null,
   "id": "d4fa151f",
   "metadata": {},
   "outputs": [],
   "source": []
  },
  {
   "cell_type": "code",
   "execution_count": null,
   "id": "a1633a7d",
   "metadata": {},
   "outputs": [],
   "source": []
  },
  {
   "cell_type": "code",
   "execution_count": null,
   "id": "20520021",
   "metadata": {},
   "outputs": [],
   "source": []
  },
  {
   "cell_type": "code",
   "execution_count": null,
   "id": "ce4027e6",
   "metadata": {},
   "outputs": [],
   "source": []
  },
  {
   "cell_type": "code",
   "execution_count": null,
   "id": "dd1227cd",
   "metadata": {},
   "outputs": [],
   "source": []
  },
  {
   "cell_type": "code",
   "execution_count": null,
   "id": "767918b2",
   "metadata": {},
   "outputs": [],
   "source": []
  },
  {
   "cell_type": "code",
   "execution_count": null,
   "id": "76174bfc",
   "metadata": {},
   "outputs": [],
   "source": []
  },
  {
   "cell_type": "code",
   "execution_count": null,
   "id": "e4944726",
   "metadata": {},
   "outputs": [],
   "source": []
  },
  {
   "cell_type": "code",
   "execution_count": null,
   "id": "a95e9815",
   "metadata": {},
   "outputs": [],
   "source": []
  },
  {
   "cell_type": "code",
   "execution_count": null,
   "id": "9778ce99",
   "metadata": {},
   "outputs": [],
   "source": []
  },
  {
   "cell_type": "code",
   "execution_count": null,
   "id": "f176f245",
   "metadata": {},
   "outputs": [],
   "source": []
  },
  {
   "cell_type": "code",
   "execution_count": null,
   "id": "7bf80da7",
   "metadata": {},
   "outputs": [],
   "source": []
  }
 ],
 "metadata": {
  "kernelspec": {
   "display_name": "Python 3",
   "language": "python",
   "name": "python3"
  },
  "language_info": {
   "codemirror_mode": {
    "name": "ipython",
    "version": 3
   },
   "file_extension": ".py",
   "mimetype": "text/x-python",
   "name": "python",
   "nbconvert_exporter": "python",
   "pygments_lexer": "ipython3",
   "version": "3.7.11"
  }
 },
 "nbformat": 4,
 "nbformat_minor": 5
}
