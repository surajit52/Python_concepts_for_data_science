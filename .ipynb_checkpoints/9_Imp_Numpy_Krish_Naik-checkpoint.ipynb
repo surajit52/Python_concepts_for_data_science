{
 "cells": [
  {
   "cell_type": "markdown",
   "id": "84aa6c54",
   "metadata": {},
   "source": [
    "# NumPy"
   ]
  },
  {
   "cell_type": "markdown",
   "id": "27549a95",
   "metadata": {},
   "source": [
    "NumPy is a general-purpose pacakage.It provide shigh performance multi dimensional array object and tools for working with these arrays> It is fundamanetal package for computing with Python."
   ]
  },
  {
   "cell_type": "markdown",
   "id": "72cbdad7",
   "metadata": {},
   "source": [
    "# What is an Array"
   ]
  },
  {
   "cell_type": "markdown",
   "id": "9352a62d",
   "metadata": {},
   "source": [
    "An array is a data structure that stores value of same data type. Whereas list can store value of different datatype.This is the main difference netween an array and a list."
   ]
  },
  {
   "cell_type": "code",
   "execution_count": 2,
   "id": "7bf028a4",
   "metadata": {},
   "outputs": [],
   "source": [
    "#import numpy\n",
    "\n",
    "import numpy as np"
   ]
  },
  {
   "cell_type": "code",
   "execution_count": 3,
   "id": "799490e4",
   "metadata": {},
   "outputs": [],
   "source": [
    "my_lst = [1,2,3,4,5]\n",
    "arr= np.array(my_lst)\n",
    "##please note we have used to convert list to array we have used np.array"
   ]
  },
  {
   "cell_type": "code",
   "execution_count": 4,
   "id": "f48d81ce",
   "metadata": {},
   "outputs": [
    {
     "name": "stdout",
     "output_type": "stream",
     "text": [
      "<class 'numpy.ndarray'>\n"
     ]
    }
   ],
   "source": [
    "print(type(arr))"
   ]
  },
  {
   "cell_type": "code",
   "execution_count": 5,
   "id": "2d784ed2",
   "metadata": {},
   "outputs": [
    {
     "data": {
      "text/plain": [
       "array([1, 2, 3, 4, 5])"
      ]
     },
     "execution_count": 5,
     "metadata": {},
     "output_type": "execute_result"
    }
   ],
   "source": [
    "arr"
   ]
  },
  {
   "cell_type": "code",
   "execution_count": 6,
   "id": "2774d89e",
   "metadata": {},
   "outputs": [],
   "source": [
    "#this is one dimensional array as we have one square bracket as opening and one square bracket as closing"
   ]
  },
  {
   "cell_type": "code",
   "execution_count": 7,
   "id": "5b06828b",
   "metadata": {},
   "outputs": [
    {
     "data": {
      "text/plain": [
       "(5,)"
      ]
     },
     "execution_count": 7,
     "metadata": {},
     "output_type": "execute_result"
    }
   ],
   "source": [
    "#Dimension for an array can be checked using the function .shape\n",
    "\n",
    "arr.shape"
   ]
  },
  {
   "cell_type": "code",
   "execution_count": 8,
   "id": "52801676",
   "metadata": {},
   "outputs": [],
   "source": [
    "#how to convert 1D array to 2D array using reshape\n",
    "\n"
   ]
  },
  {
   "cell_type": "code",
   "execution_count": 9,
   "id": "6a23eb2d",
   "metadata": {},
   "outputs": [],
   "source": [
    "#first create 3 list and convert it to array using np .array\n",
    "\n"
   ]
  },
  {
   "cell_type": "code",
   "execution_count": 10,
   "id": "b56ee952",
   "metadata": {},
   "outputs": [],
   "source": [
    "my_lst1 = [1,2,3,4,5]\n",
    "my_lst2 = [2,3,4,5,6]\n",
    "my_lst3 = [9,7,6,8,9]\n",
    "\n",
    "arr= np.array([my_lst1,my_lst2,my_lst3])\n",
    "\n",
    "#Pass all the lists as list [] inside np.array() "
   ]
  },
  {
   "cell_type": "code",
   "execution_count": 11,
   "id": "ad56afed",
   "metadata": {},
   "outputs": [
    {
     "data": {
      "text/plain": [
       "array([[1, 2, 3, 4, 5],\n",
       "       [2, 3, 4, 5, 6],\n",
       "       [9, 7, 6, 8, 9]])"
      ]
     },
     "execution_count": 11,
     "metadata": {},
     "output_type": "execute_result"
    }
   ],
   "source": [
    "arr"
   ]
  },
  {
   "cell_type": "code",
   "execution_count": 12,
   "id": "5d4348f8",
   "metadata": {},
   "outputs": [
    {
     "data": {
      "text/plain": [
       "(3, 5)"
      ]
     },
     "execution_count": 12,
     "metadata": {},
     "output_type": "execute_result"
    }
   ],
   "source": [
    "arr.shape"
   ]
  },
  {
   "cell_type": "code",
   "execution_count": 13,
   "id": "2ff852f0",
   "metadata": {},
   "outputs": [
    {
     "data": {
      "text/plain": [
       "array([[1, 2, 3, 4, 5],\n",
       "       [2, 3, 4, 5, 6],\n",
       "       [9, 7, 6, 8, 9]])"
      ]
     },
     "execution_count": 13,
     "metadata": {},
     "output_type": "execute_result"
    }
   ],
   "source": [
    "#now we see and identify that it has created a 2-D array.\n",
    "#how do we know it is a 2-D array because it has 2 opening square bracket and 2 opening square bracket.\n",
    "arr"
   ]
  },
  {
   "cell_type": "code",
   "execution_count": 14,
   "id": "e861206a",
   "metadata": {},
   "outputs": [
    {
     "data": {
      "text/plain": [
       "(3, 5)"
      ]
     },
     "execution_count": 14,
     "metadata": {},
     "output_type": "execute_result"
    }
   ],
   "source": [
    "arr.shape\n",
    "\n",
    "#first attribute in the output =3 is no. of rows\n",
    "#Second attribute in the output =5 is no. of rows"
   ]
  },
  {
   "cell_type": "code",
   "execution_count": 15,
   "id": "ee3bf589",
   "metadata": {},
   "outputs": [],
   "source": [
    "#mostly in eda we will work with 2d array\n",
    "#numpy array has c++ support derieved from it so processing is very very fast"
   ]
  },
  {
   "cell_type": "markdown",
   "id": "a5a21917",
   "metadata": {},
   "source": [
    "## Reshape NumPy Array"
   ]
  },
  {
   "cell_type": "code",
   "execution_count": 16,
   "id": "e7dd4d4e",
   "metadata": {},
   "outputs": [],
   "source": [
    "#Now we want to reshape the array\n",
    "#Please note the count of elements in intial array arr= 5*3 =15\n",
    "#so no. of elements after reshaping should also be 15 "
   ]
  },
  {
   "cell_type": "code",
   "execution_count": 17,
   "id": "696e31b5",
   "metadata": {},
   "outputs": [
    {
     "data": {
      "text/plain": [
       "array([[1, 2, 3],\n",
       "       [4, 5, 2],\n",
       "       [3, 4, 5],\n",
       "       [6, 9, 7],\n",
       "       [6, 8, 9]])"
      ]
     },
     "execution_count": 17,
     "metadata": {},
     "output_type": "execute_result"
    }
   ],
   "source": [
    "arr.reshape(5,3)"
   ]
  },
  {
   "cell_type": "code",
   "execution_count": 18,
   "id": "3edd9d2d",
   "metadata": {},
   "outputs": [
    {
     "data": {
      "text/plain": [
       "array([[1, 2, 3, 4, 5, 2, 3, 4, 5, 6, 9, 7, 6, 8, 9]])"
      ]
     },
     "execution_count": 18,
     "metadata": {},
     "output_type": "execute_result"
    }
   ],
   "source": [
    "##reshaping it to a different format.It is also 2d array\n",
    "\n",
    "arr.reshape(1,15)"
   ]
  },
  {
   "cell_type": "markdown",
   "id": "d3ec6193",
   "metadata": {},
   "source": [
    "## Indexing"
   ]
  },
  {
   "cell_type": "markdown",
   "id": "1d001f80",
   "metadata": {},
   "source": [
    "how to retrieve the array elemts from array\n",
    "\n",
    "We use indexing to retrieve array elemnts from array"
   ]
  },
  {
   "cell_type": "code",
   "execution_count": 19,
   "id": "a22a3dd4",
   "metadata": {},
   "outputs": [],
   "source": [
    "arr1 = np.array([1,2,3,4,5,6,7,8,9])"
   ]
  },
  {
   "cell_type": "code",
   "execution_count": 20,
   "id": "db0915fd",
   "metadata": {},
   "outputs": [
    {
     "data": {
      "text/plain": [
       "4"
      ]
     },
     "execution_count": 20,
     "metadata": {},
     "output_type": "execute_result"
    }
   ],
   "source": [
    "arr1[3]"
   ]
  },
  {
   "cell_type": "code",
   "execution_count": 21,
   "id": "7a664f9c",
   "metadata": {},
   "outputs": [
    {
     "data": {
      "text/plain": [
       "array([[1, 2, 3, 4, 5],\n",
       "       [2, 3, 4, 5, 6],\n",
       "       [9, 7, 6, 8, 9]])"
      ]
     },
     "execution_count": 21,
     "metadata": {},
     "output_type": "execute_result"
    }
   ],
   "source": [
    "arr"
   ]
  },
  {
   "cell_type": "code",
   "execution_count": 22,
   "id": "02b77003",
   "metadata": {},
   "outputs": [],
   "source": [
    "#here first row has index of zero elemts(1,2,3,4,5)\n",
    "#her first column has index zero elements(1,2,9)"
   ]
  },
  {
   "cell_type": "code",
   "execution_count": 23,
   "id": "6a8466ce",
   "metadata": {},
   "outputs": [
    {
     "data": {
      "text/plain": [
       "array([[1, 2, 3, 4, 5],\n",
       "       [2, 3, 4, 5, 6],\n",
       "       [9, 7, 6, 8, 9]])"
      ]
     },
     "execution_count": 23,
     "metadata": {},
     "output_type": "execute_result"
    }
   ],
   "source": [
    "#indexing in 2d\n",
    "\n",
    "arr[:,:]\n",
    "\n",
    "#first colon (attribute)in arr[:,:] will tell to pick all rows\n",
    "#Second colon(atttribute)in arr[:,:]  will tell to pick all columns"
   ]
  },
  {
   "cell_type": "code",
   "execution_count": 24,
   "id": "45297d55",
   "metadata": {},
   "outputs": [
    {
     "data": {
      "text/plain": [
       "array([[2, 3, 4, 5, 6],\n",
       "       [9, 7, 6, 8, 9]])"
      ]
     },
     "execution_count": 24,
     "metadata": {},
     "output_type": "execute_result"
    }
   ],
   "source": [
    "#suppose we want elemts 5,6,8,9\n",
    "#as we know indexing starts from 0\n",
    "#her we see 5,6 are present in 1st row index(in terms of index as it index starts from zero)\n",
    "#elemnts 8,9 are present in 2nd row index(in terms of index as it index starts from zero)\n",
    "arr[1:3,:]\n",
    "#here above it says pick 1st row row [1]untill 3rd row index[3]. Hence [1,3]. ,: means pick all columns"
   ]
  },
  {
   "cell_type": "code",
   "execution_count": 25,
   "id": "22520dbc",
   "metadata": {},
   "outputs": [
    {
     "data": {
      "text/plain": [
       "array([[4, 5],\n",
       "       [5, 6],\n",
       "       [8, 9]])"
      ]
     },
     "execution_count": 25,
     "metadata": {},
     "output_type": "execute_result"
    }
   ],
   "source": [
    "#for columns we want 3rd column and 4th column\n",
    "arr[:,3:5]"
   ]
  },
  {
   "cell_type": "code",
   "execution_count": 26,
   "id": "90257af0",
   "metadata": {},
   "outputs": [
    {
     "data": {
      "text/plain": [
       "array([[5, 6],\n",
       "       [8, 9]])"
      ]
     },
     "execution_count": 26,
     "metadata": {},
     "output_type": "execute_result"
    }
   ],
   "source": [
    "#Now combining both row column pindesing parameters together\n",
    "arr[1:3,3:5]\n",
    "\n",
    "#we got 5,6,9 elements"
   ]
  },
  {
   "cell_type": "code",
   "execution_count": 27,
   "id": "50bb8091",
   "metadata": {},
   "outputs": [
    {
     "data": {
      "text/plain": [
       "array([[1, 2, 3, 4, 5],\n",
       "       [2, 3, 4, 5, 6],\n",
       "       [9, 7, 6, 8, 9]])"
      ]
     },
     "execution_count": 27,
     "metadata": {},
     "output_type": "execute_result"
    }
   ],
   "source": [
    "arr"
   ]
  },
  {
   "cell_type": "code",
   "execution_count": null,
   "id": "6736a472",
   "metadata": {},
   "outputs": [],
   "source": [
    "#pick 3,4,5 from second row i,e 1st row in terms of index"
   ]
  },
  {
   "cell_type": "code",
   "execution_count": 29,
   "id": "9e5ccc9d",
   "metadata": {},
   "outputs": [
    {
     "data": {
      "text/plain": [
       "array([[3, 4, 5]])"
      ]
     },
     "execution_count": 29,
     "metadata": {},
     "output_type": "execute_result"
    }
   ],
   "source": [
    "arr[1:2,1:4]"
   ]
  },
  {
   "cell_type": "markdown",
   "id": "f0852868",
   "metadata": {},
   "source": [
    "### Arange function"
   ]
  },
  {
   "cell_type": "code",
   "execution_count": null,
   "id": "86b87a51",
   "metadata": {},
   "outputs": [],
   "source": [
    "#Inbuilt function arange\n",
    "#it creates an 1 dimensional array look into documentation pressing shif+tab\n",
    "#here first parameter is start 0\n",
    "#here second paramaeter is stop\n",
    "#her third parameter is step size"
   ]
  },
  {
   "cell_type": "code",
   "execution_count": 30,
   "id": "3e908fb6",
   "metadata": {},
   "outputs": [],
   "source": [
    "arr = np.arange(0,10)"
   ]
  },
  {
   "cell_type": "code",
   "execution_count": 31,
   "id": "079c735b",
   "metadata": {},
   "outputs": [
    {
     "data": {
      "text/plain": [
       "array([0, 1, 2, 3, 4, 5, 6, 7, 8, 9])"
      ]
     },
     "execution_count": 31,
     "metadata": {},
     "output_type": "execute_result"
    }
   ],
   "source": [
    "arr"
   ]
  },
  {
   "cell_type": "code",
   "execution_count": 32,
   "id": "554605df",
   "metadata": {},
   "outputs": [],
   "source": [
    "arr = np.arange(0,10,2)"
   ]
  },
  {
   "cell_type": "code",
   "execution_count": 33,
   "id": "f8deeffc",
   "metadata": {},
   "outputs": [
    {
     "data": {
      "text/plain": [
       "array([0, 2, 4, 6, 8])"
      ]
     },
     "execution_count": 33,
     "metadata": {},
     "output_type": "execute_result"
    }
   ],
   "source": [
    "arr"
   ]
  },
  {
   "cell_type": "code",
   "execution_count": 34,
   "id": "e4e41193",
   "metadata": {},
   "outputs": [
    {
     "data": {
      "text/plain": [
       "array([ 0.        ,  0.20408163,  0.40816327,  0.6122449 ,  0.81632653,\n",
       "        1.02040816,  1.2244898 ,  1.42857143,  1.63265306,  1.83673469,\n",
       "        2.04081633,  2.24489796,  2.44897959,  2.65306122,  2.85714286,\n",
       "        3.06122449,  3.26530612,  3.46938776,  3.67346939,  3.87755102,\n",
       "        4.08163265,  4.28571429,  4.48979592,  4.69387755,  4.89795918,\n",
       "        5.10204082,  5.30612245,  5.51020408,  5.71428571,  5.91836735,\n",
       "        6.12244898,  6.32653061,  6.53061224,  6.73469388,  6.93877551,\n",
       "        7.14285714,  7.34693878,  7.55102041,  7.75510204,  7.95918367,\n",
       "        8.16326531,  8.36734694,  8.57142857,  8.7755102 ,  8.97959184,\n",
       "        9.18367347,  9.3877551 ,  9.59183673,  9.79591837, 10.        ])"
      ]
     },
     "execution_count": 34,
     "metadata": {},
     "output_type": "execute_result"
    }
   ],
   "source": [
    "##Linspance\n",
    "##divides the array between start and stop values equally into no. of values passed as i,e 1to 10 is divided into 50 equal parts\n",
    "\n",
    "np.linspace(0,10,50)"
   ]
  },
  {
   "cell_type": "markdown",
   "id": "e7e67b1b",
   "metadata": {},
   "source": [
    "### Copy Function"
   ]
  },
  {
   "cell_type": "code",
   "execution_count": 35,
   "id": "2a7eb3d2",
   "metadata": {},
   "outputs": [],
   "source": [
    "##copy function\n",
    "arr = np.arange(0,10)"
   ]
  },
  {
   "cell_type": "code",
   "execution_count": 36,
   "id": "c3f56c66",
   "metadata": {},
   "outputs": [
    {
     "data": {
      "text/plain": [
       "array([0, 1, 2, 3, 4, 5, 6, 7, 8, 9])"
      ]
     },
     "execution_count": 36,
     "metadata": {},
     "output_type": "execute_result"
    }
   ],
   "source": [
    "arr"
   ]
  },
  {
   "cell_type": "code",
   "execution_count": 37,
   "id": "8c9d6556",
   "metadata": {},
   "outputs": [],
   "source": [
    "#copy function and broadcasting of an array\n",
    "\n",
    "#take the array arrr and replace from 3 to all the elemts i.e 3,4,5,6,7,8,9 by 100\n",
    "\n",
    "arr[3:]=100"
   ]
  },
  {
   "cell_type": "code",
   "execution_count": 38,
   "id": "c545df4b",
   "metadata": {},
   "outputs": [
    {
     "data": {
      "text/plain": [
       "array([  0,   1,   2, 100, 100, 100, 100, 100, 100, 100])"
      ]
     },
     "execution_count": 38,
     "metadata": {},
     "output_type": "execute_result"
    }
   ],
   "source": [
    "arr"
   ]
  },
  {
   "cell_type": "code",
   "execution_count": 39,
   "id": "d6081488",
   "metadata": {},
   "outputs": [],
   "source": [
    "arr1 = arr"
   ]
  },
  {
   "cell_type": "code",
   "execution_count": 40,
   "id": "5acf2126",
   "metadata": {},
   "outputs": [
    {
     "data": {
      "text/plain": [
       "array([  0,   1,   2, 100, 100, 100, 100, 100, 100, 100])"
      ]
     },
     "execution_count": 40,
     "metadata": {},
     "output_type": "execute_result"
    }
   ],
   "source": [
    "arr1"
   ]
  },
  {
   "cell_type": "code",
   "execution_count": 41,
   "id": "ed7d4fcb",
   "metadata": {},
   "outputs": [
    {
     "name": "stdout",
     "output_type": "stream",
     "text": [
      "[  0   1   2 500 500 500 500 500 500 500]\n"
     ]
    }
   ],
   "source": [
    "arr1[3:]=500\n",
    "print(arr1)"
   ]
  },
  {
   "cell_type": "code",
   "execution_count": 42,
   "id": "3ff97c50",
   "metadata": {},
   "outputs": [
    {
     "data": {
      "text/plain": [
       "array([  0,   1,   2, 500, 500, 500, 500, 500, 500, 500])"
      ]
     },
     "execution_count": 42,
     "metadata": {},
     "output_type": "execute_result"
    }
   ],
   "source": [
    "arr"
   ]
  },
  {
   "cell_type": "code",
   "execution_count": 43,
   "id": "4f3e3508",
   "metadata": {},
   "outputs": [],
   "source": [
    "#We see replacement on arr1 has updated arr too\n",
    "#hence array is a reference type , that means it shares the smae memory arr and arr1 share the same memory\n",
    "#so any operator in one array will impact the other array too\n",
    "#to prevent it we use .copy method"
   ]
  },
  {
   "cell_type": "code",
   "execution_count": 44,
   "id": "b5749fae",
   "metadata": {},
   "outputs": [],
   "source": [
    "arr1= arr.copy()"
   ]
  },
  {
   "cell_type": "code",
   "execution_count": 45,
   "id": "b4ebe151",
   "metadata": {},
   "outputs": [
    {
     "name": "stdout",
     "output_type": "stream",
     "text": [
      "[  0   1   2 500 500 500 500 500 500 500]\n"
     ]
    }
   ],
   "source": [
    "print(arr1)"
   ]
  },
  {
   "cell_type": "code",
   "execution_count": 46,
   "id": "b678859e",
   "metadata": {},
   "outputs": [
    {
     "name": "stdout",
     "output_type": "stream",
     "text": [
      "[  0   1   2 500 500 500 500 500 500 500]\n"
     ]
    }
   ],
   "source": [
    "print(arr)"
   ]
  },
  {
   "cell_type": "code",
   "execution_count": 47,
   "id": "81e16be1",
   "metadata": {},
   "outputs": [],
   "source": [
    "arr1[3:]=1000"
   ]
  },
  {
   "cell_type": "code",
   "execution_count": 48,
   "id": "14534a50",
   "metadata": {},
   "outputs": [
    {
     "data": {
      "text/plain": [
       "array([   0,    1,    2, 1000, 1000, 1000, 1000, 1000, 1000, 1000])"
      ]
     },
     "execution_count": 48,
     "metadata": {},
     "output_type": "execute_result"
    }
   ],
   "source": [
    "arr1"
   ]
  },
  {
   "cell_type": "code",
   "execution_count": 49,
   "id": "91ddc827",
   "metadata": {},
   "outputs": [
    {
     "data": {
      "text/plain": [
       "array([  0,   1,   2, 500, 500, 500, 500, 500, 500, 500])"
      ]
     },
     "execution_count": 49,
     "metadata": {},
     "output_type": "execute_result"
    }
   ],
   "source": [
    "arr"
   ]
  },
  {
   "cell_type": "code",
   "execution_count": 50,
   "id": "41470785",
   "metadata": {},
   "outputs": [],
   "source": [
    "#so we see no change in arr using the.copy method\n",
    "#copy does is it cretaes another memory location to store the data"
   ]
  },
  {
   "cell_type": "code",
   "execution_count": 51,
   "id": "729fae77",
   "metadata": {},
   "outputs": [
    {
     "data": {
      "text/plain": [
       "array([  0,   1,   2, 500, 500, 500, 500, 500, 500, 500])"
      ]
     },
     "execution_count": 51,
     "metadata": {},
     "output_type": "execute_result"
    }
   ],
   "source": [
    "arr"
   ]
  },
  {
   "cell_type": "code",
   "execution_count": 52,
   "id": "5e047855",
   "metadata": {},
   "outputs": [
    {
     "data": {
      "text/plain": [
       "array([  0. ,   0.5,   1. , 250. , 250. , 250. , 250. , 250. , 250. ,\n",
       "       250. ])"
      ]
     },
     "execution_count": 52,
     "metadata": {},
     "output_type": "execute_result"
    }
   ],
   "source": [
    "val=2\n",
    "arr/2"
   ]
  },
  {
   "cell_type": "code",
   "execution_count": 53,
   "id": "4cc13921",
   "metadata": {},
   "outputs": [
    {
     "data": {
      "text/plain": [
       "array([   0,    2,    4, 1000, 1000, 1000, 1000, 1000, 1000, 1000])"
      ]
     },
     "execution_count": 53,
     "metadata": {},
     "output_type": "execute_result"
    }
   ],
   "source": [
    "arr*2"
   ]
  },
  {
   "cell_type": "code",
   "execution_count": 54,
   "id": "b04f78d3",
   "metadata": {},
   "outputs": [
    {
     "data": {
      "text/plain": [
       "array([ True,  True, False, False, False, False, False, False, False,\n",
       "       False])"
      ]
     },
     "execution_count": 54,
     "metadata": {},
     "output_type": "execute_result"
    }
   ],
   "source": [
    "arr<2"
   ]
  },
  {
   "cell_type": "code",
   "execution_count": 55,
   "id": "16d3ff4d",
   "metadata": {},
   "outputs": [
    {
     "data": {
      "text/plain": [
       "array([0, 1])"
      ]
     },
     "execution_count": 55,
     "metadata": {},
     "output_type": "execute_result"
    }
   ],
   "source": [
    "#suppose i need all elemts which is less than 2\n",
    "\n",
    "arr[arr<2]"
   ]
  },
  {
   "cell_type": "markdown",
   "id": "5f7122df",
   "metadata": {},
   "source": [
    "#### Np.ones"
   ]
  },
  {
   "cell_type": "code",
   "execution_count": 56,
   "id": "f16dd87d",
   "metadata": {},
   "outputs": [
    {
     "data": {
      "text/plain": [
       "array([1., 1., 1., 1.])"
      ]
     },
     "execution_count": 56,
     "metadata": {},
     "output_type": "execute_result"
    }
   ],
   "source": [
    "np.ones(4)"
   ]
  },
  {
   "cell_type": "code",
   "execution_count": 57,
   "id": "c1f6cdc6",
   "metadata": {},
   "outputs": [],
   "source": [
    "#creates an 1D array with all ones no. of ones=4 "
   ]
  },
  {
   "cell_type": "code",
   "execution_count": 59,
   "id": "fba3d1c7",
   "metadata": {},
   "outputs": [
    {
     "data": {
      "text/plain": [
       "array([[1., 1., 1., 1., 1.],\n",
       "       [1., 1., 1., 1., 1.]])"
      ]
     },
     "execution_count": 59,
     "metadata": {},
     "output_type": "execute_result"
    }
   ],
   "source": [
    "##np.ones takes two parameters \n",
    "##1st is shape of array(2,5) and the 2nd is dtype\n",
    "##array of 2 row sand 5 columns\n",
    "#bt default dtype= float\n",
    "\n",
    "np.ones((2,5),dtype=float)\n",
    "#here it cretaes a 2D array"
   ]
  },
  {
   "cell_type": "code",
   "execution_count": 60,
   "id": "82e911bf",
   "metadata": {},
   "outputs": [
    {
     "data": {
      "text/plain": [
       "array([[0.35603138, 0.94604271, 0.99453905],\n",
       "       [0.39473423, 0.96522141, 0.26981722],\n",
       "       [0.52601109, 0.53193901, 0.66245042]])"
      ]
     },
     "execution_count": 60,
     "metadata": {},
     "output_type": "execute_result"
    }
   ],
   "source": [
    "np.random.rand(3,3)\n",
    "\n",
    "#selects random values or samples between 0 and 1 of shape 3 rows and 3 columns"
   ]
  },
  {
   "cell_type": "code",
   "execution_count": 61,
   "id": "facec5c2",
   "metadata": {},
   "outputs": [
    {
     "data": {
      "text/plain": [
       "array([[-0.61121776, -0.26540988, -0.36440238, -0.32025727],\n",
       "       [ 1.46166422,  0.15007614, -0.43840567,  1.37194991],\n",
       "       [-1.0891324 ,  0.50023972, -0.36551056,  0.3892659 ],\n",
       "       [ 0.84394615, -0.80464037,  0.11313185, -0.57701679]])"
      ]
     },
     "execution_count": 61,
     "metadata": {},
     "output_type": "execute_result"
    }
   ],
   "source": [
    "#selects values based on standard normal distribution(randn)\n",
    "np.random.randn(4,4)\n"
   ]
  },
  {
   "cell_type": "code",
   "execution_count": null,
   "id": "cd6401a4",
   "metadata": {},
   "outputs": [],
   "source": []
  },
  {
   "cell_type": "code",
   "execution_count": null,
   "id": "0f1d2ffe",
   "metadata": {},
   "outputs": [],
   "source": []
  },
  {
   "cell_type": "code",
   "execution_count": null,
   "id": "53fe38c2",
   "metadata": {},
   "outputs": [],
   "source": []
  },
  {
   "cell_type": "code",
   "execution_count": null,
   "id": "dcf63e19",
   "metadata": {},
   "outputs": [],
   "source": []
  },
  {
   "cell_type": "code",
   "execution_count": null,
   "id": "1102ffb6",
   "metadata": {},
   "outputs": [],
   "source": []
  },
  {
   "cell_type": "code",
   "execution_count": null,
   "id": "46407b69",
   "metadata": {},
   "outputs": [],
   "source": []
  },
  {
   "cell_type": "code",
   "execution_count": null,
   "id": "933471d2",
   "metadata": {},
   "outputs": [],
   "source": []
  },
  {
   "cell_type": "code",
   "execution_count": null,
   "id": "9d26a710",
   "metadata": {},
   "outputs": [],
   "source": []
  },
  {
   "cell_type": "code",
   "execution_count": null,
   "id": "eab5860b",
   "metadata": {},
   "outputs": [],
   "source": []
  },
  {
   "cell_type": "code",
   "execution_count": null,
   "id": "bdd01f7c",
   "metadata": {},
   "outputs": [],
   "source": []
  },
  {
   "cell_type": "code",
   "execution_count": null,
   "id": "24a09e0e",
   "metadata": {},
   "outputs": [],
   "source": []
  },
  {
   "cell_type": "code",
   "execution_count": null,
   "id": "90ba0d70",
   "metadata": {},
   "outputs": [],
   "source": []
  },
  {
   "cell_type": "code",
   "execution_count": null,
   "id": "bca6b748",
   "metadata": {},
   "outputs": [],
   "source": []
  },
  {
   "cell_type": "code",
   "execution_count": null,
   "id": "f5f50b19",
   "metadata": {},
   "outputs": [],
   "source": []
  },
  {
   "cell_type": "code",
   "execution_count": null,
   "id": "1b8fa600",
   "metadata": {},
   "outputs": [],
   "source": []
  },
  {
   "cell_type": "code",
   "execution_count": null,
   "id": "d712951a",
   "metadata": {},
   "outputs": [],
   "source": []
  },
  {
   "cell_type": "code",
   "execution_count": null,
   "id": "80c0c47e",
   "metadata": {},
   "outputs": [],
   "source": []
  },
  {
   "cell_type": "code",
   "execution_count": null,
   "id": "1d33dc7f",
   "metadata": {},
   "outputs": [],
   "source": []
  }
 ],
 "metadata": {
  "kernelspec": {
   "display_name": "Python 3",
   "language": "python",
   "name": "python3"
  },
  "language_info": {
   "codemirror_mode": {
    "name": "ipython",
    "version": 3
   },
   "file_extension": ".py",
   "mimetype": "text/x-python",
   "name": "python",
   "nbconvert_exporter": "python",
   "pygments_lexer": "ipython3",
   "version": "3.7.11"
  }
 },
 "nbformat": 4,
 "nbformat_minor": 5
}
