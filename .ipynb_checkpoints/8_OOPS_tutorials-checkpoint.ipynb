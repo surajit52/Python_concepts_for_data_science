{
 "cells": [
  {
   "cell_type": "code",
   "execution_count": 1,
   "id": "4006d9f9",
   "metadata": {},
   "outputs": [
    {
     "data": {
      "text/plain": [
       "'C:\\\\Users\\\\suraj\\\\I_neuron'"
      ]
     },
     "execution_count": 1,
     "metadata": {},
     "output_type": "execute_result"
    }
   ],
   "source": [
    "pwd"
   ]
  },
  {
   "cell_type": "code",
   "execution_count": 18,
   "id": "ceb874e2",
   "metadata": {},
   "outputs": [
    {
     "name": "stdout",
     "output_type": "stream",
     "text": [
      "Name: John\n",
      "Age: 30\n",
      "Position: SDE2\n",
      "Salary: 15 lpa\n",
      "Business Unit: Software Professsional\n",
      "\n",
      "\n",
      "##############################################################################################\n",
      "Name: Doe\n",
      "Age: 25\n",
      "Position: SDE1\n",
      "Salary: 9 lpa\n",
      "Business Unit: Software Professsional\n"
     ]
    }
   ],
   "source": [
    "class SoftwareEngineer:\n",
    "    \n",
    "    #class attribute\n",
    "    alias = 'Software Professsional'\n",
    "    \n",
    "    def __init__(self,name,age,position,salary):\n",
    "        self.name = name\n",
    "        self.age = age\n",
    "        self.position = position\n",
    "        self.salary = salary\n",
    "\n",
    "#instance        \n",
    "se1 = SoftwareEngineer(\"John\",30,\"SDE2\",\"15 lpa\")\n",
    "se2 = SoftwareEngineer(\"Doe\",25,\"SDE1\",\"9 lpa\")\n",
    "    \n",
    "print(\"Name:\", se1.name, end=\"\\n\")   \n",
    "print(\"Age:\", se1.age, end=\"\\n\")\n",
    "print(\"Position:\", se1.position, end=\"\\n\")   \n",
    "print(\"Salary:\", se1.salary, end=\"\\n\") \n",
    "print(\"Business Unit:\", se1.alias)\n",
    "print('\\n')\n",
    "print('##############################################################################################')\n",
    "\n",
    "\n",
    "print(\"Name:\", se2.name)   \n",
    "print(\"Age:\", se2.age)\n",
    "print(\"Position:\", se2.position)   \n",
    "print(\"Salary:\", se2.salary) \n",
    "print(\"Business Unit:\", se2.alias)"
   ]
  },
  {
   "cell_type": "code",
   "execution_count": null,
   "id": "040a0b41",
   "metadata": {},
   "outputs": [],
   "source": [
    "##Here Class: is just an blueprint within which we can store or decscribe all the attributes(in above case  name,age,position,salary) we want to define in our class\n",
    "\n",
    "##Here instance (aka object e.g se1.se2) are the actual placeholders where we pass the actual values of attributes (name,age,position,salary)\n",
    "\n",
    "##Class is just a blueprint or schema but object(instace)is actual placeholder which holds all the values of attributes \n",
    "\n",
    "## Here to store the attributes we intend to provide in class we use __init__ function \n",
    "##By default first argument inside __init__ method is self then we provide the other attributes we want\n",
    "##The self is keyword in Python is used to initialize all the instances in a class. By using the self keyword, one can easily access all the instances defined within a class, including its methods and attributes.\n",
    "##The __init__ method is called every time an object(instance) is created from a class and access is required to initialize the attributes of the class. (e.g first se1 object is created then se2 object is created)\n",
    "##The __init__ method lets the class initialize the object's attributes and serves no other purpose\n",
    "\n",
    "##Class attribute is defined outside __init__ method and this attribute can be used by all the instances(objects) of the class\n",
    "\n",
    "#here Class attribute is alias: software professional both se1 and se2 instances of the class belong to group that is software professional"
   ]
  },
  {
   "cell_type": "code",
   "execution_count": 28,
   "id": "59de5f61",
   "metadata": {},
   "outputs": [
    {
     "name": "stdout",
     "output_type": "stream",
     "text": [
      "Johnis writing code...\n",
      "Johnis writing code in python...\n",
      "Johnis writing code in C++...\n",
      "name= John, age=30, level=SDE2\n"
     ]
    },
    {
     "ename": "TypeError",
     "evalue": "entry_salray() takes 1 positional argument but 2 were given",
     "output_type": "error",
     "traceback": [
      "\u001b[1;31m---------------------------------------------------------------------------\u001b[0m",
      "\u001b[1;31mTypeError\u001b[0m                                 Traceback (most recent call last)",
      "\u001b[1;32m<ipython-input-28-0159b6342c90>\u001b[0m in \u001b[0;36m<module>\u001b[1;34m\u001b[0m\n\u001b[0;32m     45\u001b[0m \u001b[0mprint\u001b[0m\u001b[1;33m(\u001b[0m\u001b[0mse1\u001b[0m\u001b[1;33m)\u001b[0m\u001b[1;33m\u001b[0m\u001b[1;33m\u001b[0m\u001b[0m\n\u001b[0;32m     46\u001b[0m \u001b[1;33m\u001b[0m\u001b[0m\n\u001b[1;32m---> 47\u001b[1;33m \u001b[0mse1\u001b[0m\u001b[1;33m.\u001b[0m\u001b[0mentry_salray\u001b[0m\u001b[1;33m(\u001b[0m\u001b[1;36m24\u001b[0m\u001b[1;33m)\u001b[0m\u001b[1;33m\u001b[0m\u001b[1;33m\u001b[0m\u001b[0m\n\u001b[0m",
      "\u001b[1;31mTypeError\u001b[0m: entry_salray() takes 1 positional argument but 2 were given"
     ]
    }
   ],
   "source": [
    "class SoftwareEngineer:\n",
    "    \n",
    "    #class attribute\n",
    "    alias = 'Software Professsional'\n",
    "    \n",
    "    def __init__(self,name,age,position,salary):\n",
    "        self.name = name\n",
    "        self.age = age\n",
    "        self.position = position\n",
    "        self.salary = salary\n",
    "        \n",
    "    #instance methods\n",
    "    def code(self):\n",
    "        print(f\"{self.name}is writing code...\")\n",
    "        \n",
    "    def code_in_language(self,language):\n",
    "        print(f\"{self.name}is writing code in {language}...\")\n",
    "        \n",
    "    ###special dunder methods\n",
    "    \n",
    "    def __str__(self):\n",
    "        information = f\"name= {self.name}, age={self.age}, level={self.position}\"\n",
    "        return information\n",
    "    \n",
    "    def entry_salary(age):\n",
    "        if age<25:\n",
    "            return 5000\n",
    "        if age <30:\n",
    "            return 7000\n",
    "        return 9000 \n",
    "        \n",
    "        \n",
    "    \n",
    "\n",
    "#instance        \n",
    "se1 = SoftwareEngineer(\"John\",30,\"SDE2\",\"15 lpa\")\n",
    "se2 = SoftwareEngineer(\"Doe\",25,\"SDE1\",\"9 lpa\")\n",
    "    \n",
    "se1.code()    \n",
    "\n",
    "se1.code_in_language(\"python\")\n",
    "se1.code_in_language(\"C++\")\n",
    "\n",
    "###return information stored in dunder method\n",
    "print(se1)\n",
    "\n",
    "se1.entry_salray(24)"
   ]
  },
  {
   "cell_type": "code",
   "execution_count": null,
   "id": "6950d072",
   "metadata": {},
   "outputs": [],
   "source": [
    "#here we have created instance methods or function that can be used by instances se1 and se2\n",
    "\n",
    "#by default self keyword is 1st argument should be passed with instance methods so that it can be accesed by all instance sof the class.\n",
    "\n",
    "#we have seen our method can take argument(language) and can return values e.g(def code_in_language(self,language):\n",
    "        #print(f\"{self.name}is writing code in {language}...\"))\n",
    "\n",
    "##  def __str__(self):\n",
    "       # information = f\"name= {self.name}, age={self.age}, level={self.position}\"\n",
    "        #return information\n",
    "\n",
    "\n",
    "\n",
    "##we can also use dunder method eg. __str__ \n",
    "##which just return anything we want in string format\n",
    "\n",
    "##here we have also created a method called entry_salray which returns the salry per month, lets say based on age\n",
    "##since we have not specified a self so we do not want to specify or tie it to any instance of the class\n",
    "##so if we want to check salry of any emplyoeee who is of age 24 what shall we do\n",
    "##in code we have specified the age of se1 as 30 and se2 as 25 so by default we could have used the salary method to check their age if self argument was passed\n",
    "#but we want to check salary of random person who's age is 24 by passing the age through se1 instance\n",
    "##so we can do this by declaring function(method) entry_salary as a decorater\n",
    "##@staticmethod is use to define this method as decorator so that this method can be used by any instance(in this case se1) even if it has attribute age (24)which is not part of the instance attribute present for se1. se1 age is 30 btw\n",
    "##Decorators are means by which we can access the attributes of function(in this case salary by age) by any instance even though that attribute(age=24) is not defined in any class instances in this example (in se1 age is defined as 30 for se1) but i am checking salary for age=24\n",
    "##see code below:----(for decorator code)\n",
    "\n",
    "##in above we got type error because  without decorator if we declare a method without self then by default self is passed as we are defining inside class with second parameter as age so two parameters are passed which is the  type error \n",
    "\n"
   ]
  },
  {
   "cell_type": "code",
   "execution_count": 37,
   "id": "05cbb5ce",
   "metadata": {},
   "outputs": [
    {
     "name": "stdout",
     "output_type": "stream",
     "text": [
      "Johnis writing code...\n",
      "Johnis writing code in python...\n",
      "Johnis writing code in C++...\n",
      "name= John, age=30, level=SDE2\n"
     ]
    },
    {
     "data": {
      "text/plain": [
       "5000"
      ]
     },
     "execution_count": 37,
     "metadata": {},
     "output_type": "execute_result"
    }
   ],
   "source": [
    "class SoftwareEngineer:\n",
    "    \n",
    "    #class attribute\n",
    "    alias = 'Software Professsional'\n",
    "    \n",
    "    def __init__(self,name,age,position,salary):\n",
    "        self.name = name\n",
    "        self.age = age\n",
    "        self.position = position\n",
    "        self.salary = salary\n",
    "        \n",
    "    #instance methods\n",
    "    def code(self):\n",
    "        print(f\"{self.name}is writing code...\")\n",
    "        \n",
    "    def code_in_language(self,language):\n",
    "        print(f\"{self.name}is writing code in {language}...\")\n",
    "        \n",
    "    ###special dunder methods\n",
    "    \n",
    "    def __str__(self):\n",
    "        information = f\"name= {self.name}, age={self.age}, level={self.position}\"\n",
    "        return information\n",
    "    \n",
    "    ##decorator\n",
    "    @staticmethod\n",
    "    def entry_salary(age):\n",
    "        if age<25:\n",
    "            return 5000\n",
    "        if age <30:\n",
    "            return 7000\n",
    "        return 9000 \n",
    "        \n",
    "        \n",
    "    \n",
    "\n",
    "#instance        \n",
    "se1 = SoftwareEngineer(\"John\",30,\"SDE2\",\"15 lpa\")\n",
    "se2 = SoftwareEngineer(\"Doe\",25,\"SDE1\",\"9 lpa\")\n",
    "    \n",
    "se1.code()    \n",
    "\n",
    "se1.code_in_language(\"python\")\n",
    "se1.code_in_language(\"C++\")\n",
    "\n",
    "###return information stored in dunder method\n",
    "print(se1)\n",
    "\n",
    "##instance parameter age =24 which is not part of instance se1 age parameter(se1 age is 30)\n",
    "\n",
    "se1.entry_salary(24)\n",
    "\n"
   ]
  },
  {
   "cell_type": "markdown",
   "id": "940cdd59",
   "metadata": {},
   "source": [
    "## ** Inheritance"
   ]
  },
  {
   "cell_type": "code",
   "execution_count": 39,
   "id": "56ee17df",
   "metadata": {},
   "outputs": [],
   "source": [
    "##inheritence is the process in which one class takes the method or attributes of another class.\n",
    "##Newly formed class is called child class and from the class from which methods or attributes are inherited are called parent class\n"
   ]
  },
  {
   "cell_type": "code",
   "execution_count": 47,
   "id": "7372febb",
   "metadata": {},
   "outputs": [
    {
     "ename": "TypeError",
     "evalue": "__init__() missing 3 required positional arguments: 'name', 'age', and 'salary'",
     "output_type": "error",
     "traceback": [
      "\u001b[1;31m---------------------------------------------------------------------------\u001b[0m",
      "\u001b[1;31mTypeError\u001b[0m                                 Traceback (most recent call last)",
      "\u001b[1;32m<ipython-input-47-89c3f21d104d>\u001b[0m in \u001b[0;36m<module>\u001b[1;34m\u001b[0m\n\u001b[0;32m     20\u001b[0m \u001b[1;33m\u001b[0m\u001b[0m\n\u001b[0;32m     21\u001b[0m \u001b[1;33m\u001b[0m\u001b[0m\n\u001b[1;32m---> 22\u001b[1;33m \u001b[0mse\u001b[0m \u001b[1;33m=\u001b[0m \u001b[0mSoftwareEngineer\u001b[0m\u001b[1;33m(\u001b[0m\u001b[1;33m)\u001b[0m\u001b[1;33m\u001b[0m\u001b[1;33m\u001b[0m\u001b[0m\n\u001b[0m\u001b[0;32m     23\u001b[0m \u001b[1;33m\u001b[0m\u001b[0m\n\u001b[0;32m     24\u001b[0m \u001b[0md\u001b[0m \u001b[1;33m=\u001b[0m \u001b[0mDesigner\u001b[0m\u001b[1;33m(\u001b[0m\u001b[1;33m)\u001b[0m\u001b[1;33m\u001b[0m\u001b[1;33m\u001b[0m\u001b[0m\n",
      "\u001b[1;31mTypeError\u001b[0m: __init__() missing 3 required positional arguments: 'name', 'age', and 'salary'"
     ]
    }
   ],
   "source": [
    "\n",
    "#inheritance\n",
    "\n",
    "##employee is the base class or general class,let  say it has also a method work\n",
    "class Employee:\n",
    "    \n",
    "    def __init__(self,name ,age,salary):\n",
    "        self.name = name\n",
    "        self.age = age\n",
    "        \n",
    "    def work(self):\n",
    "        print(f\"{self.name}is working....\")\n",
    "\n",
    "\n",
    "class SoftwareEngineer(Employee):\n",
    "    pass\n",
    "\n",
    "\n",
    "class Designer(Employee):\n",
    "    pass\n",
    "\n",
    "\n",
    "se = SoftwareEngineer()\n",
    "\n",
    "d = Designer()"
   ]
  },
  {
   "cell_type": "code",
   "execution_count": null,
   "id": "dace7842",
   "metadata": {},
   "outputs": [],
   "source": [
    "##here our base class or parent class is \"employee\" which is defined by init method\n",
    "##lets say base class has an instance method \"work\"\n",
    "##Now base class has 3 attributes name , age,salary\n",
    "##We can see that child classes SoftwareEngineer and  Designer have inherited attributes of base or parent class i.e (name, age, salary) which is the error above\n",
    "##Also we can see it has inherited the instance method(functions) of base (parent class) i.e work\n",
    "##so we have to pass the attributes name,age ,salary while accesing the instance method (work) by child classes (softwareEngineer, Designer)"
   ]
  },
  {
   "cell_type": "code",
   "execution_count": 48,
   "id": "9af8f7f9",
   "metadata": {},
   "outputs": [
    {
     "name": "stdout",
     "output_type": "stream",
     "text": [
      "Max 25\n",
      "Max is working....\n",
      "Philip 35\n",
      "Philip is working....\n"
     ]
    }
   ],
   "source": [
    "\n",
    "#inheritance\n",
    "\n",
    "##employee is the base class or general class,let  say it has also a method work\n",
    "class Employee:\n",
    "    \n",
    "    def __init__(self,name ,age, salary):\n",
    "        self.name = name\n",
    "        self.age = age\n",
    "        \n",
    "    def work(self):\n",
    "        print(f\"{self.name} is working....\")\n",
    "\n",
    "\n",
    "class SoftwareEngineer(Employee):\n",
    "    pass\n",
    "\n",
    "\n",
    "class Designer(Employee):\n",
    "    pass\n",
    "\n",
    "\n",
    "se = SoftwareEngineer(\"Max\",25,7000)\n",
    "print(se.name, se.age)\n",
    "se.work()\n",
    "\n",
    "d = Designer(\"Philip\",35,4000)\n",
    "print(d.name,d.age)\n",
    "d.work()"
   ]
  },
  {
   "cell_type": "code",
   "execution_count": null,
   "id": "1cef78d2",
   "metadata": {},
   "outputs": [],
   "source": [
    "##extending and overiding functionality\n",
    "##here our base class(employee) already has three attributes name,age salary\n",
    "##so if we want child class SoftwareEngineer to inherit  all the attributes of parent class \"Employee\" and have its separate attribute(i.e child class has an extension or has an extended attribute(level)apart from base class)\n",
    "##here child class can inherit all attributes(name,age ,salary) of parent class by using a super.()__init__(name,age,salary) (super method)\n",
    "##if we override the __init__ in child class(SoftwareEngineer) with default attributes of parent class \"Employee\" and it own attribute \"level\" then we have to call the super(). method of base class[super().__init__(name,age,salary)] and pass \n",
    "\n",
    "##here child class SoftwareEngineer can have its own attribute as level provide as self.level =level along with parent class atrributes (name,age,salary)called by super.()__init__ method\n",
    "\n",
    "##Also child class can inherit the parent class method/function(work) and override with its own way e.g print statement is print(f\"{self.name} is coding....\") (line 19)  \n",
    "##here it means child class is working which is coding in thid context working=coding which is overriden\n",
    "\n",
    "##Also child class can extend and can have it own functionality apart from those inherited from base(parent class)\n",
    "\n",
    "##example child class can use the debug function and Designer class and extend or have draw method\n",
    "\n",
    "####see code below in row 56 for theory above"
   ]
  },
  {
   "cell_type": "code",
   "execution_count": 56,
   "id": "2346db02",
   "metadata": {},
   "outputs": [
    {
     "name": "stdout",
     "output_type": "stream",
     "text": [
      "Max 25 sde2\n",
      "Max is coding....\n",
      "Max is debugging....\n",
      "Philip 35\n",
      "Philip is designing....\n",
      "Philip is drawing....\n"
     ]
    }
   ],
   "source": [
    "class Employee:\n",
    "    \n",
    "    def __init__(self,name ,age, salary):\n",
    "        self.name = name\n",
    "        self.age = age\n",
    "        \n",
    "    def work(self):\n",
    "        print(f\"{self.name} is working....\")\n",
    "\n",
    "\n",
    "class SoftwareEngineer(Employee):\n",
    "    \n",
    "    def __init__(self,name,age,salary,level):\n",
    "        super().__init__(name,age,salary)\n",
    "        self.level = level\n",
    "\n",
    "##using function with same name i.e work means we are overiding the base class function or instance method  and giving different print statement       \n",
    "    def work(self):\n",
    "        print(f\"{self.name} is coding....\")   \n",
    "\n",
    "##using function with different name means we are extending the function of base class i.e here class SoftwareEngineer has its own method\n",
    "\n",
    "    def debug(self):\n",
    "        print(f\"{self.name} is debugging....\")\n",
    "\n",
    "\n",
    "class Designer(Employee):\n",
    "    \n",
    "    def work(self):\n",
    "        print(f\"{self.name} is designing....\") \n",
    "        \n",
    "    def draw(self):\n",
    "        print(f\"{self.name} is drawing....\")    \n",
    "    \n",
    "\n",
    "\n",
    "se = SoftwareEngineer(\"Max\",25,7000,\"sde2\")\n",
    "print(se.name, se.age, se.level)\n",
    "se.work()\n",
    "se.debug()\n",
    "\n",
    "d = Designer(\"Philip\",35,4000)\n",
    "print(d.name,d.age)\n",
    "d.work()\n",
    "d.draw()"
   ]
  },
  {
   "cell_type": "code",
   "execution_count": 1,
   "id": "3c9fcf28",
   "metadata": {},
   "outputs": [],
   "source": [
    "#polymorphism gives us a way to use a class exactly like its parent but each child class keeps its own methods as they want "
   ]
  },
  {
   "cell_type": "code",
   "execution_count": null,
   "id": "7e73ee8b",
   "metadata": {},
   "outputs": [],
   "source": [
    "##here we can see new function motivate_employees containing list of employyes of child class took the functionality of base class(i.e work) but has its own method i.e motivate_employees  "
   ]
  },
  {
   "cell_type": "code",
   "execution_count": 61,
   "id": "d4d46e36",
   "metadata": {},
   "outputs": [
    {
     "name": "stdout",
     "output_type": "stream",
     "text": [
      "Max is coding....\n",
      "Lisa is coding....\n",
      "Philip is designing....\n"
     ]
    }
   ],
   "source": [
    "class Employee:\n",
    "    \n",
    "    def __init__(self,name ,age, salary):\n",
    "        self.name = name\n",
    "        self.age = age\n",
    "        \n",
    "    def work(self):\n",
    "        print(f\"{self.name} is working....\")\n",
    "\n",
    "\n",
    "class SoftwareEngineer(Employee):\n",
    "    \n",
    "    def __init__(self,name,age,salary,level):\n",
    "        super().__init__(name,age,salary)\n",
    "        self.level = level\n",
    "\n",
    "##using function with same name i.e work means we are overiding the base class function or instance method  and giving different print statement       \n",
    "    def work(self):\n",
    "        print(f\"{self.name} is coding....\")   \n",
    "\n",
    "##using function with different name means we are extending the function of base class i.e here class SoftwareEngineer has its own method\n",
    "\n",
    "    def debug(self):\n",
    "        print(f\"{self.name} is debugging....\")\n",
    "\n",
    "\n",
    "class Designer(Employee):\n",
    "    \n",
    "    def work(self):\n",
    "        print(f\"{self.name} is designing....\") \n",
    "        \n",
    "    def draw(self):\n",
    "        print(f\"{self.name} is drawing....\")    \n",
    "    \n",
    "\n",
    "\n",
    "se = SoftwareEngineer(\"Max\",25,7000,\"sde2\")\n",
    "#print(se.name, se.age, se.level)\n",
    "#se.work()\n",
    "#se.debug()\n",
    "\n",
    "d = Designer(\"Philip\",35,4000)\n",
    "#print(d.name,d.age)\n",
    "#d.work()\n",
    "#d.draw()\n",
    "\n",
    "\n",
    "employees = [SoftwareEngineer(\"Max\",25,7000,\"sde2\"),\n",
    "             SoftwareEngineer(\"Lisa\",30,9000,\"sde3\"),\n",
    "             Designer(\"Philip\",35,4000)]\n",
    "                              \n",
    "##three instances of child class max,lisa, philip                              \n",
    "                              \n",
    "def motivate_employees(employees):\n",
    "    for x in employees:\n",
    "        x.work()\n",
    "                              \n",
    "motivate_employees(employees)                          \n",
    "                              \n",
    "##here we can see new function motivate_employees containing list of employyes of child class took the functionality of base class(i.e work) but has its own method i.e motivate_employees                        "
   ]
  },
  {
   "cell_type": "markdown",
   "id": "48c8b547",
   "metadata": {},
   "source": [
    "## Encapsulation"
   ]
  },
  {
   "cell_type": "code",
   "execution_count": null,
   "id": "8f6e0afa",
   "metadata": {},
   "outputs": [],
   "source": [
    "#encapsulation is a method of hiding data imlmentatipon\n",
    "#instance variables are kept private and there is one accesor method from outside with which we can access or change instance variables.\n",
    "#we restrict the access to public called getr or setr methods\n",
    "#methods will be kept private to be used internally\n",
    "#we restrict the access of public methods(getter/setter)\n"
   ]
  },
  {
   "cell_type": "code",
   "execution_count": 6,
   "id": "4450e150",
   "metadata": {},
   "outputs": [
    {
     "name": "stdout",
     "output_type": "stream",
     "text": [
      "25 Max\n",
      "12000\n"
     ]
    }
   ],
   "source": [
    "class SoftwareEngineer:\n",
    "    \n",
    "    def __init__(self,name,age):\n",
    "        self.name = name\n",
    "        self.age = age\n",
    "        #lets declare a private attribute salary not be seen by anybody\n",
    "        #by cconvention declared as self.underscore the attribute name\n",
    "        #self._salary\n",
    "        #_x is called \"protected\"attribute(one underscore)\n",
    "        #__x is called \"private\" aatribute(double underscore)\n",
    "        \n",
    "        self._salary = None\n",
    "        self._num_bugs_solved = 0\n",
    "        \n",
    "    def code(self):\n",
    "        self._num_bugs_solved +=1\n",
    "        \n",
    "\n",
    "#lets say hr dept has access to salary\n",
    "\n",
    "    #getter function\n",
    "    def get_salary(self):\n",
    "        return self._salary\n",
    "    \n",
    "    #setter function\n",
    "    def set_salary(self,base_value):\n",
    "        self._salary =self._calculate_salary(base_value)\n",
    "#we are accesing a protected attribute inside\n",
    "        \n",
    "#based on how productive our software engineer in solving bugs lets create an internal function        \n",
    "     \n",
    "#here we are using a protected function to ensure perks more salary as compared to base salary\n",
    "    def _calculate_salary(self,base_value):\n",
    "        if self._num_bugs_solved <10 :\n",
    "            return base_value\n",
    "        if self._num_bugs_solved < 100:\n",
    "            return  base_value * 2\n",
    "        return  base_value * 3\n",
    "    \n",
    "#lets create an object or instance\n",
    "se = SoftwareEngineer(\"Max\",25)\n",
    "print(se.age,se.name)\n",
    "\n",
    "#means no of bugs solved =70\n",
    "for i in range(70):\n",
    "    se.code()\n",
    "\n",
    "se.set_salary(6000)\n",
    "print(se.get_salary())\n"
   ]
  },
  {
   "cell_type": "code",
   "execution_count": null,
   "id": "285a11f2",
   "metadata": {},
   "outputs": [],
   "source": [
    "#abstraction means each object should expose an high level mechanism for using it\n",
    "#it should hide internal mechanism or details\n",
    "#reveal operations relevant to other objects\n",
    "#set_salary performs the abstraction principle\n",
    "#above set_salary method is applying abstraction principle only from outside the hr dept is able to set salary but they dont care about the internal implementation def _calculate_salary (rewards based on  solvig bugs) "
   ]
  },
  {
   "cell_type": "code",
   "execution_count": null,
   "id": "29c74106",
   "metadata": {},
   "outputs": [],
   "source": []
  },
  {
   "cell_type": "code",
   "execution_count": 10,
   "id": "80139d6d",
   "metadata": {},
   "outputs": [
    {
     "name": "stdout",
     "output_type": "stream",
     "text": [
      "6000\n"
     ]
    }
   ],
   "source": [
    "class SoftwareEngineer:\n",
    "    \n",
    "    def __init__(self):\n",
    "        self._salary = None\n",
    "   \n",
    "     \n",
    "\n",
    "    #getter function\n",
    "    @property\n",
    "    def salary(self):\n",
    "        return self._salary\n",
    "    \n",
    "    #setter function\n",
    "    @salary.setter\n",
    "    def salary(self,value):\n",
    "        self._salary =value\n",
    "\n",
    "se = SoftwareEngineer()\n",
    "\n",
    "se.salary=6000\n",
    "print(se.salary)\n"
   ]
  },
  {
   "cell_type": "markdown",
   "id": "ffddc2e9",
   "metadata": {},
   "source": [
    "## Python--OOPS----Public,Protected and private (Krish Naik ML playlist)"
   ]
  },
  {
   "cell_type": "code",
   "execution_count": 25,
   "id": "32930cb1",
   "metadata": {},
   "outputs": [],
   "source": [
    "class car():\n",
    "    def __init__(self,windows,doors,enginetype):\n",
    "        self.windows = windows\n",
    "        self.doors = doors\n",
    "        self.enginetype = enginetype \n",
    "        \n",
    "#whenever we have defined the parametrs in this method these are publiv variables and can be accessed from anywhere        "
   ]
  },
  {
   "cell_type": "code",
   "execution_count": 26,
   "id": "0812641a",
   "metadata": {},
   "outputs": [
    {
     "data": {
      "text/plain": [
       "['__class__',\n",
       " '__delattr__',\n",
       " '__dict__',\n",
       " '__dir__',\n",
       " '__doc__',\n",
       " '__eq__',\n",
       " '__format__',\n",
       " '__ge__',\n",
       " '__getattribute__',\n",
       " '__gt__',\n",
       " '__hash__',\n",
       " '__init__',\n",
       " '__init_subclass__',\n",
       " '__le__',\n",
       " '__lt__',\n",
       " '__module__',\n",
       " '__ne__',\n",
       " '__new__',\n",
       " '__reduce__',\n",
       " '__reduce_ex__',\n",
       " '__repr__',\n",
       " '__setattr__',\n",
       " '__sizeof__',\n",
       " '__str__',\n",
       " '__subclasshook__',\n",
       " '__weakref__',\n",
       " 'doors',\n",
       " 'enginetype',\n",
       " 'windows']"
      ]
     },
     "execution_count": 26,
     "metadata": {},
     "output_type": "execute_result"
    }
   ],
   "source": [
    "audi = car(4,4,'diesel')\n",
    "audi\n",
    "dir(audi)  #gives all the attributes present"
   ]
  },
  {
   "cell_type": "code",
   "execution_count": 27,
   "id": "7bd5913b",
   "metadata": {},
   "outputs": [
    {
     "data": {
      "text/plain": [
       "4"
      ]
     },
     "execution_count": 27,
     "metadata": {},
     "output_type": "execute_result"
    }
   ],
   "source": [
    "audi = car(4,4,'diesel')\n",
    "audi\n",
    "audi.windows"
   ]
  },
  {
   "cell_type": "code",
   "execution_count": 28,
   "id": "e89f6c3e",
   "metadata": {},
   "outputs": [
    {
     "data": {
      "text/plain": [
       "5"
      ]
     },
     "execution_count": 28,
     "metadata": {},
     "output_type": "execute_result"
    }
   ],
   "source": [
    "#override the windows \n",
    "#can do it as it is public variable\n",
    "audi.windows =5\n",
    "audi.windows\n",
    "#now we see windows is 5 "
   ]
  },
  {
   "cell_type": "code",
   "execution_count": null,
   "id": "7e869ddf",
   "metadata": {},
   "outputs": [],
   "source": []
  },
  {
   "cell_type": "code",
   "execution_count": null,
   "id": "3592a4fe",
   "metadata": {},
   "outputs": [],
   "source": []
  },
  {
   "cell_type": "code",
   "execution_count": 29,
   "id": "25e8c4f5",
   "metadata": {},
   "outputs": [],
   "source": [
    "#all class variables/parameters are protected\n",
    "#represented using single underscore\n",
    "#self._windows\n",
    "class car():\n",
    "    def __init__(self,windows,doors,enginetype):\n",
    "        self._windows = windows\n",
    "        self._doors = doors\n",
    "        self._enginetype = enginetype "
   ]
  },
  {
   "cell_type": "code",
   "execution_count": 33,
   "id": "448670b2",
   "metadata": {},
   "outputs": [],
   "source": [
    "class Truck(car):\n",
    "    def __init__(self,windows,doors,enginetype,horsepower):\n",
    "        super().__init__(windows,doors,enginetype)\n",
    "        self.horsepower  = horsepower\n",
    "    "
   ]
  },
  {
   "cell_type": "code",
   "execution_count": 16,
   "id": "d3dd0ead",
   "metadata": {},
   "outputs": [
    {
     "data": {
      "text/plain": [
       "['__class__',\n",
       " '__delattr__',\n",
       " '__dict__',\n",
       " '__dir__',\n",
       " '__doc__',\n",
       " '__eq__',\n",
       " '__format__',\n",
       " '__ge__',\n",
       " '__getattribute__',\n",
       " '__gt__',\n",
       " '__hash__',\n",
       " '__init__',\n",
       " '__init_subclass__',\n",
       " '__le__',\n",
       " '__lt__',\n",
       " '__module__',\n",
       " '__ne__',\n",
       " '__new__',\n",
       " '__reduce__',\n",
       " '__reduce_ex__',\n",
       " '__repr__',\n",
       " '__setattr__',\n",
       " '__sizeof__',\n",
       " '__str__',\n",
       " '__subclasshook__',\n",
       " '__weakref__',\n",
       " '_doors',\n",
       " '_enginetype',\n",
       " '_windows']"
      ]
     },
     "execution_count": 16,
     "metadata": {},
     "output_type": "execute_result"
    }
   ],
   "source": [
    "#protected variables can be accessed from subclasses\n",
    "#suppose a class which is inheriting the object of particular class.\n",
    "\n",
    "\n",
    "audi= car(4,4,'diesel')\n",
    "dir(audi)\n",
    "\n",
    "#check output of dir(audi) last three lines of output"
   ]
  },
  {
   "cell_type": "code",
   "execution_count": null,
   "id": "6c5869c3",
   "metadata": {},
   "outputs": [],
   "source": [
    "#in case of proteceted varaibles,parameters the overwritten should only happen ideally from child class(python is flexible)"
   ]
  },
  {
   "cell_type": "code",
   "execution_count": 36,
   "id": "e8ff1035",
   "metadata": {},
   "outputs": [
    {
     "data": {
      "text/plain": [
       "['__class__',\n",
       " '__delattr__',\n",
       " '__dict__',\n",
       " '__dir__',\n",
       " '__doc__',\n",
       " '__eq__',\n",
       " '__format__',\n",
       " '__ge__',\n",
       " '__getattribute__',\n",
       " '__gt__',\n",
       " '__hash__',\n",
       " '__init__',\n",
       " '__init_subclass__',\n",
       " '__le__',\n",
       " '__lt__',\n",
       " '__module__',\n",
       " '__ne__',\n",
       " '__new__',\n",
       " '__reduce__',\n",
       " '__reduce_ex__',\n",
       " '__repr__',\n",
       " '__setattr__',\n",
       " '__sizeof__',\n",
       " '__str__',\n",
       " '__subclasshook__',\n",
       " '__weakref__',\n",
       " '_doors',\n",
       " '_enginetype',\n",
       " '_windows',\n",
       " 'horsepower']"
      ]
     },
     "execution_count": 36,
     "metadata": {},
     "output_type": "execute_result"
    }
   ],
   "source": [
    "truck = Truck(4,4,'diesel',4000)\n",
    "dir(truck)"
   ]
  },
  {
   "cell_type": "code",
   "execution_count": 37,
   "id": "89be1962",
   "metadata": {},
   "outputs": [
    {
     "data": {
      "text/plain": [
       "5"
      ]
     },
     "execution_count": 37,
     "metadata": {},
     "output_type": "execute_result"
    }
   ],
   "source": [
    "truck.doors=5\n",
    "truck.doors\n",
    "\n",
    "#here no. of doors  are overwritten by truck class to 5 but initially it was passed=4"
   ]
  },
  {
   "cell_type": "code",
   "execution_count": null,
   "id": "e84d9ba0",
   "metadata": {},
   "outputs": [],
   "source": [
    "#private Variable\n",
    "#we say cannot be accesed from anywhere \n",
    "##defined by double underscore __doors(self.__doors = doors)"
   ]
  },
  {
   "cell_type": "code",
   "execution_count": 42,
   "id": "3d0c684d",
   "metadata": {},
   "outputs": [],
   "source": [
    "class car():\n",
    "    def __init__(self,windows,doors,enginetype):\n",
    "        self.__windows = windows\n",
    "        self.__doors = doors\n",
    "        self.__enginetype = enginetype "
   ]
  },
  {
   "cell_type": "code",
   "execution_count": 43,
   "id": "bdfe575d",
   "metadata": {},
   "outputs": [],
   "source": [
    "audi =car(4,4,'diesel')\n"
   ]
  },
  {
   "cell_type": "code",
   "execution_count": 44,
   "id": "7bb1f95b",
   "metadata": {},
   "outputs": [
    {
     "data": {
      "text/plain": [
       "<__main__.car at 0x223893105c8>"
      ]
     },
     "execution_count": 44,
     "metadata": {},
     "output_type": "execute_result"
    }
   ],
   "source": [
    "audi"
   ]
  },
  {
   "cell_type": "code",
   "execution_count": 45,
   "id": "b94437cc",
   "metadata": {},
   "outputs": [
    {
     "data": {
      "text/plain": [
       "['__class__',\n",
       " '__delattr__',\n",
       " '__dict__',\n",
       " '__dir__',\n",
       " '__doc__',\n",
       " '__eq__',\n",
       " '__format__',\n",
       " '__ge__',\n",
       " '__getattribute__',\n",
       " '__gt__',\n",
       " '__hash__',\n",
       " '__init__',\n",
       " '__init_subclass__',\n",
       " '__le__',\n",
       " '__lt__',\n",
       " '__module__',\n",
       " '__ne__',\n",
       " '__new__',\n",
       " '__reduce__',\n",
       " '__reduce_ex__',\n",
       " '__repr__',\n",
       " '__setattr__',\n",
       " '__sizeof__',\n",
       " '__str__',\n",
       " '__subclasshook__',\n",
       " '__weakref__',\n",
       " '_car__doors',\n",
       " '_car__enginetype',\n",
       " '_car__windows']"
      ]
     },
     "execution_count": 45,
     "metadata": {},
     "output_type": "execute_result"
    }
   ],
   "source": [
    "dir(audi)"
   ]
  },
  {
   "cell_type": "code",
   "execution_count": 47,
   "id": "9d8a90c0",
   "metadata": {},
   "outputs": [
    {
     "data": {
      "text/plain": [
       "4"
      ]
     },
     "execution_count": 47,
     "metadata": {},
     "output_type": "execute_result"
    }
   ],
   "source": [
    "audi._car__doors"
   ]
  },
  {
   "cell_type": "code",
   "execution_count": 48,
   "id": "ba85d35d",
   "metadata": {},
   "outputs": [],
   "source": [
    "#now i can even overide this as in python language there is no overwritting restriction for protected or private class paramaeters/variables"
   ]
  },
  {
   "cell_type": "code",
   "execution_count": 49,
   "id": "29b33c49",
   "metadata": {},
   "outputs": [],
   "source": [
    "#no. of doors is also overwritten for private varaibles or parameter\n",
    "\n",
    "audi._car__doors =5"
   ]
  },
  {
   "cell_type": "code",
   "execution_count": 50,
   "id": "ca3d6880",
   "metadata": {},
   "outputs": [
    {
     "data": {
      "text/plain": [
       "5"
      ]
     },
     "execution_count": 50,
     "metadata": {},
     "output_type": "execute_result"
    }
   ],
   "source": [
    "audi._car__doors"
   ]
  },
  {
   "cell_type": "markdown",
   "id": "cdea6ce3",
   "metadata": {},
   "source": [
    "### Python OOPS by Krish Naik"
   ]
  },
  {
   "cell_type": "code",
   "execution_count": 19,
   "id": "a7c7965d",
   "metadata": {},
   "outputs": [],
   "source": [
    "class car:\n",
    "    def __init__(self,window,door,enginetype):\n",
    "        self.windows = window\n",
    "        self.doors = door\n",
    "        self.enginetype = enginetype\n",
    "        \n",
    "    def self_driving(self):\n",
    "        return \"This is a {} car\".format(self.enginetype)"
   ]
  },
  {
   "cell_type": "code",
   "execution_count": 20,
   "id": "3504a0ad",
   "metadata": {},
   "outputs": [],
   "source": [
    "car1 = car(4,5,'Petrol')\n",
    "\n",
    "#instantiatiang from class car\n",
    "#it is basicaally a constuctor"
   ]
  },
  {
   "cell_type": "code",
   "execution_count": 21,
   "id": "e4d4d156",
   "metadata": {},
   "outputs": [
    {
     "data": {
      "text/plain": [
       "<__main__.car at 0x20a20fa9a08>"
      ]
     },
     "execution_count": 21,
     "metadata": {},
     "output_type": "execute_result"
    }
   ],
   "source": [
    "car1"
   ]
  },
  {
   "cell_type": "code",
   "execution_count": 18,
   "id": "6d6cf463",
   "metadata": {},
   "outputs": [
    {
     "name": "stdout",
     "output_type": "stream",
     "text": [
      "4\n",
      "5\n"
     ]
    }
   ],
   "source": [
    "print(car1.windows)\n",
    "print(car1.doors)\n"
   ]
  },
  {
   "cell_type": "code",
   "execution_count": 22,
   "id": "fb82e5cb",
   "metadata": {},
   "outputs": [
    {
     "data": {
      "text/plain": [
       "'This is a Petrol car'"
      ]
     },
     "execution_count": 22,
     "metadata": {},
     "output_type": "execute_result"
    }
   ],
   "source": [
    "car1.self_driving()\n",
    "\n",
    "#method inside a car"
   ]
  },
  {
   "cell_type": "code",
   "execution_count": null,
   "id": "36e6ec9b",
   "metadata": {},
   "outputs": [],
   "source": []
  },
  {
   "cell_type": "code",
   "execution_count": 15,
   "id": "74754f15",
   "metadata": {},
   "outputs": [],
   "source": [
    "car2 =car(4,5,'Diesel')"
   ]
  },
  {
   "cell_type": "code",
   "execution_count": 17,
   "id": "557a0cb8",
   "metadata": {},
   "outputs": [
    {
     "name": "stdout",
     "output_type": "stream",
     "text": [
      "Diesel\n"
     ]
    }
   ],
   "source": [
    "print(car2.enginetype)"
   ]
  },
  {
   "cell_type": "markdown",
   "id": "2a9b8a7a",
   "metadata": {},
   "source": [
    "### inhertiance"
   ]
  },
  {
   "cell_type": "code",
   "execution_count": 32,
   "id": "b98f885b",
   "metadata": {},
   "outputs": [],
   "source": [
    "class car:\n",
    "    def __init__(self,window,door,enginetype):\n",
    "        self.windows = window\n",
    "        self.doors = door\n",
    "        self.enginetype = enginetype\n",
    "        \n",
    "    def drive(self):\n",
    "        print(\"The Person drives the car\")"
   ]
  },
  {
   "cell_type": "code",
   "execution_count": 36,
   "id": "8a2dbda1",
   "metadata": {},
   "outputs": [],
   "source": [
    "car1 = car(4,4,'diesel')\n",
    "\n",
    "#car1 is an object of particular class \"car\""
   ]
  },
  {
   "cell_type": "code",
   "execution_count": 37,
   "id": "dcb24c22",
   "metadata": {},
   "outputs": [
    {
     "data": {
      "text/plain": [
       "4"
      ]
     },
     "execution_count": 37,
     "metadata": {},
     "output_type": "execute_result"
    }
   ],
   "source": [
    "car1.windows"
   ]
  },
  {
   "cell_type": "code",
   "execution_count": 35,
   "id": "44963d20",
   "metadata": {},
   "outputs": [
    {
     "name": "stdout",
     "output_type": "stream",
     "text": [
      "The Person drives the car\n"
     ]
    }
   ],
   "source": [
    "car1.drive()"
   ]
  },
  {
   "cell_type": "code",
   "execution_count": 39,
   "id": "28887134",
   "metadata": {},
   "outputs": [],
   "source": [
    "#suppose we create a new class audicar which inherits the blueprint of class car\n",
    "\n",
    "class teslacar(car):\n",
    "    def __init__(self,window,door,enginetype,enableai):\n",
    "        super().__init__(window,door,enginetype)\n",
    "        self.enableai=enableai\n",
    "        \n",
    "    def selfdriving(self):\n",
    "        print(\"Tesla is a self driving car\")\n",
    "            "
   ]
  },
  {
   "cell_type": "code",
   "execution_count": 40,
   "id": "ec3996ac",
   "metadata": {},
   "outputs": [],
   "source": [
    "Tesla_models = teslacar(5,5,'electric',True)"
   ]
  },
  {
   "cell_type": "code",
   "execution_count": 41,
   "id": "46f382f5",
   "metadata": {},
   "outputs": [
    {
     "data": {
      "text/plain": [
       "5"
      ]
     },
     "execution_count": 41,
     "metadata": {},
     "output_type": "execute_result"
    }
   ],
   "source": [
    "Tesla_models.windows"
   ]
  },
  {
   "cell_type": "code",
   "execution_count": 43,
   "id": "8d47702e",
   "metadata": {},
   "outputs": [
    {
     "data": {
      "text/plain": [
       "'electric'"
      ]
     },
     "execution_count": 43,
     "metadata": {},
     "output_type": "execute_result"
    }
   ],
   "source": [
    "Tesla_models.enginetype"
   ]
  },
  {
   "cell_type": "code",
   "execution_count": 42,
   "id": "e5cf1c99",
   "metadata": {},
   "outputs": [
    {
     "name": "stdout",
     "output_type": "stream",
     "text": [
      "Tesla is a self driving car\n"
     ]
    }
   ],
   "source": [
    "Tesla_models.selfdriving()"
   ]
  },
  {
   "cell_type": "markdown",
   "id": "9de942b0",
   "metadata": {},
   "source": [
    "## Multiple inheritence in Python"
   ]
  },
  {
   "cell_type": "code",
   "execution_count": 67,
   "id": "6e15b4a0",
   "metadata": {},
   "outputs": [],
   "source": [
    "class A:\n",
    "    def method1(self):\n",
    "        print(\"A calss  method is called\")\n",
    "        "
   ]
  },
  {
   "cell_type": "code",
   "execution_count": 68,
   "id": "a6fac221",
   "metadata": {},
   "outputs": [],
   "source": [
    "class B(A):\n",
    "    def method1(self):\n",
    "        print(\"B calss  method is called\")\n",
    "    def method2(self):\n",
    "        print(\"B calss  method2 is called\")\n",
    "        "
   ]
  },
  {
   "cell_type": "code",
   "execution_count": 69,
   "id": "a53c5357",
   "metadata": {},
   "outputs": [],
   "source": [
    "class C(A):\n",
    "    def method1(self):\n",
    "        print(\"C calss  method is called\")"
   ]
  },
  {
   "cell_type": "code",
   "execution_count": 70,
   "id": "85b749a4",
   "metadata": {},
   "outputs": [],
   "source": [
    "#multiple inheritence means one class will be inheriting from two base calss\n",
    "\n",
    "class D(B,C):\n",
    "    def method1(self):\n",
    "        print(\"D calss  method is called\")\n",
    "        C.method1(self)\n",
    "        B.method1(self)\n",
    "        A.method1(self)"
   ]
  },
  {
   "cell_type": "code",
   "execution_count": 71,
   "id": "6c01c5e6",
   "metadata": {},
   "outputs": [],
   "source": [
    "d = D()"
   ]
  },
  {
   "cell_type": "code",
   "execution_count": 72,
   "id": "fdfb72b8",
   "metadata": {},
   "outputs": [
    {
     "name": "stdout",
     "output_type": "stream",
     "text": [
      "D calss  method is called\n",
      "C calss  method is called\n",
      "B calss  method is called\n",
      "A calss  method is called\n"
     ]
    }
   ],
   "source": [
    "d.method1()"
   ]
  },
  {
   "cell_type": "code",
   "execution_count": 73,
   "id": "5690812e",
   "metadata": {},
   "outputs": [
    {
     "name": "stdout",
     "output_type": "stream",
     "text": [
      "B calss  method2 is called\n"
     ]
    }
   ],
   "source": [
    "d.method2()"
   ]
  },
  {
   "cell_type": "code",
   "execution_count": 74,
   "id": "25d3aa5a",
   "metadata": {},
   "outputs": [
    {
     "name": "stdout",
     "output_type": "stream",
     "text": [
      "B calss  method is called\n"
     ]
    }
   ],
   "source": [
    "B.method1(d)"
   ]
  },
  {
   "cell_type": "code",
   "execution_count": 75,
   "id": "903ba442",
   "metadata": {},
   "outputs": [
    {
     "name": "stdout",
     "output_type": "stream",
     "text": [
      "A calss  method is called\n"
     ]
    }
   ],
   "source": [
    "A.method1(d)"
   ]
  },
  {
   "cell_type": "markdown",
   "id": "fb2438dd",
   "metadata": {},
   "source": [
    "## Abstraction and Encapsulation"
   ]
  },
  {
   "cell_type": "code",
   "execution_count": null,
   "id": "ba432202",
   "metadata": {},
   "outputs": [],
   "source": [
    "###Abstcration--->>dividing task into smaller and smaller task so that all art part of it e.g computer(has monitor.CPU,keyboard,mouse,ups)which are all part of it\n",
    "###Encapsulation ---> hiding the functionalities from end user as they might not need to know it"
   ]
  },
  {
   "cell_type": "code",
   "execution_count": 76,
   "id": "d2321426",
   "metadata": {},
   "outputs": [
    {
     "name": "stdout",
     "output_type": "stream",
     "text": [
      "This is good Rohan\n"
     ]
    }
   ],
   "source": [
    "\n",
    "class Employee:\n",
    "    no_of_leaves = 8\n",
    "\n",
    "    def __init__(self, aname, asalary, arole):\n",
    "        self.name = aname\n",
    "        self.salary = asalary\n",
    "        self.role = arole\n",
    "\n",
    "    def printdetails(self):\n",
    "        return f\"The Name is {self.name}. Salary is {self.salary} and role is {self.role}\"\n",
    "\n",
    "    @classmethod\n",
    "    def change_leaves(cls, newleaves):\n",
    "        cls.no_of_leaves = newleaves\n",
    "\n",
    "    @classmethod\n",
    "    def from_dash(cls, string):\n",
    "        return cls(*string.split(\"-\"))\n",
    "\n",
    "    @staticmethod\n",
    "    def printgood(string):\n",
    "        print(\"This is good \" + string)\n",
    "\n",
    "harry = Employee(\"Harry\", 255, \"Instructor\")\n",
    "rohan = Employee(\"Rohan\", 455, \"Student\")\n",
    "karan = Employee.from_dash(\"Karan-480-Student\")\n",
    "\n",
    "Employee.printgood(\"Rohan\")\n",
    "\n",
    "\n"
   ]
  },
  {
   "cell_type": "code",
   "execution_count": null,
   "id": "26285baf",
   "metadata": {},
   "outputs": [],
   "source": [
    "###(https://www.codewithharry.com/videos/python-tutorials-for-absolute-beginners-59)"
   ]
  },
  {
   "cell_type": "code",
   "execution_count": null,
   "id": "bf8f1204",
   "metadata": {},
   "outputs": [],
   "source": []
  },
  {
   "cell_type": "code",
   "execution_count": null,
   "id": "8401f858",
   "metadata": {},
   "outputs": [],
   "source": []
  },
  {
   "cell_type": "code",
   "execution_count": null,
   "id": "6121f5ef",
   "metadata": {},
   "outputs": [],
   "source": []
  },
  {
   "cell_type": "code",
   "execution_count": null,
   "id": "9c191b32",
   "metadata": {},
   "outputs": [],
   "source": []
  },
  {
   "cell_type": "code",
   "execution_count": null,
   "id": "8c7556fc",
   "metadata": {},
   "outputs": [],
   "source": []
  },
  {
   "cell_type": "code",
   "execution_count": null,
   "id": "70e37609",
   "metadata": {},
   "outputs": [],
   "source": []
  },
  {
   "cell_type": "code",
   "execution_count": null,
   "id": "7861b058",
   "metadata": {},
   "outputs": [],
   "source": []
  },
  {
   "cell_type": "code",
   "execution_count": null,
   "id": "5f14100d",
   "metadata": {},
   "outputs": [],
   "source": []
  },
  {
   "cell_type": "code",
   "execution_count": null,
   "id": "93e511aa",
   "metadata": {},
   "outputs": [],
   "source": []
  },
  {
   "cell_type": "code",
   "execution_count": null,
   "id": "b423250f",
   "metadata": {},
   "outputs": [],
   "source": []
  },
  {
   "cell_type": "code",
   "execution_count": null,
   "id": "8f7d8401",
   "metadata": {},
   "outputs": [],
   "source": []
  },
  {
   "cell_type": "code",
   "execution_count": null,
   "id": "b855ea43",
   "metadata": {},
   "outputs": [],
   "source": []
  }
 ],
 "metadata": {
  "kernelspec": {
   "display_name": "Python 3",
   "language": "python",
   "name": "python3"
  },
  "language_info": {
   "codemirror_mode": {
    "name": "ipython",
    "version": 3
   },
   "file_extension": ".py",
   "mimetype": "text/x-python",
   "name": "python",
   "nbconvert_exporter": "python",
   "pygments_lexer": "ipython3",
   "version": "3.7.11"
  }
 },
 "nbformat": 4,
 "nbformat_minor": 5
}
