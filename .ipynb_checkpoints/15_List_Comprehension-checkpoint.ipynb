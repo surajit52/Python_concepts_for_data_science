{
 "cells": [
  {
   "cell_type": "markdown",
   "id": "471e66d1",
   "metadata": {},
   "source": [
    "# List Comprehension\n"
   ]
  },
  {
   "cell_type": "markdown",
   "id": "ddcb96ef",
   "metadata": {},
   "source": [
    "List comprehension provides a concise way to create list.It consists of brackets containing an expression followed by a for clause,then zero or more for and if clauses.The expression can be anything, you can put in all kind of objects in list"
   ]
  },
  {
   "cell_type": "code",
   "execution_count": 1,
   "id": "bfb89b5a",
   "metadata": {},
   "outputs": [],
   "source": [
    "lst1 = []\n",
    "\n",
    "def lst_squares(lst):\n",
    "    for i in lst:\n",
    "        lst1.append(i*i)\n",
    "    return lst1"
   ]
  },
  {
   "cell_type": "code",
   "execution_count": 2,
   "id": "9aa7d3df",
   "metadata": {},
   "outputs": [
    {
     "data": {
      "text/plain": [
       "[1, 4, 9, 16, 25]"
      ]
     },
     "execution_count": 2,
     "metadata": {},
     "output_type": "execute_result"
    }
   ],
   "source": [
    "lst_squares([1,2,3,4,5])"
   ]
  },
  {
   "cell_type": "code",
   "execution_count": 10,
   "id": "09342902",
   "metadata": {},
   "outputs": [],
   "source": [
    "#now we use list comprehension\n",
    "#bracket containng expression it has to return\n",
    "#expression is folowed by \"for\" caluse\n",
    "#after 1st for loop there may be more \"for\" or \"if\" clause\n",
    "lst2 = [1,2,3,4,5]\n",
    "\n",
    "lst_squared= [i*i for i in lst2]\n",
    "\n"
   ]
  },
  {
   "cell_type": "code",
   "execution_count": 11,
   "id": "d0599cad",
   "metadata": {},
   "outputs": [
    {
     "data": {
      "text/plain": [
       "[1, 4, 9, 16, 25]"
      ]
     },
     "execution_count": 11,
     "metadata": {},
     "output_type": "execute_result"
    }
   ],
   "source": [
    "lst_squared"
   ]
  },
  {
   "cell_type": "code",
   "execution_count": 12,
   "id": "aa59fdb4",
   "metadata": {},
   "outputs": [],
   "source": [
    "#let me want square of only even no.\n",
    "#now we use list comprehension\n",
    "#bracket containng expression it has to return\n",
    "#expression is folowed by \"for\" caluse\n",
    "#after 1st for loop there may be more \"for\" or \"if\" clause\n",
    "\n",
    "lst2 = [1,2,3,4,5]\n",
    "\n",
    "lst_squared_even= [i*i for i in lst2 if i%2==0]\n"
   ]
  },
  {
   "cell_type": "code",
   "execution_count": 13,
   "id": "d3728858",
   "metadata": {},
   "outputs": [
    {
     "data": {
      "text/plain": [
       "[4, 16]"
      ]
     },
     "execution_count": 13,
     "metadata": {},
     "output_type": "execute_result"
    }
   ],
   "source": [
    "lst_squared_even\n",
    "\n",
    "#here 2 and 4 are even so square of 2,4 is provided"
   ]
  },
  {
   "cell_type": "code",
   "execution_count": 15,
   "id": "b0a7bb39",
   "metadata": {},
   "outputs": [],
   "source": [
    "## == double equal means equl to\n",
    "#!= means not equal to condition\n",
    "\n",
    "lst2 = [1,2,3,4,5]\n",
    "\n",
    "lst_squared_odd= [i*i for i in lst2 if i%2!=0]\n"
   ]
  },
  {
   "cell_type": "code",
   "execution_count": 16,
   "id": "05fb3756",
   "metadata": {},
   "outputs": [
    {
     "data": {
      "text/plain": [
       "[1, 9, 25]"
      ]
     },
     "execution_count": 16,
     "metadata": {},
     "output_type": "execute_result"
    }
   ],
   "source": [
    "lst_squared_odd"
   ]
  },
  {
   "cell_type": "code",
   "execution_count": null,
   "id": "6f4f2b94",
   "metadata": {},
   "outputs": [],
   "source": []
  },
  {
   "cell_type": "code",
   "execution_count": null,
   "id": "6cff97c8",
   "metadata": {},
   "outputs": [],
   "source": []
  },
  {
   "cell_type": "code",
   "execution_count": null,
   "id": "f6ee4206",
   "metadata": {},
   "outputs": [],
   "source": []
  },
  {
   "cell_type": "code",
   "execution_count": null,
   "id": "f3d43528",
   "metadata": {},
   "outputs": [],
   "source": []
  },
  {
   "cell_type": "code",
   "execution_count": null,
   "id": "b6f740e7",
   "metadata": {},
   "outputs": [],
   "source": []
  },
  {
   "cell_type": "code",
   "execution_count": null,
   "id": "56863f4f",
   "metadata": {},
   "outputs": [],
   "source": []
  },
  {
   "cell_type": "code",
   "execution_count": null,
   "id": "70b020b4",
   "metadata": {},
   "outputs": [],
   "source": []
  },
  {
   "cell_type": "code",
   "execution_count": null,
   "id": "df3708a9",
   "metadata": {},
   "outputs": [],
   "source": []
  }
 ],
 "metadata": {
  "kernelspec": {
   "display_name": "Python 3",
   "language": "python",
   "name": "python3"
  },
  "language_info": {
   "codemirror_mode": {
    "name": "ipython",
    "version": 3
   },
   "file_extension": ".py",
   "mimetype": "text/x-python",
   "name": "python",
   "nbconvert_exporter": "python",
   "pygments_lexer": "ipython3",
   "version": "3.7.11"
  }
 },
 "nbformat": 4,
 "nbformat_minor": 5
}
