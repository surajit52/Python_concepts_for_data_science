{
 "cells": [
  {
   "cell_type": "code",
   "execution_count": null,
   "id": "da31f81f",
   "metadata": {},
   "outputs": [],
   "source": [
    "##Suppose we have a list l inside list we have many elemnts like int,string,set, dictionary and another list\n",
    "#suppose of the last element from list l i.e [1,2,3,5292] I want to access print 5292 and i dont know the index\n",
    "#WAP to acess the element"
   ]
  },
  {
   "cell_type": "code",
   "execution_count": 25,
   "id": "8585443b",
   "metadata": {},
   "outputs": [],
   "source": [
    "l= [5,6,7,8,\"sudh\",(4,5,6,7),{\"name\":\"sudh\"},{5,6,7,8},[1,2,3,5292]]"
   ]
  },
  {
   "cell_type": "code",
   "execution_count": 26,
   "id": "fcb6fd71",
   "metadata": {},
   "outputs": [
    {
     "name": "stdout",
     "output_type": "stream",
     "text": [
      "Element is not a match\n",
      "Element is not a match\n",
      "Element is not a match\n",
      "I have found 5292\n"
     ]
    }
   ],
   "source": [
    "for i in l:   \n",
    "    if type(i)==list:  \n",
    "        for j in i:     \n",
    "            if j == 5292:\n",
    "                print(\"I have found 5292\")\n",
    "            else:\n",
    "                print(\"Element is not a match\")\n",
    "                \n",
    "#Line1--->     ##acess or traverses through all elements in list l\n",
    "#line 2-->       ##checks datatpyes of all elements of the lis l\n",
    "#Line3--->      ##now if in previous line 2 when list element inside l is found so we use local variable j to traverse through all elements of list[1,2,3,5292]"
   ]
  },
  {
   "cell_type": "code",
   "execution_count": 22,
   "id": "06fafa3b",
   "metadata": {},
   "outputs": [
    {
     "data": {
      "text/plain": [
       "[5, 6, 7, 8, 'sudh', (4, 5, 6, 7), {'name': 'sudh'}, [1, 2, 3, 5292]]"
      ]
     },
     "execution_count": 22,
     "metadata": {},
     "output_type": "execute_result"
    }
   ],
   "source": [
    "##Suppose we have a list l inside list we have many elemnts like int,string,set, dictionary and another list\n",
    "#suppose of the tuplein list l i.e (4,5,6,7) I want to access print 7 and i dont know the index\n",
    "#WAP to acess the element"
   ]
  },
  {
   "cell_type": "code",
   "execution_count": 27,
   "id": "c32b49fd",
   "metadata": {},
   "outputs": [
    {
     "name": "stdout",
     "output_type": "stream",
     "text": [
      "Element is not a match\n",
      "Element is not a match\n",
      "Element is not a match\n",
      "I have found 7\n"
     ]
    }
   ],
   "source": [
    "for i in l:   \n",
    "    if type(i)==tuple:  \n",
    "        for j in i:     \n",
    "            if j == 7:\n",
    "                print(\"I have found 7\")\n",
    "            else:\n",
    "                print(\"Element is not a match\")"
   ]
  },
  {
   "cell_type": "code",
   "execution_count": 34,
   "id": "8fd4e7ae",
   "metadata": {},
   "outputs": [
    {
     "data": {
      "text/plain": [
       "7"
      ]
     },
     "execution_count": 34,
     "metadata": {},
     "output_type": "execute_result"
    }
   ],
   "source": [
    "###if we know indexing the above code can be written as:\n",
    "l[5][-1]\n",
    "#her 5th elemnt is the tuple and when inside tuple (4,5,6,7): [-1] gives last element 7"
   ]
  },
  {
   "cell_type": "code",
   "execution_count": null,
   "id": "6f83d1be",
   "metadata": {},
   "outputs": [],
   "source": [
    "##Suppose we have a dictionary d inside dictionary we have many elemnts in values like string and another list\n",
    "#suppose of the  list element inside dictionary I want  to access print element if it is greater than 60 and  i dont know the index\n",
    "#WAP to acess the element"
   ]
  },
  {
   "cell_type": "code",
   "execution_count": 8,
   "id": "c90f8f35",
   "metadata": {},
   "outputs": [],
   "source": [
    "d = {\"name\":\"Surajit\",\"email\":\"surajit@email.com\",\"no.\": [90,99,7,55,58,6]}"
   ]
  },
  {
   "cell_type": "code",
   "execution_count": 9,
   "id": "5f636b25",
   "metadata": {},
   "outputs": [
    {
     "data": {
      "text/plain": [
       "{'name': 'Surajit',\n",
       " 'email': 'surajit@email.com',\n",
       " 'no.': [90, 99, 7, 55, 58, 6]}"
      ]
     },
     "execution_count": 9,
     "metadata": {},
     "output_type": "execute_result"
    }
   ],
   "source": [
    "d"
   ]
  },
  {
   "cell_type": "code",
   "execution_count": 10,
   "id": "f27fe5d8",
   "metadata": {},
   "outputs": [],
   "source": [
    "#how to acess elemets of dictionary if dont know indexing#\n",
    "#type d. and press tab to check inbuilt function\n",
    "#d.keys() gives all the keys in our dictionary\n"
   ]
  },
  {
   "cell_type": "code",
   "execution_count": 11,
   "id": "0e6357d9",
   "metadata": {},
   "outputs": [
    {
     "data": {
      "text/plain": [
       "dict_keys(['name', 'email', 'no.'])"
      ]
     },
     "execution_count": 11,
     "metadata": {},
     "output_type": "execute_result"
    }
   ],
   "source": [
    "d.keys()"
   ]
  },
  {
   "cell_type": "code",
   "execution_count": 12,
   "id": "2aa65408",
   "metadata": {},
   "outputs": [
    {
     "name": "stdout",
     "output_type": "stream",
     "text": [
      "Surajit\n",
      "surajit@email.com\n",
      "[90, 99, 7, 55, 58, 6]\n"
     ]
    }
   ],
   "source": [
    "for i in d.keys():\n",
    "    print( d[i])\n",
    "    \n",
    "#here i will acesss/traverse through all the keys one by one and printd[i] will print the values corresponding to particular keys    "
   ]
  },
  {
   "cell_type": "code",
   "execution_count": 13,
   "id": "953eca08",
   "metadata": {},
   "outputs": [],
   "source": [
    "##Suppose we have a dictionary d inside dictionary we have many elemnts in values like string and another list\n",
    "#suppose of the  list element inside dictionary I want  to access print element if it is greater than 60 and  i dont know the index\n",
    "#WAP to acess the element"
   ]
  },
  {
   "cell_type": "code",
   "execution_count": 14,
   "id": "b5023524",
   "metadata": {},
   "outputs": [
    {
     "data": {
      "text/plain": [
       "{'name': 'Surajit',\n",
       " 'email': 'surajit@email.com',\n",
       " 'no.': [90, 99, 7, 55, 58, 6]}"
      ]
     },
     "execution_count": 14,
     "metadata": {},
     "output_type": "execute_result"
    }
   ],
   "source": [
    "d"
   ]
  },
  {
   "cell_type": "code",
   "execution_count": 15,
   "id": "205ae842",
   "metadata": {},
   "outputs": [],
   "source": [
    "##now for our problem\n",
    "##what is dictionary.items() or items() method in dictionary:\n",
    "##The items() method returns a view object. The view object contains the key-value pairs of the dictionary, as tuples in a list."
   ]
  },
  {
   "cell_type": "code",
   "execution_count": null,
   "id": "3e3f801e",
   "metadata": {},
   "outputs": [],
   "source": []
  },
  {
   "cell_type": "markdown",
   "id": "f2fd36cb",
   "metadata": {},
   "source": [
    "##******important concept****##\n"
   ]
  },
  {
   "cell_type": "code",
   "execution_count": 19,
   "id": "e11dc4ee",
   "metadata": {},
   "outputs": [
    {
     "name": "stdout",
     "output_type": "stream",
     "text": [
      "('no.', [90, 99, 7, 55, 58, 6])\n",
      "[90, 99, 7, 55, 58, 6]\n"
     ]
    }
   ],
   "source": [
    "#####******Very Very important property****####\n",
    "\n",
    "for i in d.items():\n",
    "    if type(i[1]) == list:\n",
    "        print(i)\n",
    "        print(i[1])\n",
    "##in line2--> we are specifiying if the first element in d.item is of datatype list: then go inside the nested loop: "
   ]
  },
  {
   "cell_type": "code",
   "execution_count": 20,
   "id": "8ab4840b",
   "metadata": {},
   "outputs": [],
   "source": [
    "##Here we can see that d.items() returns view object i.e tuples in key value pair but it is of datatype tuples\n",
    "###so in the tuple the of key-value pair, the 1th item will be the value and 0th item is the key\n",
    "###Here we are intersted in 60 which is a value in the key \"no.\"\n",
    "###Hence i[1] gives us the value that is the list [80, 95, 7, 18, 53, 6]\n",
    "##line 4---> we are traversing through all elements of the value (which is actually a list )[ 80, 95, 7, 18, 53, 6]\n",
    "###--> value [80, 95, 7, 18, 53, 6] for corresponding key: \"no.\". And the local variable j will help search for element 60 inside the list [[ 80, 95, 7, 18, 53, 6]]\n"
   ]
  },
  {
   "cell_type": "code",
   "execution_count": 21,
   "id": "5ff17acf",
   "metadata": {},
   "outputs": [
    {
     "name": "stdout",
     "output_type": "stream",
     "text": [
      "[90, 99, 7, 55, 58, 6]\n",
      "element greater than 60 is found: 90\n",
      "element greater than 60 is found: 99\n",
      "element is less than 60: 7\n",
      "element is less than 60: 55\n",
      "element is less than 60: 58\n",
      "element is less than 60: 6\n"
     ]
    }
   ],
   "source": [
    "for i in d.items():\n",
    "    if type(i[1]) == list:\n",
    "        print(i[1])\n",
    "        for j in i[1]:\n",
    "            if j>60:\n",
    "                print(\"element greater than 60 is found:\", j)\n",
    "            else:    \n",
    "                print(\"element is less than 60:\" , j)"
   ]
  },
  {
   "cell_type": "code",
   "execution_count": null,
   "id": "9f49f6ed",
   "metadata": {},
   "outputs": [],
   "source": []
  },
  {
   "cell_type": "markdown",
   "id": "d2fd5896",
   "metadata": {},
   "source": [
    "# Allabout dictionary"
   ]
  },
  {
   "cell_type": "code",
   "execution_count": 64,
   "id": "9a818294",
   "metadata": {},
   "outputs": [],
   "source": [
    "#if we use curly braces to make disctionary we have to put use quotes for keys\n",
    "mydict = {\"name\":\"Max\", \"age\":28,\"city\":\"NewYork\"}"
   ]
  },
  {
   "cell_type": "code",
   "execution_count": 65,
   "id": "0348426c",
   "metadata": {},
   "outputs": [
    {
     "name": "stdout",
     "output_type": "stream",
     "text": [
      "{'name': 'Max', 'age': 28, 'city': 'NewYork'}\n"
     ]
    }
   ],
   "source": [
    "print(mydict)"
   ]
  },
  {
   "cell_type": "code",
   "execution_count": null,
   "id": "6b6ae70d",
   "metadata": {},
   "outputs": [],
   "source": []
  },
  {
   "cell_type": "code",
   "execution_count": 83,
   "id": "f08c1f37",
   "metadata": {},
   "outputs": [],
   "source": [
    "#if we use dictionary using dict function then we dont have to put quotes and neither curly bracket for keys\n",
    "\n",
    "mydict2 = dict(name=\"Mary\",age=27,city=\"Boston\")"
   ]
  },
  {
   "cell_type": "code",
   "execution_count": 84,
   "id": "4a295528",
   "metadata": {},
   "outputs": [
    {
     "name": "stdout",
     "output_type": "stream",
     "text": [
      "{'name': 'Mary', 'age': 27, 'city': 'Boston'}\n"
     ]
    }
   ],
   "source": [
    "print(mydict2)"
   ]
  },
  {
   "cell_type": "code",
   "execution_count": 70,
   "id": "364cbf6b",
   "metadata": {},
   "outputs": [
    {
     "name": "stdout",
     "output_type": "stream",
     "text": [
      "Max\n"
     ]
    }
   ],
   "source": [
    "value = mydict[\"name\"]\n",
    "print(value)"
   ]
  },
  {
   "cell_type": "code",
   "execution_count": 71,
   "id": "b02fc26c",
   "metadata": {},
   "outputs": [],
   "source": [
    "#dictionary is mutable\n",
    "\n",
    "mydict[\"email\"] = (\"max@xyz.com\" )"
   ]
  },
  {
   "cell_type": "code",
   "execution_count": 72,
   "id": "ee6d377b",
   "metadata": {},
   "outputs": [
    {
     "name": "stdout",
     "output_type": "stream",
     "text": [
      "{'name': 'Max', 'age': 28, 'city': 'NewYork', 'email': 'max@xyz.com'}\n"
     ]
    }
   ],
   "source": [
    "print(mydict)"
   ]
  },
  {
   "cell_type": "code",
   "execution_count": 73,
   "id": "ebe98fe2",
   "metadata": {},
   "outputs": [],
   "source": [
    "#if key is already present and we update the value for same key it is overwritten"
   ]
  },
  {
   "cell_type": "code",
   "execution_count": 80,
   "id": "5d3c523f",
   "metadata": {},
   "outputs": [],
   "source": [
    "mydict[\"email\"] = (\"coolmax@xyz.com\" )"
   ]
  },
  {
   "cell_type": "code",
   "execution_count": 81,
   "id": "43ba8437",
   "metadata": {},
   "outputs": [
    {
     "name": "stdout",
     "output_type": "stream",
     "text": [
      "{'city': 'NewYork', 'email': 'coolmax@xyz.com'}\n"
     ]
    }
   ],
   "source": [
    "print(mydict)"
   ]
  },
  {
   "cell_type": "code",
   "execution_count": 76,
   "id": "db5cc36b",
   "metadata": {},
   "outputs": [
    {
     "name": "stdout",
     "output_type": "stream",
     "text": [
      "{'age': 28, 'city': 'NewYork', 'email': 'coolmax@xyz.com'}\n"
     ]
    }
   ],
   "source": [
    "#deleting any key value pair using dictionary\n",
    "\n",
    "del mydict[\"name\"]\n",
    "print(mydict)"
   ]
  },
  {
   "cell_type": "code",
   "execution_count": 77,
   "id": "8cafa836",
   "metadata": {},
   "outputs": [
    {
     "name": "stdout",
     "output_type": "stream",
     "text": [
      "{'city': 'NewYork', 'email': 'coolmax@xyz.com'}\n"
     ]
    }
   ],
   "source": [
    "#using pop method\n",
    "\n",
    "mydict.pop(\"age\")\n",
    "print(mydict)"
   ]
  },
  {
   "cell_type": "code",
   "execution_count": 78,
   "id": "b6154eda",
   "metadata": {},
   "outputs": [
    {
     "name": "stdout",
     "output_type": "stream",
     "text": [
      "{'city': 'NewYork'}\n"
     ]
    }
   ],
   "source": [
    "#using pop item method it removes the last inserted key value pair\n",
    "#\n",
    "mydict.popitem()\n",
    "print(mydict)"
   ]
  },
  {
   "cell_type": "code",
   "execution_count": 86,
   "id": "1613cf15",
   "metadata": {},
   "outputs": [
    {
     "name": "stdout",
     "output_type": "stream",
     "text": [
      "{'name': 'Mary', 'age': 27, 'city': 'Boston'}\n"
     ]
    }
   ],
   "source": [
    "#to check if key is in dictionary\n",
    "\n",
    "\n",
    "mydict2 = dict(name=\"Mary\",age=27,city=\"Boston\")\n",
    "print(mydict2)"
   ]
  },
  {
   "cell_type": "code",
   "execution_count": 87,
   "id": "040bd4cf",
   "metadata": {},
   "outputs": [
    {
     "name": "stdout",
     "output_type": "stream",
     "text": [
      "Mary\n"
     ]
    }
   ],
   "source": [
    "#to check if key is in dictionary\n",
    "if \"name\" in mydict2:\n",
    "    print(mydict2[\"name\"])"
   ]
  },
  {
   "cell_type": "code",
   "execution_count": 89,
   "id": "7d1e3938",
   "metadata": {},
   "outputs": [
    {
     "name": "stdout",
     "output_type": "stream",
     "text": [
      "Mary\n"
     ]
    }
   ],
   "source": [
    "#using try except statement\n",
    "\n",
    "try:\n",
    "    print(mydict2[\"name\"])\n",
    "except:\n",
    "    print(\"error\")"
   ]
  },
  {
   "cell_type": "code",
   "execution_count": 90,
   "id": "67f6d251",
   "metadata": {},
   "outputs": [
    {
     "name": "stdout",
     "output_type": "stream",
     "text": [
      "error\n"
     ]
    }
   ],
   "source": [
    "#since key last name is not present in my dict hence an exception is thrown i.e \"key error\" which is caught by except block of code\n",
    "\n",
    "try:\n",
    "    print(mydict2[\"last name\"])\n",
    "except:\n",
    "    print(\"error\")"
   ]
  },
  {
   "cell_type": "code",
   "execution_count": 92,
   "id": "2af1c4e4",
   "metadata": {},
   "outputs": [
    {
     "name": "stdout",
     "output_type": "stream",
     "text": [
      "name\n",
      "age\n",
      "city\n"
     ]
    }
   ],
   "source": [
    "#looop through dictionary using (for in) loop\n",
    "\n",
    "for key in mydict2:\n",
    "    print(key)"
   ]
  },
  {
   "cell_type": "code",
   "execution_count": 93,
   "id": "318baade",
   "metadata": {},
   "outputs": [
    {
     "name": "stdout",
     "output_type": "stream",
     "text": [
      "Mary\n",
      "27\n",
      "Boston\n"
     ]
    }
   ],
   "source": [
    "for value in mydict2.values():\n",
    "    print(value)"
   ]
  },
  {
   "cell_type": "code",
   "execution_count": 94,
   "id": "0290b425",
   "metadata": {},
   "outputs": [
    {
     "name": "stdout",
     "output_type": "stream",
     "text": [
      "name Mary\n",
      "age 27\n",
      "city Boston\n"
     ]
    }
   ],
   "source": [
    "#if we want ot loop through both key and dictionary then we can use .items methof\n",
    "for key,value in mydict2.items():\n",
    "    print(key,value)"
   ]
  },
  {
   "cell_type": "code",
   "execution_count": 95,
   "id": "ca999cc4",
   "metadata": {},
   "outputs": [
    {
     "name": "stdout",
     "output_type": "stream",
     "text": [
      "{'name': 'Mary', 'age': 27, 'city': 'Boston'}\n"
     ]
    }
   ],
   "source": [
    "#copy a dictionary\n",
    "\n",
    "mydict_cpy = mydict2\n",
    "print(mydict_cpy)"
   ]
  },
  {
   "cell_type": "code",
   "execution_count": 96,
   "id": "5f33f00c",
   "metadata": {},
   "outputs": [],
   "source": [
    "#if we modify mydict_cpy then original mydict2 is also modified as both the dictionaries are pointing to same address in the memory\n",
    "\n",
    "mydict_cpy[\"email\"] = (\"max@xyz.com\")\n"
   ]
  },
  {
   "cell_type": "code",
   "execution_count": 97,
   "id": "9f877c7f",
   "metadata": {},
   "outputs": [
    {
     "name": "stdout",
     "output_type": "stream",
     "text": [
      "{'name': 'Mary', 'age': 27, 'city': 'Boston', 'email': 'max@xyz.com'}\n",
      "{'name': 'Mary', 'age': 27, 'city': 'Boston', 'email': 'max@xyz.com'}\n"
     ]
    }
   ],
   "source": [
    "print(mydict2)\n",
    "print(mydict_cpy)\n",
    "\n",
    "#here we can see both dictionaries have the email key value pair updated"
   ]
  },
  {
   "cell_type": "code",
   "execution_count": null,
   "id": "aced9711",
   "metadata": {},
   "outputs": [],
   "source": [
    "#removing the email from both dictionaries using pop.items"
   ]
  },
  {
   "cell_type": "code",
   "execution_count": 99,
   "id": "87f509e5",
   "metadata": {},
   "outputs": [
    {
     "name": "stdout",
     "output_type": "stream",
     "text": [
      "{'name': 'Mary', 'age': 27, 'city': 'Boston'}\n"
     ]
    }
   ],
   "source": [
    "mydict2.popitem()\n",
    "print(mydict2)"
   ]
  },
  {
   "cell_type": "code",
   "execution_count": 105,
   "id": "05eba3ed",
   "metadata": {},
   "outputs": [],
   "source": [
    "#now we can use the built in copy function\n",
    "\n",
    "mydict_cpy = mydict2.copy()\n",
    "\n",
    "mydict_cpy[\"email\"] = (\"max@xyz.com\")\n"
   ]
  },
  {
   "cell_type": "code",
   "execution_count": 106,
   "id": "3dcfaf25",
   "metadata": {},
   "outputs": [
    {
     "name": "stdout",
     "output_type": "stream",
     "text": [
      "{'name': 'Mary', 'age': 27, 'city': 'Boston'}\n"
     ]
    }
   ],
   "source": [
    "print(mydict2)"
   ]
  },
  {
   "cell_type": "code",
   "execution_count": 107,
   "id": "5a100591",
   "metadata": {},
   "outputs": [
    {
     "name": "stdout",
     "output_type": "stream",
     "text": [
      "{'name': 'Mary', 'age': 27, 'city': 'Boston', 'email': 'max@xyz.com'}\n"
     ]
    }
   ],
   "source": [
    "print(mydict_cpy)"
   ]
  },
  {
   "cell_type": "code",
   "execution_count": null,
   "id": "25a9964d",
   "metadata": {},
   "outputs": [],
   "source": [
    "#now we can see above as it is a copy hence email is update sonly to mydict_cpy and original mydict2 didnt change"
   ]
  },
  {
   "cell_type": "code",
   "execution_count": null,
   "id": "e9960078",
   "metadata": {},
   "outputs": [],
   "source": []
  },
  {
   "cell_type": "code",
   "execution_count": 108,
   "id": "d038f6b2",
   "metadata": {},
   "outputs": [],
   "source": [
    "mydict3 = {\"name\":\"Max\",\"age\":28,\"email\":\"max@xyz.com\"}\n",
    "mydict4 = {\"name\":\"Mary\",\"age\":27,\"city\":\"Boston\"}"
   ]
  },
  {
   "cell_type": "code",
   "execution_count": 109,
   "id": "a1edd3c4",
   "metadata": {},
   "outputs": [
    {
     "name": "stdout",
     "output_type": "stream",
     "text": [
      "{'name': 'Max', 'age': 28, 'email': 'max@xyz.com'}\n",
      "{'name': 'Mary', 'age': 27, 'city': 'Boston'}\n"
     ]
    }
   ],
   "source": [
    "print(mydict3)\n",
    "print(mydict4)"
   ]
  },
  {
   "cell_type": "code",
   "execution_count": 110,
   "id": "f557f41f",
   "metadata": {},
   "outputs": [
    {
     "name": "stdout",
     "output_type": "stream",
     "text": [
      "{'name': 'Mary', 'age': 27, 'email': 'max@xyz.com', 'city': 'Boston'}\n"
     ]
    }
   ],
   "source": [
    "#how to merge 2 dictionaries\n",
    "\n",
    "mydict3.update(mydict4)\n",
    "print(mydict3)\n",
    "\n",
    "#here we can see all the exisitng key got updates with values from mydict3 and missing key city got updates in mydict3 as email wasnt present in mydict4 so it is as it is"
   ]
  },
  {
   "cell_type": "code",
   "execution_count": null,
   "id": "f063ba28",
   "metadata": {},
   "outputs": [],
   "source": []
  },
  {
   "cell_type": "code",
   "execution_count": 112,
   "id": "5a84b894",
   "metadata": {},
   "outputs": [
    {
     "name": "stdout",
     "output_type": "stream",
     "text": [
      "{3: 9, 6: 36, 9: 81}\n"
     ]
    }
   ],
   "source": [
    "#possible key types\n",
    "#we can use any immutaable types as key e.g no's or a tuple as key if it ocntains any immutable type\n",
    "\n",
    "mydict5= {3:9, 6:36,9:81}\n",
    "print(mydict5)"
   ]
  },
  {
   "cell_type": "code",
   "execution_count": 113,
   "id": "5949bb84",
   "metadata": {},
   "outputs": [
    {
     "ename": "KeyError",
     "evalue": "0",
     "output_type": "error",
     "traceback": [
      "\u001b[1;31m---------------------------------------------------------------------------\u001b[0m",
      "\u001b[1;31mKeyError\u001b[0m                                  Traceback (most recent call last)",
      "\u001b[1;32m<ipython-input-113-6b653c9b689b>\u001b[0m in \u001b[0;36m<module>\u001b[1;34m\u001b[0m\n\u001b[1;32m----> 1\u001b[1;33m \u001b[0mvalue\u001b[0m\u001b[1;33m=\u001b[0m \u001b[0mmydict5\u001b[0m\u001b[1;33m[\u001b[0m\u001b[1;36m0\u001b[0m\u001b[1;33m]\u001b[0m\u001b[1;33m\u001b[0m\u001b[1;33m\u001b[0m\u001b[0m\n\u001b[0m",
      "\u001b[1;31mKeyError\u001b[0m: 0"
     ]
    }
   ],
   "source": [
    "value= mydict5[0]\n",
    "\n",
    "#here we have received a key error as by default index is 0 in ny dictionary but in mydict5 we have updated our key of first value as 3, second vlaue as 6 and thrid value as 9"
   ]
  },
  {
   "cell_type": "code",
   "execution_count": 114,
   "id": "0d0d2803",
   "metadata": {},
   "outputs": [
    {
     "name": "stdout",
     "output_type": "stream",
     "text": [
      "9\n"
     ]
    }
   ],
   "source": [
    "#therefore to access the first value we have to pass\n",
    "\n",
    "print(mydict5[3])"
   ]
  },
  {
   "cell_type": "code",
   "execution_count": 119,
   "id": "8c7d89e1",
   "metadata": {},
   "outputs": [],
   "source": [
    "#using tuple as key\n",
    "\n",
    "mytuple= (8,7)\n",
    "mydict6= {mytuple: 15}"
   ]
  },
  {
   "cell_type": "code",
   "execution_count": 120,
   "id": "d92ce492",
   "metadata": {},
   "outputs": [
    {
     "name": "stdout",
     "output_type": "stream",
     "text": [
      "{(8, 7): 15}\n"
     ]
    }
   ],
   "source": [
    "print(mydict6)"
   ]
  },
  {
   "cell_type": "code",
   "execution_count": 121,
   "id": "f6cb6e86",
   "metadata": {},
   "outputs": [
    {
     "ename": "TypeError",
     "evalue": "unhashable type: 'list'",
     "output_type": "error",
     "traceback": [
      "\u001b[1;31m---------------------------------------------------------------------------\u001b[0m",
      "\u001b[1;31mTypeError\u001b[0m                                 Traceback (most recent call last)",
      "\u001b[1;32m<ipython-input-121-d3eb86d7e26b>\u001b[0m in \u001b[0;36m<module>\u001b[1;34m\u001b[0m\n\u001b[0;32m      4\u001b[0m \u001b[1;33m\u001b[0m\u001b[0m\n\u001b[0;32m      5\u001b[0m \u001b[0mmytuple\u001b[0m\u001b[1;33m=\u001b[0m \u001b[1;33m[\u001b[0m\u001b[1;36m8\u001b[0m\u001b[1;33m,\u001b[0m\u001b[1;36m7\u001b[0m\u001b[1;33m]\u001b[0m\u001b[1;33m\u001b[0m\u001b[1;33m\u001b[0m\u001b[0m\n\u001b[1;32m----> 6\u001b[1;33m \u001b[0mmydict7\u001b[0m\u001b[1;33m=\u001b[0m \u001b[1;33m{\u001b[0m\u001b[0mmytuple\u001b[0m\u001b[1;33m:\u001b[0m \u001b[1;36m15\u001b[0m\u001b[1;33m}\u001b[0m\u001b[1;33m\u001b[0m\u001b[1;33m\u001b[0m\u001b[0m\n\u001b[0m",
      "\u001b[1;31mTypeError\u001b[0m: unhashable type: 'list'"
     ]
    }
   ],
   "source": [
    "#but if we use list as a key it gives un hashable error as list is mutable and key can't be mutable\n",
    "\n",
    "#using tuple as key\n",
    "\n",
    "mytuple= [8,7]\n",
    "mydict7= {mytuple: 15}"
   ]
  },
  {
   "cell_type": "markdown",
   "id": "a33ec748",
   "metadata": {},
   "source": [
    "# Everything about List"
   ]
  },
  {
   "cell_type": "code",
   "execution_count": 149,
   "id": "0984ae2f",
   "metadata": {},
   "outputs": [],
   "source": [
    "#list is an mutable datatype\n",
    "\n",
    "#list can contain various type of elements and duplicate elemnet\n",
    "mylist = [\"banana\",\"cherry\",\"apple\"]\n",
    "mylist2= [5,True ,\"apple\", \"apple\"]\n",
    "\n",
    "#two apples in our list"
   ]
  },
  {
   "cell_type": "code",
   "execution_count": 151,
   "id": "d2f0023d",
   "metadata": {},
   "outputs": [
    {
     "name": "stdout",
     "output_type": "stream",
     "text": [
      "[5, True, 'apple', 'apple']\n",
      "['banana', 'cherry', 'apple']\n"
     ]
    }
   ],
   "source": [
    "print(mylist2)\n",
    "print(mylist)"
   ]
  },
  {
   "cell_type": "code",
   "execution_count": 152,
   "id": "d89087b3",
   "metadata": {},
   "outputs": [
    {
     "name": "stdout",
     "output_type": "stream",
     "text": [
      "apple\n"
     ]
    }
   ],
   "source": [
    "item  = mylist[2]\n",
    "print(item)"
   ]
  },
  {
   "cell_type": "code",
   "execution_count": 153,
   "id": "e2de62b6",
   "metadata": {},
   "outputs": [],
   "source": [
    "#if we put a very large index we get index error as index starts from 0"
   ]
  },
  {
   "cell_type": "code",
   "execution_count": 154,
   "id": "b007e652",
   "metadata": {},
   "outputs": [
    {
     "ename": "IndexError",
     "evalue": "list index out of range",
     "output_type": "error",
     "traceback": [
      "\u001b[1;31m---------------------------------------------------------------------------\u001b[0m",
      "\u001b[1;31mIndexError\u001b[0m                                Traceback (most recent call last)",
      "\u001b[1;32m<ipython-input-154-5fcfef7533d1>\u001b[0m in \u001b[0;36m<module>\u001b[1;34m\u001b[0m\n\u001b[1;32m----> 1\u001b[1;33m \u001b[0mitem\u001b[0m  \u001b[1;33m=\u001b[0m \u001b[0mmylist\u001b[0m\u001b[1;33m[\u001b[0m\u001b[1;36m3\u001b[0m\u001b[1;33m]\u001b[0m\u001b[1;33m\u001b[0m\u001b[1;33m\u001b[0m\u001b[0m\n\u001b[0m\u001b[0;32m      2\u001b[0m \u001b[0mprint\u001b[0m\u001b[1;33m(\u001b[0m\u001b[0mitem\u001b[0m\u001b[1;33m)\u001b[0m\u001b[1;33m\u001b[0m\u001b[1;33m\u001b[0m\u001b[0m\n",
      "\u001b[1;31mIndexError\u001b[0m: list index out of range"
     ]
    }
   ],
   "source": [
    "item  = mylist[3]\n",
    "print(item)"
   ]
  },
  {
   "cell_type": "code",
   "execution_count": 155,
   "id": "e154522d",
   "metadata": {},
   "outputs": [
    {
     "name": "stdout",
     "output_type": "stream",
     "text": [
      "apple\n"
     ]
    }
   ],
   "source": [
    "#-1 represents last item\n",
    "\n",
    "item  = mylist[-1]\n",
    "print(item)"
   ]
  },
  {
   "cell_type": "code",
   "execution_count": 156,
   "id": "d97b0a97",
   "metadata": {},
   "outputs": [
    {
     "name": "stdout",
     "output_type": "stream",
     "text": [
      "banana\n",
      "cherry\n",
      "apple\n"
     ]
    }
   ],
   "source": [
    "#for iteracting all elemts in list\n",
    "\n",
    "for x in mylist:\n",
    "    print(x)"
   ]
  },
  {
   "cell_type": "code",
   "execution_count": 157,
   "id": "72deefea",
   "metadata": {},
   "outputs": [
    {
     "name": "stdout",
     "output_type": "stream",
     "text": [
      "yes\n"
     ]
    }
   ],
   "source": [
    "#to check if and elemnt present in the list\n",
    "\n",
    "if \"banana\" in mylist:\n",
    "    print(\"yes\")\n",
    "else:\n",
    "    print(\"no\")"
   ]
  },
  {
   "cell_type": "code",
   "execution_count": 158,
   "id": "6de67556",
   "metadata": {},
   "outputs": [
    {
     "name": "stdout",
     "output_type": "stream",
     "text": [
      "3\n"
     ]
    }
   ],
   "source": [
    "#check how many elemts in list using len method\n",
    "\n",
    "print(len(mylist))"
   ]
  },
  {
   "cell_type": "code",
   "execution_count": 159,
   "id": "86957b53",
   "metadata": {},
   "outputs": [
    {
     "name": "stdout",
     "output_type": "stream",
     "text": [
      "['banana', 'cherry', 'apple', 'lemon']\n"
     ]
    }
   ],
   "source": [
    "#append new item in list using append method\n",
    "\n",
    "\n",
    "mylist.append(\"lemon\")\n",
    "print(mylist)"
   ]
  },
  {
   "cell_type": "code",
   "execution_count": 160,
   "id": "c5aa9702",
   "metadata": {},
   "outputs": [
    {
     "name": "stdout",
     "output_type": "stream",
     "text": [
      "['banana', 'blueberry', 'cherry', 'apple', 'lemon']\n"
     ]
    }
   ],
   "source": [
    "#append an item at specific position using inset method\n",
    "\n",
    "mylist.insert(1,\"blueberry\")\n",
    "print(mylist)\n",
    "\n",
    "#here we have update shte cherry to blueberry"
   ]
  },
  {
   "cell_type": "code",
   "execution_count": 146,
   "id": "4befd5d3",
   "metadata": {},
   "outputs": [
    {
     "name": "stdout",
     "output_type": "stream",
     "text": [
      "lemon\n",
      "['banana', 'blueberry', 'cherry', 'apple']\n"
     ]
    }
   ],
   "source": [
    "#remove items using pop\n",
    "\n",
    "item = mylist.pop()\n",
    "print(item)\n",
    "print(mylist)\n",
    "\n",
    "#removed last element using pop method"
   ]
  },
  {
   "cell_type": "code",
   "execution_count": 161,
   "id": "4d9158fc",
   "metadata": {},
   "outputs": [
    {
     "name": "stdout",
     "output_type": "stream",
     "text": [
      "['banana', 'blueberry', 'apple', 'lemon']\n"
     ]
    }
   ],
   "source": [
    "#remove a specific element uisng dot.remove method\n",
    "\n",
    "item = mylist.remove(\"cherry\")\n",
    "\n",
    "print(mylist)\n"
   ]
  },
  {
   "cell_type": "code",
   "execution_count": 162,
   "id": "5987de67",
   "metadata": {},
   "outputs": [
    {
     "ename": "ValueError",
     "evalue": "list.remove(x): x not in list",
     "output_type": "error",
     "traceback": [
      "\u001b[1;31m---------------------------------------------------------------------------\u001b[0m",
      "\u001b[1;31mValueError\u001b[0m                                Traceback (most recent call last)",
      "\u001b[1;32m<ipython-input-162-4e7159534978>\u001b[0m in \u001b[0;36m<module>\u001b[1;34m\u001b[0m\n\u001b[0;32m      1\u001b[0m \u001b[1;31m#If item is not present in list and we try to remove it\u001b[0m\u001b[1;33m\u001b[0m\u001b[1;33m\u001b[0m\u001b[1;33m\u001b[0m\u001b[0m\n\u001b[0;32m      2\u001b[0m \u001b[1;33m\u001b[0m\u001b[0m\n\u001b[1;32m----> 3\u001b[1;33m \u001b[0mitem\u001b[0m \u001b[1;33m=\u001b[0m \u001b[0mmylist\u001b[0m\u001b[1;33m.\u001b[0m\u001b[0mremove\u001b[0m\u001b[1;33m(\u001b[0m\u001b[1;34m\"guava\"\u001b[0m\u001b[1;33m)\u001b[0m\u001b[1;33m\u001b[0m\u001b[1;33m\u001b[0m\u001b[0m\n\u001b[0m\u001b[0;32m      4\u001b[0m \u001b[1;33m\u001b[0m\u001b[0m\n\u001b[0;32m      5\u001b[0m \u001b[0mprint\u001b[0m\u001b[1;33m(\u001b[0m\u001b[0mmylist\u001b[0m\u001b[1;33m)\u001b[0m\u001b[1;33m\u001b[0m\u001b[1;33m\u001b[0m\u001b[0m\n",
      "\u001b[1;31mValueError\u001b[0m: list.remove(x): x not in list"
     ]
    }
   ],
   "source": [
    "#If item is not present in list and we try to remove it\n",
    "\n",
    "item = mylist.remove(\"guava\")\n",
    "\n",
    "print(mylist)\n"
   ]
  },
  {
   "cell_type": "code",
   "execution_count": 163,
   "id": "7a7002db",
   "metadata": {},
   "outputs": [
    {
     "name": "stdout",
     "output_type": "stream",
     "text": [
      "['banana', 'blueberry', 'apple', 'lemon']\n"
     ]
    }
   ],
   "source": [
    "#remove all elemtnts using clear method\n",
    "\n",
    "mylist1= ['banana', 'blueberry', 'apple', 'lemon']\n",
    "print(mylist1)"
   ]
  },
  {
   "cell_type": "code",
   "execution_count": 164,
   "id": "72166682",
   "metadata": {},
   "outputs": [
    {
     "name": "stdout",
     "output_type": "stream",
     "text": [
      "[]\n"
     ]
    }
   ],
   "source": [
    "mylist1.clear()\n",
    "print(mylist1)"
   ]
  },
  {
   "cell_type": "code",
   "execution_count": 169,
   "id": "384e17a6",
   "metadata": {},
   "outputs": [
    {
     "name": "stdout",
     "output_type": "stream",
     "text": [
      "['lemon', 'blueberry', 'banana', 'apple']\n"
     ]
    }
   ],
   "source": [
    "print(mylist)"
   ]
  },
  {
   "cell_type": "code",
   "execution_count": 175,
   "id": "b15ed26b",
   "metadata": {},
   "outputs": [],
   "source": [
    "\n",
    "\n",
    "mylist3= [1,5,8,7,6,4,3,2,9]"
   ]
  },
  {
   "cell_type": "code",
   "execution_count": 176,
   "id": "f158f5f3",
   "metadata": {},
   "outputs": [
    {
     "name": "stdout",
     "output_type": "stream",
     "text": [
      "[1, 5, 8, 7, 6, 4, 3, 2, 9]\n"
     ]
    }
   ],
   "source": [
    "print(mylist3)"
   ]
  },
  {
   "cell_type": "code",
   "execution_count": 177,
   "id": "8a4c36f3",
   "metadata": {},
   "outputs": [
    {
     "name": "stdout",
     "output_type": "stream",
     "text": [
      "[9, 2, 3, 4, 6, 7, 8, 5, 1]\n"
     ]
    }
   ],
   "source": [
    "#reverse a list using reverse mehtod()\n",
    "\n",
    "item = mylist3.reverse()\n",
    "print(mylist3)"
   ]
  },
  {
   "cell_type": "code",
   "execution_count": 178,
   "id": "b0f63282",
   "metadata": {},
   "outputs": [
    {
     "name": "stdout",
     "output_type": "stream",
     "text": [
      "[9, 2, 3, 4, 6, 7, 8, 5, 1]\n",
      "[1, 2, 3, 4, 5, 6, 7, 8, 9]\n"
     ]
    }
   ],
   "source": [
    "#sort a list using the sort method\n",
    "#sort method makes changed in original list itself\n",
    "#supose we want to make changes in new list then use sorted method\n",
    "\n",
    "new_list = sorted(mylist3)\n",
    "print(mylist3)\n",
    "print(new_list)"
   ]
  },
  {
   "cell_type": "code",
   "execution_count": 179,
   "id": "3124f86d",
   "metadata": {},
   "outputs": [
    {
     "name": "stdout",
     "output_type": "stream",
     "text": [
      "[0, 0, 0, 0, 0]\n"
     ]
    }
   ],
   "source": [
    "#if we want a new list with same elemnts 5 times\n",
    "\n",
    "mylist4= [0]*5\n",
    "print(mylist4)"
   ]
  },
  {
   "cell_type": "code",
   "execution_count": 180,
   "id": "e7b586ff",
   "metadata": {},
   "outputs": [
    {
     "name": "stdout",
     "output_type": "stream",
     "text": [
      "[0, 0, 0, 0, 0, 1, 2, 3, 4, 5]\n"
     ]
    }
   ],
   "source": [
    "#concat 2 list using plus operator\n",
    "#concats both the elements of the list\n",
    "\n",
    "mylist5 = [1,2,3,4,5]\n",
    "\n",
    "new_list2 = mylist4+mylist5\n",
    "print(new_list2)"
   ]
  },
  {
   "cell_type": "code",
   "execution_count": 181,
   "id": "36ef0b3f",
   "metadata": {},
   "outputs": [
    {
     "name": "stdout",
     "output_type": "stream",
     "text": [
      "[2, 3, 4, 56]\n"
     ]
    }
   ],
   "source": [
    "#slicing of list\n",
    "\n",
    "mylist6= [1,2,3,4,56,7,8,9]\n",
    "\n",
    "#see new list which goes from 1 to 5 excluding element at index 5\n",
    "a= mylist6[1:5]\n",
    "print(a)"
   ]
  },
  {
   "cell_type": "code",
   "execution_count": 182,
   "id": "5d5f5985",
   "metadata": {},
   "outputs": [
    {
     "name": "stdout",
     "output_type": "stream",
     "text": [
      "[1, 2, 3, 4, 56]\n"
     ]
    }
   ],
   "source": [
    "a= mylist6[:5]\n",
    "print(a)"
   ]
  },
  {
   "cell_type": "code",
   "execution_count": 183,
   "id": "d0e83016",
   "metadata": {},
   "outputs": [
    {
     "name": "stdout",
     "output_type": "stream",
     "text": [
      "[7, 8, 9]\n"
     ]
    }
   ],
   "source": [
    "a= mylist6[5:]\n",
    "print(a)"
   ]
  },
  {
   "cell_type": "code",
   "execution_count": null,
   "id": "1b9a3e5b",
   "metadata": {},
   "outputs": [],
   "source": [
    "#optional step index to use that just put another colon (by defailt step is 1)"
   ]
  },
  {
   "cell_type": "code",
   "execution_count": 184,
   "id": "df03e0cf",
   "metadata": {},
   "outputs": [
    {
     "name": "stdout",
     "output_type": "stream",
     "text": [
      "[1, 2, 3, 4, 56, 7, 8, 9]\n"
     ]
    }
   ],
   "source": [
    "a= mylist6[::]\n",
    "print(a)"
   ]
  },
  {
   "cell_type": "code",
   "execution_count": 185,
   "id": "ce9e8d96",
   "metadata": {},
   "outputs": [
    {
     "name": "stdout",
     "output_type": "stream",
     "text": [
      "[1, 3, 56, 8]\n"
     ]
    }
   ],
   "source": [
    "\n",
    "# first colon means go from beginning to end \n",
    "#second colon and 2 together means go with a step size of 2\n",
    "a= mylist6[::2]\n",
    "print(a)"
   ]
  },
  {
   "cell_type": "markdown",
   "id": "b4bbed9d",
   "metadata": {},
   "source": [
    "### here negative index -1 reverses a list"
   ]
  },
  {
   "cell_type": "code",
   "execution_count": 186,
   "id": "0e439b2f",
   "metadata": {},
   "outputs": [
    {
     "name": "stdout",
     "output_type": "stream",
     "text": [
      "[9, 8, 7, 56, 4, 3, 2, 1]\n"
     ]
    }
   ],
   "source": [
    "##here negative index -1 reverses a list\n",
    "\n",
    "a= mylist6[::-1]\n",
    "print(a)"
   ]
  },
  {
   "cell_type": "code",
   "execution_count": 187,
   "id": "63114efc",
   "metadata": {},
   "outputs": [
    {
     "name": "stdout",
     "output_type": "stream",
     "text": [
      "['banana', 'cherry', 'apple']\n"
     ]
    }
   ],
   "source": [
    "#copying a list (dont not assign directly using list_org=list_cpy as both will point to same memory location and changing 1 will change the other)\n",
    "\n",
    "list_org= [\"banana\",\"cherry\",\"apple\"]\n",
    "list_cpy= list_org.copy()\n",
    "print(list_cpy)"
   ]
  },
  {
   "cell_type": "code",
   "execution_count": 188,
   "id": "12132cda",
   "metadata": {},
   "outputs": [],
   "source": [
    "list_cpy.append(\"lemon\")"
   ]
  },
  {
   "cell_type": "code",
   "execution_count": 189,
   "id": "07a681d9",
   "metadata": {},
   "outputs": [
    {
     "name": "stdout",
     "output_type": "stream",
     "text": [
      "['banana', 'cherry', 'apple']\n",
      "['banana', 'cherry', 'apple', 'lemon']\n"
     ]
    }
   ],
   "source": [
    "print(list_org)\n",
    "print(list_cpy)"
   ]
  },
  {
   "cell_type": "code",
   "execution_count": 190,
   "id": "7289b93b",
   "metadata": {},
   "outputs": [],
   "source": [
    "#using list method to copy\n",
    "\n",
    "list_cpy = list(list_org)"
   ]
  },
  {
   "cell_type": "code",
   "execution_count": 191,
   "id": "1577cb41",
   "metadata": {},
   "outputs": [
    {
     "name": "stdout",
     "output_type": "stream",
     "text": [
      "['banana', 'cherry', 'apple']\n"
     ]
    }
   ],
   "source": [
    "print(list_cpy)"
   ]
  },
  {
   "cell_type": "code",
   "execution_count": null,
   "id": "0bf9fe49",
   "metadata": {},
   "outputs": [],
   "source": [
    "#using slicing\n",
    "#this colon means traversing of all elemnts of original list from beginng to end \n",
    "list_cpy = list_org[:]"
   ]
  },
  {
   "cell_type": "code",
   "execution_count": 196,
   "id": "9367a311",
   "metadata": {},
   "outputs": [],
   "source": [
    "#list compreshension to create new list fro org list using one line\n",
    "\n",
    "mylist9 = [1,2,3,4,5,6]\n",
    "b = [x*x for x in mylist9]\n",
    "###   ^---expression,  and then for in loop\n",
    "## for iterating we can use any local variable like x not required to be i"
   ]
  },
  {
   "cell_type": "code",
   "execution_count": 197,
   "id": "34e3c96b",
   "metadata": {},
   "outputs": [
    {
     "name": "stdout",
     "output_type": "stream",
     "text": [
      "[1, 2, 3, 4, 5, 6]\n",
      "[1, 4, 9, 16, 25, 36]\n"
     ]
    }
   ],
   "source": [
    "print(mylist9)\n",
    "print(b)"
   ]
  },
  {
   "cell_type": "markdown",
   "id": "dc507ae9",
   "metadata": {},
   "source": [
    "# All about tuples"
   ]
  },
  {
   "cell_type": "code",
   "execution_count": null,
   "id": "e77b66ee",
   "metadata": {},
   "outputs": [],
   "source": []
  },
  {
   "cell_type": "code",
   "execution_count": 199,
   "id": "13f14205",
   "metadata": {},
   "outputs": [
    {
     "name": "stdout",
     "output_type": "stream",
     "text": [
      "('Max', 28, 'Boston')\n"
     ]
    }
   ],
   "source": [
    "mytuple = (\"Max\", 28,\"Boston\")\n",
    "print(mytuple)"
   ]
  },
  {
   "cell_type": "code",
   "execution_count": null,
   "id": "886e355d",
   "metadata": {},
   "outputs": [],
   "source": [
    "#parenthesis is optional in tuple"
   ]
  },
  {
   "cell_type": "code",
   "execution_count": 200,
   "id": "37a54498",
   "metadata": {},
   "outputs": [
    {
     "name": "stdout",
     "output_type": "stream",
     "text": [
      "('Max', 28, 'Boston')\n"
     ]
    }
   ],
   "source": [
    "mytuple = \"Max\", 28,\"Boston\"\n",
    "print(mytuple)"
   ]
  },
  {
   "cell_type": "code",
   "execution_count": 201,
   "id": "7bbd6f07",
   "metadata": {},
   "outputs": [
    {
     "name": "stdout",
     "output_type": "stream",
     "text": [
      "<class 'str'>\n"
     ]
    }
   ],
   "source": [
    "#only one elment is notm recognised as tuple\n",
    "\n",
    "mytuple1 = (\"max\")\n",
    "print(type(mytuple1))"
   ]
  },
  {
   "cell_type": "code",
   "execution_count": 202,
   "id": "17560e1a",
   "metadata": {},
   "outputs": [
    {
     "name": "stdout",
     "output_type": "stream",
     "text": [
      "<class 'tuple'>\n"
     ]
    }
   ],
   "source": [
    "# so correct syntax is put a comma\n",
    "\n",
    "mytuple1 = (\"max\",)\n",
    "print(type(mytuple1))"
   ]
  },
  {
   "cell_type": "code",
   "execution_count": 203,
   "id": "d80aa6a4",
   "metadata": {},
   "outputs": [],
   "source": [
    "item  = mytuple[0]"
   ]
  },
  {
   "cell_type": "code",
   "execution_count": 204,
   "id": "d9627d9a",
   "metadata": {},
   "outputs": [
    {
     "name": "stdout",
     "output_type": "stream",
     "text": [
      "Max\n"
     ]
    }
   ],
   "source": [
    "print(item)"
   ]
  },
  {
   "cell_type": "code",
   "execution_count": 205,
   "id": "0417a176",
   "metadata": {},
   "outputs": [
    {
     "name": "stdout",
     "output_type": "stream",
     "text": [
      "28\n"
     ]
    }
   ],
   "source": [
    "item  = mytuple[1]\n",
    "print(item)"
   ]
  },
  {
   "cell_type": "code",
   "execution_count": 206,
   "id": "d69dee93",
   "metadata": {},
   "outputs": [
    {
     "ename": "IndexError",
     "evalue": "tuple index out of range",
     "output_type": "error",
     "traceback": [
      "\u001b[1;31m---------------------------------------------------------------------------\u001b[0m",
      "\u001b[1;31mIndexError\u001b[0m                                Traceback (most recent call last)",
      "\u001b[1;32m<ipython-input-206-97eb553afa95>\u001b[0m in \u001b[0;36m<module>\u001b[1;34m\u001b[0m\n\u001b[0;32m      1\u001b[0m \u001b[1;31m#very large index gives index error\u001b[0m\u001b[1;33m\u001b[0m\u001b[1;33m\u001b[0m\u001b[1;33m\u001b[0m\u001b[0m\n\u001b[0;32m      2\u001b[0m \u001b[1;33m\u001b[0m\u001b[0m\n\u001b[1;32m----> 3\u001b[1;33m \u001b[0mitem\u001b[0m  \u001b[1;33m=\u001b[0m \u001b[0mmytuple\u001b[0m\u001b[1;33m[\u001b[0m\u001b[1;36m3\u001b[0m\u001b[1;33m]\u001b[0m\u001b[1;33m\u001b[0m\u001b[1;33m\u001b[0m\u001b[0m\n\u001b[0m\u001b[0;32m      4\u001b[0m \u001b[0mprint\u001b[0m\u001b[1;33m(\u001b[0m\u001b[0mitem\u001b[0m\u001b[1;33m)\u001b[0m\u001b[1;33m\u001b[0m\u001b[1;33m\u001b[0m\u001b[0m\n",
      "\u001b[1;31mIndexError\u001b[0m: tuple index out of range"
     ]
    }
   ],
   "source": [
    "#very large index gives index error\n",
    "\n",
    "item  = mytuple[3]\n",
    "print(item)"
   ]
  },
  {
   "cell_type": "code",
   "execution_count": 207,
   "id": "bddba577",
   "metadata": {},
   "outputs": [
    {
     "ename": "TypeError",
     "evalue": "'tuple' object does not support item assignment",
     "output_type": "error",
     "traceback": [
      "\u001b[1;31m---------------------------------------------------------------------------\u001b[0m",
      "\u001b[1;31mTypeError\u001b[0m                                 Traceback (most recent call last)",
      "\u001b[1;32m<ipython-input-207-fbd5289e9333>\u001b[0m in \u001b[0;36m<module>\u001b[1;34m\u001b[0m\n\u001b[0;32m      1\u001b[0m \u001b[1;31m#tuple is immutable\u001b[0m\u001b[1;33m\u001b[0m\u001b[1;33m\u001b[0m\u001b[1;33m\u001b[0m\u001b[0m\n\u001b[0;32m      2\u001b[0m \u001b[1;33m\u001b[0m\u001b[0m\n\u001b[1;32m----> 3\u001b[1;33m \u001b[0mmytuple\u001b[0m\u001b[1;33m[\u001b[0m\u001b[1;36m0\u001b[0m\u001b[1;33m]\u001b[0m \u001b[1;33m=\u001b[0m \u001b[1;34m'tim'\u001b[0m\u001b[1;33m\u001b[0m\u001b[1;33m\u001b[0m\u001b[0m\n\u001b[0m",
      "\u001b[1;31mTypeError\u001b[0m: 'tuple' object does not support item assignment"
     ]
    }
   ],
   "source": [
    "#tuple is immutable\n",
    "\n",
    "mytuple[0] = 'tim'"
   ]
  },
  {
   "cell_type": "code",
   "execution_count": 209,
   "id": "f26d6bb9",
   "metadata": {},
   "outputs": [
    {
     "name": "stdout",
     "output_type": "stream",
     "text": [
      "Max\n",
      "28\n",
      "Boston\n"
     ]
    }
   ],
   "source": [
    "#iterating over tuple\n",
    "\n",
    "for i in mytuple:\n",
    "    print(i)"
   ]
  },
  {
   "cell_type": "code",
   "execution_count": 210,
   "id": "d8574d0f",
   "metadata": {},
   "outputs": [
    {
     "name": "stdout",
     "output_type": "stream",
     "text": [
      "Max\n",
      "28\n",
      "Boston\n"
     ]
    }
   ],
   "source": [
    "for x in mytuple:\n",
    "    print(x)"
   ]
  },
  {
   "cell_type": "code",
   "execution_count": 213,
   "id": "08a9cd81",
   "metadata": {},
   "outputs": [
    {
     "name": "stdout",
     "output_type": "stream",
     "text": [
      "yes\n"
     ]
    }
   ],
   "source": [
    "#check if elment is inside tuple\n",
    "\n",
    "if \"Max\"  in mytuple:\n",
    "    print(\"yes\")\n",
    "else:\n",
    "    print(\"No\")"
   ]
  },
  {
   "cell_type": "code",
   "execution_count": 214,
   "id": "6dc71a4a",
   "metadata": {},
   "outputs": [
    {
     "name": "stdout",
     "output_type": "stream",
     "text": [
      "No\n"
     ]
    }
   ],
   "source": [
    "#tuple is case sensitive\n",
    "if \"max\"  in mytuple:\n",
    "    print(\"yes\")\n",
    "else:\n",
    "    print(\"No\")"
   ]
  },
  {
   "cell_type": "code",
   "execution_count": 215,
   "id": "c1b5888e",
   "metadata": {},
   "outputs": [
    {
     "name": "stdout",
     "output_type": "stream",
     "text": [
      "No\n"
     ]
    }
   ],
   "source": [
    "if \"kevin\"  in mytuple:\n",
    "    print(\"yes\")\n",
    "else:\n",
    "    print(\"No\")"
   ]
  },
  {
   "cell_type": "code",
   "execution_count": 217,
   "id": "586c748c",
   "metadata": {},
   "outputs": [
    {
     "name": "stdout",
     "output_type": "stream",
     "text": [
      "5\n"
     ]
    }
   ],
   "source": [
    "#create a tuple with letters\n",
    "\n",
    "\n",
    "my_tuple = ['a',\"p\",\"p\",\"l\",\"e\"]\n",
    "\n",
    "#get length of tuple uisng len method\n",
    "\n",
    "print(len(my_tuple))"
   ]
  },
  {
   "cell_type": "code",
   "execution_count": 218,
   "id": "42a4420d",
   "metadata": {},
   "outputs": [
    {
     "name": "stdout",
     "output_type": "stream",
     "text": [
      "2\n"
     ]
    }
   ],
   "source": [
    "#count of elemets in tuple\n",
    "\n",
    "print(my_tuple.count('p'))"
   ]
  },
  {
   "cell_type": "code",
   "execution_count": 219,
   "id": "0348f9d0",
   "metadata": {},
   "outputs": [
    {
     "name": "stdout",
     "output_type": "stream",
     "text": [
      "1\n"
     ]
    }
   ],
   "source": [
    "#count of elemets in tuple\n",
    "\n",
    "print(my_tuple.count('l'))"
   ]
  },
  {
   "cell_type": "code",
   "execution_count": 221,
   "id": "74f2e3a0",
   "metadata": {},
   "outputs": [
    {
     "data": {
      "text/plain": [
       "0"
      ]
     },
     "execution_count": 221,
     "metadata": {},
     "output_type": "execute_result"
    }
   ],
   "source": [
    "#finding index of element\n",
    "\n",
    "my_tuple.index('a')"
   ]
  },
  {
   "cell_type": "code",
   "execution_count": 222,
   "id": "1f34ab76",
   "metadata": {},
   "outputs": [
    {
     "name": "stdout",
     "output_type": "stream",
     "text": [
      "['a', 'p', 'p', 'l', 'e']\n"
     ]
    }
   ],
   "source": [
    "#coverting a tuple to list using list and tuple function \n",
    "\n",
    "my_list = list(my_tuple)\n",
    "print(my_list)"
   ]
  },
  {
   "cell_type": "code",
   "execution_count": 224,
   "id": "022de49a",
   "metadata": {},
   "outputs": [
    {
     "name": "stdout",
     "output_type": "stream",
     "text": [
      "('a', 'p', 'p', 'l', 'e')\n"
     ]
    }
   ],
   "source": [
    "my_tuple2= tuple(my_list)\n",
    "print(my_tuple2)"
   ]
  },
  {
   "cell_type": "code",
   "execution_count": 226,
   "id": "c1043720",
   "metadata": {},
   "outputs": [
    {
     "name": "stdout",
     "output_type": "stream",
     "text": [
      "(3, 4, 5)\n"
     ]
    }
   ],
   "source": [
    "#slicing with tuples\n",
    "\n",
    "a = (1,2,3,4,5,6,7,8,9)\n",
    "\n",
    "b= a[2:5]\n",
    "print(b)"
   ]
  },
  {
   "cell_type": "code",
   "execution_count": 227,
   "id": "81cf8168",
   "metadata": {},
   "outputs": [
    {
     "name": "stdout",
     "output_type": "stream",
     "text": [
      "(1, 2, 3, 4, 5)\n"
     ]
    }
   ],
   "source": [
    "a = (1,2,3,4,5,6,7,8,9)\n",
    "\n",
    "b= a[:5]\n",
    "print(b)"
   ]
  },
  {
   "cell_type": "code",
   "execution_count": 228,
   "id": "b29d302b",
   "metadata": {},
   "outputs": [
    {
     "name": "stdout",
     "output_type": "stream",
     "text": [
      "(6, 7, 8, 9)\n"
     ]
    }
   ],
   "source": [
    "a = (1,2,3,4,5,6,7,8,9)\n",
    "\n",
    "b= a[5:]\n",
    "print(b)"
   ]
  },
  {
   "cell_type": "code",
   "execution_count": 229,
   "id": "e3e415d9",
   "metadata": {},
   "outputs": [
    {
     "name": "stdout",
     "output_type": "stream",
     "text": [
      "(1, 3, 5, 7, 9)\n"
     ]
    }
   ],
   "source": [
    "# first colon go from begiing to end using\n",
    "#go from beginning to end using step of 2(consider alternate 2nd element)\n",
    "\n",
    "a = (1,2,3,4,5,6,7,8,9)\n",
    "\n",
    "b= a[::2]\n",
    "print(b)"
   ]
  },
  {
   "cell_type": "code",
   "execution_count": 230,
   "id": "2ece045c",
   "metadata": {},
   "outputs": [
    {
     "name": "stdout",
     "output_type": "stream",
     "text": [
      "(9, 8, 7, 6, 5, 4, 3, 2, 1)\n"
     ]
    }
   ],
   "source": [
    "a = (1,2,3,4,5,6,7,8,9)\n",
    "\n",
    "b= a[::-1]\n",
    "print(b)\n",
    "\n",
    "#reverses the tuple"
   ]
  },
  {
   "cell_type": "code",
   "execution_count": 232,
   "id": "81307ed1",
   "metadata": {},
   "outputs": [
    {
     "name": "stdout",
     "output_type": "stream",
     "text": [
      "Max\n",
      "28\n",
      "Boston\n"
     ]
    }
   ],
   "source": [
    "#unpacking of tuple\n",
    "\n",
    "my_tuple = \"Max\",28,\"Boston\"\n",
    "\n",
    "#we can unpack using variables name, age city\n",
    "\n",
    "name,age,city = my_tuple\n",
    "print(name)\n",
    "print(age)\n",
    "print(city)"
   ]
  },
  {
   "cell_type": "code",
   "execution_count": 233,
   "id": "eac5c243",
   "metadata": {},
   "outputs": [
    {
     "ename": "ValueError",
     "evalue": "too many values to unpack (expected 2)",
     "output_type": "error",
     "traceback": [
      "\u001b[1;31m---------------------------------------------------------------------------\u001b[0m",
      "\u001b[1;31mValueError\u001b[0m                                Traceback (most recent call last)",
      "\u001b[1;32m<ipython-input-233-4e8b657b21d8>\u001b[0m in \u001b[0;36m<module>\u001b[1;34m\u001b[0m\n\u001b[1;32m----> 1\u001b[1;33m \u001b[0mname\u001b[0m\u001b[1;33m,\u001b[0m\u001b[0mage\u001b[0m \u001b[1;33m=\u001b[0m \u001b[0mmy_tuple\u001b[0m\u001b[1;33m\u001b[0m\u001b[1;33m\u001b[0m\u001b[0m\n\u001b[0m\u001b[0;32m      2\u001b[0m \u001b[0mprint\u001b[0m\u001b[1;33m(\u001b[0m\u001b[0mname\u001b[0m\u001b[1;33m)\u001b[0m\u001b[1;33m\u001b[0m\u001b[1;33m\u001b[0m\u001b[0m\n\u001b[0;32m      3\u001b[0m \u001b[0mprint\u001b[0m\u001b[1;33m(\u001b[0m\u001b[0mage\u001b[0m\u001b[1;33m)\u001b[0m\u001b[1;33m\u001b[0m\u001b[1;33m\u001b[0m\u001b[0m\n\u001b[0;32m      4\u001b[0m \u001b[0mprint\u001b[0m\u001b[1;33m(\u001b[0m\u001b[0mcity\u001b[0m\u001b[1;33m)\u001b[0m\u001b[1;33m\u001b[0m\u001b[1;33m\u001b[0m\u001b[0m\n",
      "\u001b[1;31mValueError\u001b[0m: too many values to unpack (expected 2)"
     ]
    }
   ],
   "source": [
    "name,age = my_tuple\n",
    "print(name)\n",
    "print(age)\n",
    "print(city)\n",
    "\n",
    "#no. of elements and variable must be same else we get value error "
   ]
  },
  {
   "cell_type": "code",
   "execution_count": 234,
   "id": "7b00c096",
   "metadata": {},
   "outputs": [
    {
     "name": "stdout",
     "output_type": "stream",
     "text": [
      "0\n",
      "[1, 2, 3]\n",
      "4\n"
     ]
    }
   ],
   "source": [
    "my_tuple5 = (0,1,2,3,4)\n",
    "\n",
    "i1, *i2, i3 = my_tuple5\n",
    "print(i1)\n",
    "print(i2)\n",
    "print(i3)\n",
    "\n",
    "# star (*) operator is ussed to unpack multiple elements in a tuple but it will be coverted to list\n",
    "#i1 element at 0th index\n",
    "#i3 element at last index"
   ]
  },
  {
   "cell_type": "code",
   "execution_count": 236,
   "id": "1c5666fa",
   "metadata": {},
   "outputs": [
    {
     "name": "stdout",
     "output_type": "stream",
     "text": [
      "104 bytes\n",
      "88 bytes\n"
     ]
    }
   ],
   "source": [
    "#working with tuople is more efficient than list\n",
    "\n",
    "import sys\n",
    "my_list = [0,1,2,\"hello\",True]\n",
    "my_tuple = (0,1,2,\"hello\",True)\n",
    "print(sys.getsizeof(my_list),\"bytes\")\n",
    "print(sys.getsizeof(my_tuple),\"bytes\")\n",
    "\n",
    "#even though same elements we see tuple is smaller"
   ]
  },
  {
   "cell_type": "code",
   "execution_count": 238,
   "id": "1dedcf92",
   "metadata": {},
   "outputs": [
    {
     "name": "stdout",
     "output_type": "stream",
     "text": [
      "0.046173399983672425\n",
      "0.006915600009961054\n"
     ]
    }
   ],
   "source": [
    "import timeit\n",
    "print(timeit.timeit(stmt=\"[0,12,3,4,5]\",number=1000000))\n",
    "print(timeit.timeit(stmt=\"(0,12,3,4,5)\",number=1000000))"
   ]
  },
  {
   "cell_type": "code",
   "execution_count": null,
   "id": "63019830",
   "metadata": {},
   "outputs": [],
   "source": []
  },
  {
   "cell_type": "code",
   "execution_count": null,
   "id": "e62452e4",
   "metadata": {},
   "outputs": [],
   "source": []
  },
  {
   "cell_type": "code",
   "execution_count": null,
   "id": "5fcf2b63",
   "metadata": {},
   "outputs": [],
   "source": []
  },
  {
   "cell_type": "code",
   "execution_count": null,
   "id": "884b3918",
   "metadata": {},
   "outputs": [],
   "source": []
  },
  {
   "cell_type": "code",
   "execution_count": null,
   "id": "07d0df82",
   "metadata": {},
   "outputs": [],
   "source": []
  },
  {
   "cell_type": "code",
   "execution_count": null,
   "id": "98093661",
   "metadata": {},
   "outputs": [],
   "source": []
  },
  {
   "cell_type": "code",
   "execution_count": null,
   "id": "3837dce1",
   "metadata": {},
   "outputs": [],
   "source": []
  },
  {
   "cell_type": "code",
   "execution_count": null,
   "id": "fe95b79b",
   "metadata": {},
   "outputs": [],
   "source": []
  },
  {
   "cell_type": "code",
   "execution_count": null,
   "id": "50758d48",
   "metadata": {},
   "outputs": [],
   "source": [
    "\n"
   ]
  },
  {
   "cell_type": "code",
   "execution_count": null,
   "id": "a9d06633",
   "metadata": {},
   "outputs": [],
   "source": []
  },
  {
   "cell_type": "code",
   "execution_count": null,
   "id": "81dd2341",
   "metadata": {},
   "outputs": [],
   "source": []
  },
  {
   "cell_type": "code",
   "execution_count": null,
   "id": "eca90de6",
   "metadata": {},
   "outputs": [],
   "source": []
  },
  {
   "cell_type": "code",
   "execution_count": null,
   "id": "ef5ce304",
   "metadata": {},
   "outputs": [],
   "source": []
  },
  {
   "cell_type": "code",
   "execution_count": null,
   "id": "7cd370ef",
   "metadata": {},
   "outputs": [],
   "source": []
  }
 ],
 "metadata": {
  "kernelspec": {
   "display_name": "Python 3",
   "language": "python",
   "name": "python3"
  },
  "language_info": {
   "codemirror_mode": {
    "name": "ipython",
    "version": 3
   },
   "file_extension": ".py",
   "mimetype": "text/x-python",
   "name": "python",
   "nbconvert_exporter": "python",
   "pygments_lexer": "ipython3",
   "version": "3.7.11"
  }
 },
 "nbformat": 4,
 "nbformat_minor": 5
}
