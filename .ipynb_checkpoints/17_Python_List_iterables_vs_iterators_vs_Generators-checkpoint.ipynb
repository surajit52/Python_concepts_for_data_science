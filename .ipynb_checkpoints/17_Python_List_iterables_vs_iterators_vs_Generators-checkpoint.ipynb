{
 "cells": [
  {
   "cell_type": "markdown",
   "id": "5f3dc307",
   "metadata": {},
   "source": [
    "# Python List Iterables vs Iterators vs Generators"
   ]
  },
  {
   "cell_type": "code",
   "execution_count": 17,
   "id": "95c255ea",
   "metadata": {},
   "outputs": [
    {
     "name": "stdout",
     "output_type": "stream",
     "text": [
      "1\n",
      "2\n",
      "3\n",
      "4\n",
      "5\n"
     ]
    }
   ],
   "source": [
    "lst = [1,2,3,4,5]\n",
    "\n",
    "\n",
    "for i in lst:\n",
    "    print(i)"
   ]
  },
  {
   "cell_type": "code",
   "execution_count": 18,
   "id": "b71cb1cb",
   "metadata": {},
   "outputs": [],
   "source": [
    "#Here lists lst = [1,2,3,4,5] is called iterators"
   ]
  },
  {
   "cell_type": "code",
   "execution_count": null,
   "id": "bdcb6c48",
   "metadata": {},
   "outputs": [],
   "source": []
  },
  {
   "cell_type": "code",
   "execution_count": 19,
   "id": "6aa60d80",
   "metadata": {},
   "outputs": [],
   "source": [
    "#Iter built in function is used to define an iterator "
   ]
  },
  {
   "cell_type": "code",
   "execution_count": 20,
   "id": "c95529a0",
   "metadata": {},
   "outputs": [
    {
     "data": {
      "text/plain": [
       "<list_iterator at 0x178f808a248>"
      ]
     },
     "execution_count": 20,
     "metadata": {},
     "output_type": "execute_result"
    }
   ],
   "source": [
    "iter(lst)"
   ]
  },
  {
   "cell_type": "code",
   "execution_count": 21,
   "id": "fccde223",
   "metadata": {},
   "outputs": [],
   "source": [
    "#Properties of an iterator vs iterable:\n",
    "\n",
    "#in iterable that is the list as soon  as we initialize the list all the values are initialized in memory\n",
    "#in case of iterator not all value are initialized in memory at once it will be initialized one by one\n",
    "#as soon as we call afunction next then only the foirst element will be initiaized in the list"
   ]
  },
  {
   "cell_type": "code",
   "execution_count": 22,
   "id": "6e786b21",
   "metadata": {},
   "outputs": [],
   "source": [
    "lst1 = iter(lst)\n",
    "\n",
    "#here lst1 is iterator"
   ]
  },
  {
   "cell_type": "code",
   "execution_count": 7,
   "id": "96c4c043",
   "metadata": {},
   "outputs": [
    {
     "data": {
      "text/plain": [
       "<list_iterator at 0x178f7ef1988>"
      ]
     },
     "execution_count": 7,
     "metadata": {},
     "output_type": "execute_result"
    }
   ],
   "source": [
    "lst1"
   ]
  },
  {
   "cell_type": "code",
   "execution_count": 8,
   "id": "51b5ec3c",
   "metadata": {},
   "outputs": [],
   "source": [
    "#how to retrieve elements in iterator as the memory  is not initialised in the inbuilt function\n",
    "#we can intialize the elements in iterator using next function one by one"
   ]
  },
  {
   "cell_type": "code",
   "execution_count": 9,
   "id": "221ecd3b",
   "metadata": {},
   "outputs": [
    {
     "data": {
      "text/plain": [
       "1"
      ]
     },
     "execution_count": 9,
     "metadata": {},
     "output_type": "execute_result"
    }
   ],
   "source": [
    "next(lst1)\n",
    "#first element is initialized"
   ]
  },
  {
   "cell_type": "code",
   "execution_count": 10,
   "id": "72f8b4cd",
   "metadata": {},
   "outputs": [
    {
     "data": {
      "text/plain": [
       "2"
      ]
     },
     "execution_count": 10,
     "metadata": {},
     "output_type": "execute_result"
    }
   ],
   "source": [
    "next(lst1)\n",
    "#second element is initialized"
   ]
  },
  {
   "cell_type": "code",
   "execution_count": 11,
   "id": "e54cfdc6",
   "metadata": {},
   "outputs": [
    {
     "data": {
      "text/plain": [
       "3"
      ]
     },
     "execution_count": 11,
     "metadata": {},
     "output_type": "execute_result"
    }
   ],
   "source": [
    "next(lst1)\n",
    "#third element is initialized"
   ]
  },
  {
   "cell_type": "code",
   "execution_count": 12,
   "id": "0754f4b6",
   "metadata": {},
   "outputs": [
    {
     "data": {
      "text/plain": [
       "4"
      ]
     },
     "execution_count": 12,
     "metadata": {},
     "output_type": "execute_result"
    }
   ],
   "source": [
    "next(lst1)\n",
    "#fourth element is initialized"
   ]
  },
  {
   "cell_type": "code",
   "execution_count": 13,
   "id": "ebbfb991",
   "metadata": {},
   "outputs": [
    {
     "data": {
      "text/plain": [
       "5"
      ]
     },
     "execution_count": 13,
     "metadata": {},
     "output_type": "execute_result"
    }
   ],
   "source": [
    "next(lst1)\n",
    "#fifth element is initialized"
   ]
  },
  {
   "cell_type": "code",
   "execution_count": 14,
   "id": "21123a16",
   "metadata": {},
   "outputs": [
    {
     "ename": "StopIteration",
     "evalue": "",
     "output_type": "error",
     "traceback": [
      "\u001b[1;31m---------------------------------------------------------------------------\u001b[0m",
      "\u001b[1;31mStopIteration\u001b[0m                             Traceback (most recent call last)",
      "\u001b[1;32m<ipython-input-14-eb8c23d81a3c>\u001b[0m in \u001b[0;36m<module>\u001b[1;34m\u001b[0m\n\u001b[1;32m----> 1\u001b[1;33m \u001b[0mnext\u001b[0m\u001b[1;33m(\u001b[0m\u001b[0mlst1\u001b[0m\u001b[1;33m)\u001b[0m\u001b[1;33m\u001b[0m\u001b[1;33m\u001b[0m\u001b[0m\n\u001b[0m\u001b[0;32m      2\u001b[0m \u001b[1;31m#after fifth element is initialized we dont have any other elemnts present in list so to restart we have to begin from  line 6\u001b[0m\u001b[1;33m\u001b[0m\u001b[1;33m\u001b[0m\u001b[1;33m\u001b[0m\u001b[0m\n",
      "\u001b[1;31mStopIteration\u001b[0m: "
     ]
    }
   ],
   "source": [
    "next(lst1)\n",
    "#after fifth element is initialized we dont have any other elemnts present in list so to restart we have to begin from  line 6"
   ]
  },
  {
   "cell_type": "code",
   "execution_count": 15,
   "id": "bdd55c0a",
   "metadata": {},
   "outputs": [],
   "source": [
    "#if we have large list of elements and we don't want to initialize all values in memeory at once then iterators come in handy"
   ]
  },
  {
   "cell_type": "code",
   "execution_count": 16,
   "id": "7c6ce7ab",
   "metadata": {},
   "outputs": [],
   "source": [
    "#itertors can also be initialized using for loop"
   ]
  },
  {
   "cell_type": "code",
   "execution_count": 23,
   "id": "d16a3da4",
   "metadata": {},
   "outputs": [
    {
     "name": "stdout",
     "output_type": "stream",
     "text": [
      "1\n",
      "2\n",
      "3\n",
      "4\n",
      "5\n"
     ]
    }
   ],
   "source": [
    "for i in lst1:\n",
    "    print(i)\n",
    "    \n",
    "#in for loop for itertor the error(stop iteration) in line 14 is handled\n",
    "#as soon as we reach last element it will come out of for loop"
   ]
  },
  {
   "cell_type": "markdown",
   "id": "c4aa5c05",
   "metadata": {},
   "source": [
    "### Generator"
   ]
  },
  {
   "cell_type": "code",
   "execution_count": null,
   "id": "5d708be2",
   "metadata": {},
   "outputs": [],
   "source": [
    "#generator are basically used to create iterrators"
   ]
  },
  {
   "cell_type": "code",
   "execution_count": 25,
   "id": "ae18589a",
   "metadata": {},
   "outputs": [],
   "source": [
    "def square(n):\n",
    "    for i in range(n):\n",
    "        return i*i"
   ]
  },
  {
   "cell_type": "code",
   "execution_count": 29,
   "id": "9e8b88dd",
   "metadata": {},
   "outputs": [
    {
     "data": {
      "text/plain": [
       "0"
      ]
     },
     "execution_count": 29,
     "metadata": {},
     "output_type": "execute_result"
    }
   ],
   "source": [
    "square(3)\n",
    "\n",
    "#i am getting output as 3, becuae it is going through (0 to 3) and returning the square of first value i.e 0"
   ]
  },
  {
   "cell_type": "code",
   "execution_count": null,
   "id": "dcfccf20",
   "metadata": {},
   "outputs": [],
   "source": [
    "#what will happen if i replace return by yield"
   ]
  },
  {
   "cell_type": "code",
   "execution_count": 30,
   "id": "09405e4f",
   "metadata": {},
   "outputs": [],
   "source": [
    "def square(n):\n",
    "    for i in range(n):\n",
    "        yield i*i"
   ]
  },
  {
   "cell_type": "code",
   "execution_count": 31,
   "id": "98ae31b3",
   "metadata": {},
   "outputs": [
    {
     "data": {
      "text/plain": [
       "<generator object square at 0x00000178F7FFA048>"
      ]
     },
     "execution_count": 31,
     "metadata": {},
     "output_type": "execute_result"
    }
   ],
   "source": [
    "square(3)"
   ]
  },
  {
   "cell_type": "code",
   "execution_count": 32,
   "id": "e286700a",
   "metadata": {},
   "outputs": [],
   "source": [
    "#this generator is inturn creating an iterator and we know we can loop through an iterator\n"
   ]
  },
  {
   "cell_type": "code",
   "execution_count": 33,
   "id": "5eb14ed9",
   "metadata": {},
   "outputs": [
    {
     "name": "stdout",
     "output_type": "stream",
     "text": [
      "0\n",
      "1\n",
      "4\n"
     ]
    }
   ],
   "source": [
    "for i in square(3):\n",
    "    print(i)\n",
    "    "
   ]
  },
  {
   "cell_type": "code",
   "execution_count": 34,
   "id": "2411c24b",
   "metadata": {},
   "outputs": [],
   "source": [
    "#yield keyword will return with respect to all iterations an saving the values\n",
    "#whereas the return keyword in line 25 just returned square of 1st element"
   ]
  },
  {
   "cell_type": "markdown",
   "id": "54480ac8",
   "metadata": {},
   "source": [
    "#### Difference between iterator and Generator\n",
    "  1. To create an iterator we use iter function and to create a generator we use function along with yield keyword\n",
    "  2. Generator uses the yield keyword. Generator saves the local variable value\n",
    "  3. Generator in python let is write fast and compact code\n",
    "  4. Python iterator is much more memory efficient."
   ]
  },
  {
   "cell_type": "code",
   "execution_count": 36,
   "id": "c02b2fa4",
   "metadata": {},
   "outputs": [],
   "source": [
    "import types,collections"
   ]
  },
  {
   "cell_type": "code",
   "execution_count": 39,
   "id": "7117fd29",
   "metadata": {},
   "outputs": [
    {
     "name": "stderr",
     "output_type": "stream",
     "text": [
      "D:\\Drivers\\Anaconda\\lib\\site-packages\\ipykernel_launcher.py:1: DeprecationWarning: Using or importing the ABCs from 'collections' instead of from 'collections.abc' is deprecated since Python 3.3,and in 3.9 it will stop working\n",
      "  \"\"\"Entry point for launching an IPython kernel.\n"
     ]
    },
    {
     "data": {
      "text/plain": [
       "True"
      ]
     },
     "execution_count": 39,
     "metadata": {},
     "output_type": "execute_result"
    }
   ],
   "source": [
    "issubclass(types.GeneratorType, collections.Iterator)"
   ]
  },
  {
   "cell_type": "code",
   "execution_count": null,
   "id": "f82c380b",
   "metadata": {},
   "outputs": [],
   "source": []
  },
  {
   "cell_type": "code",
   "execution_count": null,
   "id": "a02d78ff",
   "metadata": {},
   "outputs": [],
   "source": []
  },
  {
   "cell_type": "code",
   "execution_count": null,
   "id": "4ae8b274",
   "metadata": {},
   "outputs": [],
   "source": []
  },
  {
   "cell_type": "code",
   "execution_count": null,
   "id": "c3dbd19b",
   "metadata": {},
   "outputs": [],
   "source": []
  },
  {
   "cell_type": "code",
   "execution_count": null,
   "id": "6b5a5417",
   "metadata": {},
   "outputs": [],
   "source": []
  },
  {
   "cell_type": "code",
   "execution_count": null,
   "id": "af6038bf",
   "metadata": {},
   "outputs": [],
   "source": []
  },
  {
   "cell_type": "code",
   "execution_count": null,
   "id": "43303e33",
   "metadata": {},
   "outputs": [],
   "source": []
  },
  {
   "cell_type": "code",
   "execution_count": null,
   "id": "225cc850",
   "metadata": {},
   "outputs": [],
   "source": []
  },
  {
   "cell_type": "code",
   "execution_count": null,
   "id": "1becf703",
   "metadata": {},
   "outputs": [],
   "source": []
  },
  {
   "cell_type": "code",
   "execution_count": null,
   "id": "18dd2d8d",
   "metadata": {},
   "outputs": [],
   "source": []
  },
  {
   "cell_type": "code",
   "execution_count": null,
   "id": "657463cb",
   "metadata": {},
   "outputs": [],
   "source": []
  },
  {
   "cell_type": "code",
   "execution_count": null,
   "id": "5b39eb03",
   "metadata": {},
   "outputs": [],
   "source": []
  },
  {
   "cell_type": "code",
   "execution_count": null,
   "id": "76fe8d80",
   "metadata": {},
   "outputs": [],
   "source": []
  },
  {
   "cell_type": "code",
   "execution_count": null,
   "id": "43eea9a0",
   "metadata": {},
   "outputs": [],
   "source": []
  },
  {
   "cell_type": "code",
   "execution_count": null,
   "id": "c067a839",
   "metadata": {},
   "outputs": [],
   "source": []
  }
 ],
 "metadata": {
  "kernelspec": {
   "display_name": "Python 3",
   "language": "python",
   "name": "python3"
  },
  "language_info": {
   "codemirror_mode": {
    "name": "ipython",
    "version": 3
   },
   "file_extension": ".py",
   "mimetype": "text/x-python",
   "name": "python",
   "nbconvert_exporter": "python",
   "pygments_lexer": "ipython3",
   "version": "3.7.11"
  }
 },
 "nbformat": 4,
 "nbformat_minor": 5
}
